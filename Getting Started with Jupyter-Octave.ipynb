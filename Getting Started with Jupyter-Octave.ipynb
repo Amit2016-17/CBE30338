{
 "cells": [
  {
   "cell_type": "markdown",
   "metadata": {},
   "source": [
    "# Getting Started with Jupyter-Octave"
   ]
  },
  {
   "cell_type": "markdown",
   "metadata": {},
   "source": [
    "## Installation\n",
    "\n",
    "### MacOS (El Capitan)\n",
    "\n",
    "1. If you haven't already done so, update MacOS to the latest version, 10.11 (El Capitan). This is a free upgrade available through the Mac App Store.\n",
    "\n",
    "2. Install XCode from the Mac App Store. Then open a terminal window (look in the Applications>Utilities folder for the terminal App.  It's a good idea to set this to 'Keep in Dock'), and run the command \n",
    "\n",
    "    xcode-select --install\n",
    "\n",
    "3. Install the [homebrew package manager](http://brew.sh/) (if you haven't already done so). \n",
    "  \n",
    "  ruby -e \"$(curl -fsSL https://raw.githubusercontent.com/Homebrew/install/master/install)\" \n",
    "   \n",
    "4. Install prerequisites for Octave\n",
    "\n",
    "  brew install caskroom/cask/brew-cask \n",
    "  brew cask install xquartz \n",
    "  brew cask install mactex \n",
    "  brew install curl \n",
    "   \n",
    "5. Install Octave\n",
    "\n",
    "  brew tap homebrew/science \n",
    "  export PATH=\"$PATH:/usr/texbin\" \n",
    "  brew install octave --with-docs --with-x11\n",
    "   \n",
    "6. Reinstall gnuplot (not sure why, but this makes it work)\n",
    "\n",
    "  brew uninstall gnuplot\n",
    "  brew install gnuplot --with-x11\n",
    "   \n",
    "7. Create a file for your home directory called `~/.octaverc` with a single line\n",
    "\n",
    "  setenv(\"GNUTERM\", \"X11\")\n",
    "     \n",
    "8. Then reboot.  Reopen the terminal window and enter the command `octave`. Try a few commands, including a few plot commands. You ahouls have a working version of Octave accessible via the command window.\n",
    "\n",
    "9. Install octave kernal support.\n",
    "\n",
    "  pip install octave_kernal\n",
    "   \n",
    "10. Start up a Jupyter notebook session.\n",
    "\n",
    "  jupyter notebook\n",
    "  \n",
    "From this point on, everything should be working. You should be able to create, open, save, and execute Python and Octave notebooks.\n",
    "  \n",
    "  \n",
    "  \n",
    "\n",
    "\n"
   ]
  },
  {
   "cell_type": "code",
   "execution_count": null,
   "metadata": {
    "collapsed": true
   },
   "outputs": [],
   "source": [
    "pkg install -forge general\n",
    "pkg install -forge control\n",
    "pkg install -forge signal\n",
    "pkg install -forge image"
   ]
  },
  {
   "cell_type": "code",
   "execution_count": null,
   "metadata": {
    "collapsed": true
   },
   "outputs": [],
   "source": [
    "pkg install -forge control"
   ]
  },
  {
   "cell_type": "markdown",
   "metadata": {},
   "source": [
    "## Check Installation on Student Computers\n",
    "\n",
    "Please run this script, publish the results, and submit the results via Sakai. The purpose of this script is to verify installation of Octave/Matlab and so that we understand what computer platforms need to be supported."
   ]
  },
  {
   "cell_type": "code",
   "execution_count": 3,
   "metadata": {
    "collapsed": false
   },
   "outputs": [
    {
     "data": {
      "text/plain": [
       "\u001b[H\u001b[2J      Version: 4.0.0\r\n",
       "Computer Type: x86_64-apple-darwin15.0.0\r\n",
       "Computer Name: Jeffreys-MBP\r\n",
       "\r\n",
       "Package Name  | Version | Installation directory\r\n",
       "--------------+---------+-----------------------\r\n",
       "     general  |   2.0.0 | /Users/jeff/octave/general-2.0.0\r\n"
      ]
     },
     "execution_count": 3,
     "metadata": {},
     "output_type": "execute_result"
    }
   ],
   "source": [
    "[ret, name] = system('hostname');   \n",
    "\n",
    "if ret ~= 0,\n",
    "    if ispc\n",
    "       name = getenv('COMPUTERNAME');\n",
    "    else      \n",
    "       name = getenv('HOSTNAME');      \n",
    "    end\n",
    "end\n",
    "\n",
    "%% Report Results\n",
    "\n",
    "clc;\n",
    "disp(['      Version: ',version]);\n",
    "disp(['Computer Type: ',computer]);\n",
    "disp(['Computer Name: ',name(1:end-1)]);\n",
    "printf '\\n';\n",
    "pkg list"
   ]
  },
  {
   "cell_type": "code",
   "execution_count": null,
   "metadata": {
    "collapsed": false
   },
   "outputs": [],
   "source": [
    "sombrero"
   ]
  },
  {
   "cell_type": "code",
   "execution_count": null,
   "metadata": {
    "collapsed": false
   },
   "outputs": [],
   "source": [
    "pkg install -forge control"
   ]
  },
  {
   "cell_type": "code",
   "execution_count": 6,
   "metadata": {
    "collapsed": false
   },
   "outputs": [
    {
     "data": {
      "text/plain": [
       "make: *** [slicotlibrary.a] Error 2\r\n",
       "\r\n"
      ]
     },
     "execution_count": 6,
     "metadata": {},
     "output_type": "execute_result"
    }
   ],
   "source": [
    "12+23"
   ]
  },
  {
   "cell_type": "code",
   "execution_count": 7,
   "metadata": {
    "collapsed": false
   },
   "outputs": [
    {
     "data": {
      "text/plain": [
       "hello"
      ]
     },
     "execution_count": 7,
     "metadata": {},
     "output_type": "execute_result"
    }
   ],
   "source": [
    "printf \"hello\""
   ]
  },
  {
   "cell_type": "code",
   "execution_count": 8,
   "metadata": {
    "collapsed": false
   },
   "outputs": [
    {
     "data": {
      "text/plain": [
       "Package Name  | Version | Installation directory\r\n",
       "--------------+---------+-----------------------\r\n",
       "     general  |   2.0.0 | /Users/jeff/octave/general-2.0.0\r\n"
      ]
     },
     "execution_count": 8,
     "metadata": {},
     "output_type": "execute_result"
    }
   ],
   "source": [
    "pkg list"
   ]
  },
  {
   "cell_type": "code",
   "execution_count": null,
   "metadata": {
    "collapsed": true
   },
   "outputs": [],
   "source": []
  }
 ],
 "metadata": {
  "kernelspec": {
   "display_name": "Octave",
   "language": "octave",
   "name": "octave_kernel"
  },
  "language_info": {
   "codemirror_mode": "Octave",
   "file_extension": ".m",
   "help_links": [
    {
     "text": "MetaKernel Magics",
     "url": "https://github.com/calysto/metakernel/blob/master/metakernel/magics/README.md"
    }
   ],
   "mimetype": "text/x-octave",
   "name": "octave_kernel"
  }
 },
 "nbformat": 4,
 "nbformat_minor": 0
}

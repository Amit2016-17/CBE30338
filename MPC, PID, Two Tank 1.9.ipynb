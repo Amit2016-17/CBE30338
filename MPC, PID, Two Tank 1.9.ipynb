{
 "cells": [
  {
   "cell_type": "code",
   "execution_count": 151,
   "metadata": {
    "collapsed": false
   },
   "outputs": [],
   "source": [
    "# Gravity Drained Tanks in Series\n",
    "# We'll start with a straightforward model for a pair of gravity drained\n",
    "#% tanks in series. \n",
    "#%\n",
    "#%    _______\n",
    "#%           |  q_in (manipulated)\n",
    "#%           v\n",
    "#%        -------\n",
    "#%       |       |  Area = A1\n",
    "#%       |       |\n",
    "#%        -------\n",
    "#%    ----   |\n",
    "#    q_d  |  |  q1 = C1*sqrt(h1)\n",
    "#%        v  v\n",
    "#%        -------\n",
    "#%       |       |  Area = A2\n",
    "#%       |       |\n",
    "#%        -------\n",
    "#%           |\n",
    "#%            -----> q2 = C2*sqrt(h2)\n",
    "#%\n",
    "# % The model equations are\n",
    "# %\n",
    "#%   dh(1)/dt = (qin(t) - C1*sqrt(h(1)))/A1\n",
    "#%   dh(2)/dt = (qd(t) + C1*sqrt(h(1)) - C2*sqrt(h(2)))/A2\n",
    "#%\n",
    "#% q_d is an unmeasured inflow to tank 2. The control objective is to\n",
    "#% maintain a desired level in tank 2 and thereby a steady outflow q2 by\n",
    "#% adjusting the manipulable variable q_in.\n",
    "#%\n",
    "#% The right hand side of the differential equations are given in the form a\n",
    "#% function of time (t), a vector of tank levels (h), and functions of time\n",
    "#% that return values for qin(t) and qd(t)\n",
    "\n",
    "# import imporant packages\n",
    "import math \n",
    "import numpy\n",
    "import numpy as np\n",
    "from scipy.integrate import odeint\n",
    "import matplotlib.pyplot as plt\n",
    "import pylab\n",
    "from operator import add \n",
    "%matplotlib inline\n",
    "\n",
    "\n",
    "# Model Parameters\n",
    "\n",
    "A1 = 2.0;\n",
    "C1 = 1.2;\n",
    "A2 = 3.0;\n",
    "C2 = 1.0;\n",
    "h1store = [0];\n",
    "h2store = [0];\n",
    "Hmatrix = np.matrix([h1store,h2store])\n",
    "qin = []\n",
    "qd = []\n",
    "# Model equations\n",
    "\n",
    "def dHtankone(t,h1,qin,qd):\n",
    "    dh = (qin - C1*math.sqrt(h1))/A1\n",
    "    return dh\n",
    "def dHtanktwo(t,h1,h2,qin,qd):\n",
    "    dhtwo = (qd + C1*math.sqrt(h1) - C2*math.sqrt(h2))/A2\n",
    "    return dhtwo\n",
    "dHtanktwo(10,10,10,10,10);"
   ]
  },
  {
   "cell_type": "code",
   "execution_count": 152,
   "metadata": {
    "collapsed": false
   },
   "outputs": [],
   "source": [
    "qin_nominal = 1.0;\n",
    "qd_nominal = 0.0;\n",
    "\n",
    "def qinfunction(t):\n",
    "    qin = qin_nominal\n",
    "    return qin\n",
    "def qdfunction(t):\n",
    "    qd = qd_nominal\n",
    "    return qd\n",
    "def height(M,t):\n",
    "    h1 = M[0];\n",
    "    h2 = M[1];\n",
    "    qin = qinfunction(t);\n",
    "    qd = qdfunction(t);\n",
    "    X1 = dHtankone(t,h1,qin,qd)\n",
    "    X2 = dHtanktwo(t,h1,h2,qin,qd)\n",
    "    dH = [X1,X2]\n",
    "    return dH\n",
    "#start = [0,0,0,1]\n",
    "\n",
    "#dH = height(start,0)\n",
    "tf = 150;\n",
    "h1_initial = 0;\n",
    "h2_initial = 0;\n",
    "#h1.append(h1_initial);\n",
    "#h2.append(h2_initial);\n",
    "#h1store.append(dH[0]);\n",
    "#h2store.append(dH[1]);\n",
    "#Hmatrix = np.matrix([h1store,h2store])\n",
    "\n",
    "time = numpy.linspace(0.0, tf, 1000)\n",
    "start = [0,0]\n"
   ]
  },
  {
   "cell_type": "code",
   "execution_count": 153,
   "metadata": {
    "collapsed": false
   },
   "outputs": [
    {
     "name": "stdout",
     "output_type": "stream",
     "text": [
      "[[ 0.          0.        ]\n",
      " [ 0.05994069  0.0075329 ]\n",
      " [ 0.10883878  0.01928267]\n",
      " ..., \n",
      " [ 0.69444444  1.        ]\n",
      " [ 0.69444444  1.        ]\n",
      " [ 0.69444444  1.        ]]\n"
     ]
    }
   ],
   "source": [
    "f = odeint(height, start, time)\n",
    "print f"
   ]
  },
  {
   "cell_type": "code",
   "execution_count": 154,
   "metadata": {
    "collapsed": false
   },
   "outputs": [
    {
     "data": {
      "text/plain": [
       "<matplotlib.lines.Line2D at 0x10af8ee50>"
      ]
     },
     "execution_count": 154,
     "metadata": {},
     "output_type": "execute_result"
    },
    {
     "data": {
      "image/png": "[encoded data removed]",
      "text/plain": [
       "<matplotlib.figure.Figure at 0x1098261d0>"
      ]
     },
     "metadata": {},
     "output_type": "display_data"
    }
   ],
   "source": [
    "plt.plot(time,f)\n",
    "plt.legend(['h1','h2'])\n",
    "plt.hold(True)\n",
    "h_ss = f[-1,:]\n",
    "plt.axhline(y = h_ss[0], xmin = 0, xmax = 1, hold = None)\n",
    "plt.axhline(y = h_ss[1], xmin = 0, xmax = 1, hold = None)"
   ]
  },
  {
   "cell_type": "code",
   "execution_count": 155,
   "metadata": {
    "collapsed": false
   },
   "outputs": [],
   "source": [
    "h_ss = f[-1,:]"
   ]
  },
  {
   "cell_type": "code",
   "execution_count": 156,
   "metadata": {
    "collapsed": false
   },
   "outputs": [],
   "source": [
    "# Establish a Reference function\n",
    "def href(t):\n",
    "    hreff = h_ss[1] + min(.1*t, .5) - .7*(t>=120)\n",
    "    return hreff\n",
    "# Redefine Qd\n",
    "def qdfunction(t):\n",
    "    qd = .3*((t>= 50) & (t<70));\n",
    "    return qd\n",
    "# Turn Time into Discreet Time\n",
    "dt = 2.0;\n",
    "tf = 200;\n",
    "time_discrete = np.linspace(0,200,101)"
   ]
  },
  {
   "cell_type": "code",
   "execution_count": 157,
   "metadata": {
    "collapsed": false
   },
   "outputs": [],
   "source": [
    "h = h_ss\n",
    "I = 0;\n",
    "k = 0;\n",
    "yrefstore = [0]\n",
    "p1 = [h_ss[1]]\n",
    "#p2 = [h_ss[0]]\n",
    "#p3 = [h_ss[1]]\n",
    "qinf = [1]\n",
    "\n",
    "while k < len(time_discrete) - 1:\n",
    "    # Our Measured Value\n",
    "    y = h[1] - h_ss[1];\n",
    "    # The PI Controller\n",
    "    yref = href(time_discrete[k]) - h_ss[1];\n",
    "    yerr = yref - y;\n",
    "    P = .6*yerr;\n",
    "    I = I + .1*dt*yerr;\n",
    "    u = P + I;\n",
    "    # Actuator \n",
    "    qin_last = qinfunction(time_discrete[k])\n",
    "    qin_delta = (qin_nominal + u) - qin_last;\n",
    "    def qinfunction(ts):\n",
    "        qin = qin_last + (ts > time_discrete[k])*qin_delta;\n",
    "        return qin\n",
    "    tiwtp = qinfunction(time_discrete[k+1])\n",
    "    qinf.append(tiwtp)\n",
    "    # Process Simulation\n",
    "    M = [h[0],h[1]]\n",
    "    timeinter = [time_discrete[k],time_discrete[k+1]]\n",
    "    Hsim = odeint(height, M, [time_discrete[k], time_discrete[k+1]])\n",
    "    h = Hsim[-1,:]\n",
    "    k = k+1\n",
    "    # Visualization\n",
    "    p1.append(y+h_ss[1])\n",
    "    #p2.append(Hsim[-1,0])"
   ]
  },
  {
   "cell_type": "code",
   "execution_count": 158,
   "metadata": {
    "collapsed": false
   },
   "outputs": [
    {
     "data": {
      "text/plain": [
       "[<matplotlib.lines.Line2D at 0x10845b550>]"
      ]
     },
     "execution_count": 158,
     "metadata": {},
     "output_type": "execute_result"
    },
    {
     "data": {
      "image/png": "[encoded data removed]",
      "text/plain": [
       "<matplotlib.figure.Figure at 0x109f73a90>"
      ]
     },
     "metadata": {},
     "output_type": "display_data"
    }
   ],
   "source": [
    "plt.plot(time_discrete, p1)\n",
    "hrf = [href(0)]\n",
    "time = numpy.linspace(0,200,201)\n",
    "for t in range(1,201):\n",
    "    hrf.append(href(t))\n",
    "plt.plot(time, hrf)"
   ]
  },
  {
   "cell_type": "code",
   "execution_count": 159,
   "metadata": {
    "collapsed": false
   },
   "outputs": [
    {
     "data": {
      "text/plain": [
       "[<matplotlib.lines.Line2D at 0x10ae82c90>]"
      ]
     },
     "execution_count": 159,
     "metadata": {},
     "output_type": "execute_result"
    },
    {
     "data": {
      "image/png": "[encoded data removed]",
      "text/plain": [
       "<matplotlib.figure.Figure at 0x10ae82290>"
      ]
     },
     "metadata": {},
     "output_type": "display_data"
    }
   ],
   "source": [
    "#addlist = np.ones(len(p2))*.3\n",
    "#plt.plot(time_discrete, map(add, p2, addlist))\n",
    "\n",
    "\n",
    "qdf = [qdfunction(0)]\n",
    "for t in range(1,201):\n",
    "    qdf.append(qdfunction(t))\n",
    "    \n",
    "plt.plot(time, qdf,)\n",
    "\n",
    "plt.plot(time_discrete,qinf,)\n"
   ]
  },
  {
   "cell_type": "code",
   "execution_count": 160,
   "metadata": {
    "collapsed": false
   },
   "outputs": [],
   "source": [
    "## Demo 3 Linearization\n",
    "# For detailed control design we will need a linear model that approximates\n",
    "# the response of the two-tank system in the neighhborhood of a typical\n",
    "# operating point. The model will be in the form\n",
    "#\n",
    "#   dx/dt = A*x + B*u + Ed\n",
    "#       y = C*x + D*u + Fd\n",
    "#\n",
    "# where state vector x denotes deviations of tank heights from the steady\n",
    "# state operating point, u denotes deviations in the manipulable input qin,\n",
    "# and d denotes deviations in the nominal disturbance qd. Here we derive\n",
    "# analytical expressions for the partial derivatives of f with respect to\n",
    "# all of these variables, and evaluate at the steady state computed above.\n",
    "\n",
    "A = np.array([[-C1/(2*A1*math.sqrt(h_ss[0])), 0],[C1/(2*A2*math.sqrt(h_ss[0])), -C2/(2*A2*math.sqrt(h_ss[1]))]])\n",
    "B = np.array([1/A1, 0])\n",
    "E = np.array([0, 1/A2])\n",
    "C = [0, 1]\n",
    "D = [0]\n",
    "F = [0]"
   ]
  },
  {
   "cell_type": "code",
   "execution_count": 161,
   "metadata": {
    "collapsed": false
   },
   "outputs": [],
   "source": [
    "# Now compare the response of the nonlinear model and the linear\n",
    "# approximation for typical inputs. A time grid is set up, then used to for\n",
    "# a nonlinear simulation starting at the nominal steady state and with some\n",
    "# time-varying inputs. The simulation is then repeated for the nonlinear\n",
    "# model after constructing the initial condition and inputs in terms of the\n",
    "# deviations from the nominal steady state.\n",
    "\n",
    "# simulation horizon\n",
    "tf = 80\n",
    "t = numpy.linspace(0,tf,1601)\n",
    "\n",
    "# nonlinear simulation\n",
    "def qinfunction(t):\n",
    "    qin = qin_nominal + 0.2*(t>=10) - 0.4*(t>=40)\n",
    "    return qin\n",
    "h = odeint(height, h_ss, t)\n",
    "\n",
    "# linear simulation\n",
    "def ufunction(t):\n",
    "    return qinfunction(t) - qin_nominal\n",
    "def dfunction(t):\n",
    "    return qdfunction(t) - qd_nominal\n",
    "\n",
    "x_initial =  np.array([0,0])\n",
    "def linfunction(x,t):\n",
    "    return np.dot(A,x) + B*ufunction(t) + E*dfunction(t)"
   ]
  },
  {
   "cell_type": "code",
   "execution_count": 162,
   "metadata": {
    "collapsed": false
   },
   "outputs": [],
   "source": [
    "x = odeint(linfunction, x_initial, t)"
   ]
  },
  {
   "cell_type": "code",
   "execution_count": 163,
   "metadata": {
    "collapsed": false
   },
   "outputs": [],
   "source": [
    "#np.dot(A,x_initial) + np.dot(B,ufunction(15)) + np.dot(E, dfunction(15))\n"
   ]
  },
  {
   "cell_type": "code",
   "execution_count": 164,
   "metadata": {
    "collapsed": false
   },
   "outputs": [
    {
     "data": {
      "text/plain": [
       "(0, 1.4)"
      ]
     },
     "execution_count": 164,
     "metadata": {},
     "output_type": "execute_result"
    },
    {
     "data": {
      "image/png": "[encoded data removed]",
      "text/plain": [
       "<matplotlib.figure.Figure at 0x10af52d90>"
      ]
     },
     "metadata": {},
     "output_type": "display_data"
    }
   ],
   "source": [
    "#%%\n",
    "#% The simulation results are displayed by converting the linear deviation\n",
    "# variables back to values corresponding to the actual process variables.\n",
    "#% This allows for a better comparison of the nonlinear and linear models.\n",
    "\n",
    "f, axarr = plt.subplots(2, sharex=True)\n",
    "axarr[0].plot(t,h)\n",
    "axarr[0].plot(t,x+h_ss,'--')\n",
    "axarr[0].set_title('Response: Nonlinear (solid) versus Linear (dashed) models')\n",
    "axarr[1].plot(t,qinfunction(t))\n",
    "axarr[1].plot(t,qdfunction(t))\n",
    "plt.ylim([0,1.4])\n",
    "\n",
    "\n",
    "\n",
    "\n"
   ]
  },
  {
   "cell_type": "code",
   "execution_count": 165,
   "metadata": {
    "collapsed": false
   },
   "outputs": [],
   "source": [
    "#%% Demo 4. Discrete Time Transformation with ZOH\n",
    "#% Model predictive control is normally implemented in discrete time. We\n",
    "#% therefore need a discrete time version of the linearized model that we'll\n",
    "# construct using matrix exponentials. The model is in the form\n",
    "#%\n",
    "#%   x(k+1) = Ad*x(k) + Bd*u(k) + Ed*d(k)\n",
    "#%     y(k) = C*x(k) + D*u(k) + F*d(k)\n",
    "#%\n",
    "#% x(k), u(k), d(k), y(k) refer to values of the linear model evaluated at\n",
    "#% time t(k) where k is the sample numbe, and k=1 is the initial condition.\n",
    "#% Note that C, D, and F are the same for the discrete-time and\n",
    "#% continuous-time models.\n",
    "\n",
    "#import expm function\n",
    "from scipy.linalg import expm, inv\n",
    "\n",
    "#sample time\n",
    "dt=2.0;\n",
    "A = np.matrix([[-C1/(2*A1*math.sqrt(h_ss[0])), 0],[C1/(2*A2*math.sqrt(h_ss[0])), -C2/(2*A2*math.sqrt(h_ss[1]))]])\n",
    "B = np.array([[1/A1], [0]])\n",
    "E = np.array([[0], [1/A2]])\n",
    "\n",
    "#discrete-time model \n",
    "Ad=expm(A*dt);\n",
    "Bd=(expm(A*dt)-numpy.matrix(numpy.identity(2)))*inv(A)*B;\n",
    "Ed=(expm(A*dt)-numpy.matrix(numpy.identity(2)))*inv(A)*E;\n",
    "Ad1=Ad[0]\n",
    "Ad2=Ad[1]\n",
    "Ad=np.matrix([Ad1, Ad2])\n",
    "\n",
    "    "
   ]
  },
  {
   "cell_type": "code",
   "execution_count": 166,
   "metadata": {
    "collapsed": false
   },
   "outputs": [
    {
     "data": {
      "text/plain": [
       "(-0.3, 0.3)"
      ]
     },
     "execution_count": 166,
     "metadata": {},
     "output_type": "execute_result"
    },
    {
     "data": {
      "image/png": "[encoded data removed]",
      "text/plain": [
       "<matplotlib.figure.Figure at 0x10bba0210>"
      ]
     },
     "metadata": {},
     "output_type": "display_data"
    }
   ],
   "source": [
    "#%%\n",
    "#% Next we construct simulations using both the discrete-time and\n",
    "#% continuous-time models.\n",
    "\n",
    "xi1 = [0];\n",
    "xi2 = [0];\n",
    "x_initial = np.matrix([xi1,xi2])\n",
    "\n",
    "# discrete time simulation\n",
    "td = numpy.linspace(0,tf,tf/dt+1);\n",
    "xd = x_initial;\n",
    "\n",
    "for k in range (1,len(td-1)):\n",
    "    xd = np.c_[xd,np.dot(Ad,xd[:,k-1])+np.dot(Bd,ufunction(td[k-1]))+np.dot(Ed,dfunction(td[k-1]))]\n",
    "\n",
    "# flip matrix to row vector\n",
    "xd= xd.T\n",
    "\n",
    "#continues-time model taken from Demo 3\n",
    "\n",
    "f, axarr = plt.subplots(2, sharex=True)\n",
    "axarr[0].plot(td,xd,'o')\n",
    "axarr[0].plot(t,x)\n",
    "\n",
    "axarr[0].set_title('System Response')\n",
    "axarr[1].plot(t,ufunction(t))\n",
    "axarr[1].plot(t,dfunction(t))\n",
    "axarr[1].plot(td,ufunction(td),'o')\n",
    "axarr[1].plot(td,dfunction(td),'o')\n",
    "plt.ylim([-.3,.3])\n"
   ]
  },
  {
   "cell_type": "code",
   "execution_count": 167,
   "metadata": {
    "collapsed": false
   },
   "outputs": [
    {
     "data": {
      "text/plain": [
       "[<matplotlib.lines.Line2D at 0x109a75090>]"
      ]
     },
     "execution_count": 167,
     "metadata": {},
     "output_type": "execute_result"
    },
    {
     "data": {
      "image/png": "[encoded data removed]",
      "text/plain": [
       "<matplotlib.figure.Figure at 0x109c32d50>"
      ]
     },
     "metadata": {},
     "output_type": "display_data"
    }
   ],
   "source": [
    "#%% Demo 5. Step Response Matrix\n",
    "#% As outlined in Chapter 20 of the (SEMD) textbook, the computations for\n",
    "#% Model Predictive Control can formulated in terms of the step response\n",
    "#% matrix. The step response matrix is computed using the step response of\n",
    "#% the discrete-time linear model, which is computed by finding the values\n",
    "#% of the output starting at steady state, and where the manipuleable input\n",
    "#% is a unit step.\n",
    "\n",
    "#% prediction and control horizons\n",
    "dt = 2.0;\n",
    "tprediction = 50;\n",
    "tcontrol = 8;\n",
    "\n",
    "tpred = np.linspace(0,tprediction+tcontrol,((tprediction+tcontrol)/dt)+1);\n",
    "\n",
    "#% unit step input\n",
    "def ufunction(t):\n",
    "    upred=1.0;\n",
    "    return upred\n",
    "\n",
    "#% compute unit step response\n",
    "x1=[0]\n",
    "x2=[0]\n",
    "x = np.matrix([x1,x2]);\n",
    "\n",
    "#cant make ystep an empty matrix leads to extra point on graph\n",
    "ystep=[0];\n",
    "\n",
    "for k in range(0,len(tpred)):\n",
    "    ystep = np.c_[ystep,np.dot(C,x)+np.dot(D,ufunction(tpred[k]))]\n",
    "    x= np.dot(Ad,x) + np.dot(Bd,ufunction(tpred[k]))\n",
    "    \n",
    "ystep = ystep.T[range(1,31)]\n",
    "#weird range ^^ because of extra point from ystep\n",
    "\n",
    "plt.plot(tpred,ystep,'.')\n"
   ]
  },
  {
   "cell_type": "code",
   "execution_count": 168,
   "metadata": {
    "collapsed": false
   },
   "outputs": [
    {
     "name": "stdout",
     "output_type": "stream",
     "text": [
      "[[ 0.          0.          0.          0.          0.        ]\n",
      " [ 0.1707666   0.          0.          0.          0.        ]\n",
      " [ 0.49645997  0.1707666   0.          0.          0.        ]\n",
      " [ 0.82880263  0.49645997  0.1707666   0.          0.        ]\n",
      " [ 1.11511197  0.82880263  0.49645997  0.1707666   0.        ]\n",
      " [ 1.34371107  1.11511197  0.82880263  0.49645997  0.1707666 ]\n",
      " [ 1.51892357  1.34371107  1.11511197  0.82880263  0.49645997]\n",
      " [ 1.65002465  1.51892357  1.34371107  1.11511197  0.82880263]\n",
      " [ 1.746667    1.65002465  1.51892357  1.34371107  1.11511197]\n",
      " [ 1.81723059  1.746667    1.65002465  1.51892357  1.34371107]\n",
      " [ 1.86843235  1.81723059  1.746667    1.65002465  1.51892357]\n",
      " [ 1.90543188  1.86843235  1.81723059  1.746667    1.65002465]\n",
      " [ 1.93209501  1.90543188  1.86843235  1.81723059  1.746667  ]\n",
      " [ 1.95127387  1.93209501  1.90543188  1.86843235  1.81723059]\n",
      " [ 1.96505209  1.95127387  1.93209501  1.90543188  1.86843235]\n",
      " [ 1.97494213  1.96505209  1.95127387  1.93209501  1.90543188]\n",
      " [ 1.98203717  1.97494213  1.96505209  1.95127387  1.93209501]\n",
      " [ 1.98712514  1.98203717  1.97494213  1.96505209  1.95127387]\n",
      " [ 1.99077284  1.98712514  1.98203717  1.97494213  1.96505209]\n",
      " [ 1.99338752  1.99077284  1.98712514  1.98203717  1.97494213]\n",
      " [ 1.9952615   1.99338752  1.99077284  1.98712514  1.98203717]\n",
      " [ 1.99660449  1.9952615   1.99338752  1.99077284  1.98712514]\n",
      " [ 1.99756691  1.99660449  1.9952615   1.99338752  1.99077284]\n",
      " [ 1.99825656  1.99756691  1.99660449  1.9952615   1.99338752]\n",
      " [ 1.99875075  1.99825656  1.99756691  1.99660449  1.9952615 ]\n",
      " [ 1.99910486  1.99875075  1.99825656  1.99756691  1.99660449]\n",
      " [ 1.9993586   1.99910486  1.99875075  1.99825656  1.99756691]\n",
      " [ 1.99954041  1.9993586   1.99910486  1.99875075  1.99825656]\n",
      " [ 1.99967069  1.99954041  1.9993586   1.99910486  1.99875075]\n",
      " [ 1.99976404  1.99967069  1.99954041  1.9993586   1.99910486]]\n"
     ]
    }
   ],
   "source": [
    "## Establish Toeplitz Matrix\n",
    "\n",
    "from scipy.linalg import toeplitz\n",
    "# toeplitz function \n",
    "steps = int(tcontrol/dt);\n",
    "\n",
    "ytoe = ystep\n",
    "\n",
    "ytoe = np.array(ytoe)\n",
    "ytoe = ytoe.tolist()\n",
    "zerovector = np.zeros(steps+1)\n",
    "S = toeplitz(ytoe,zerovector)\n",
    "\n",
    "print S"
   ]
  },
  {
   "cell_type": "code",
   "execution_count": 169,
   "metadata": {
    "collapsed": false
   },
   "outputs": [
    {
     "data": {
      "text/plain": [
       "(0, 2)"
      ]
     },
     "execution_count": 169,
     "metadata": {},
     "output_type": "execute_result"
    },
    {
     "data": {
      "image/png": "[encoded data removed]",
      "text/plain": [
       "<matplotlib.figure.Figure at 0x10ba6b8d0>"
      ]
     },
     "metadata": {},
     "output_type": "display_data"
    }
   ],
   "source": [
    "#%% Demo 6. Computing an Open Loop Control Policy\n",
    "#% As a first step towards feedback control, let's look at using the step\n",
    "#% response matrix to compute the control moves necessary to acheive a\n",
    "# desired change in the level of tank 2. We start with desired reference\n",
    "#% trajectory for future values of level in tank 2.\n",
    "\n",
    "#%href = @(t) h_ss(2) + min(0.1*t, 0.5);\n",
    "\n",
    "for k in range(0,len(tpred)-1):\n",
    "    plt.plot(tpred[k],href(tpred[k]),'ro')\n",
    "    plt.hold(True)\n",
    "plt.ylim(0,2)\n",
    "\n",
    "#%%\n",
    "#% A series of control moves du are computed by 'solving' the equation\n",
    "#%\n",
    "#%   yref = S*du\n",
    "#%\n",
    "#% where\n",
    "#% \n",
    "#%   yref = href = h_ss\n",
    "#%\n",
    "#% and u is reconstructed from du by taking a cumulative sum. The quotes\n",
    "#% around 'solving' are because there are more equations than unknowns, so\n",
    "#% the best we can do (without further knowledge) is a regression."
   ]
  },
  {
   "cell_type": "code",
   "execution_count": 170,
   "metadata": {
    "collapsed": false
   },
   "outputs": [
    {
     "name": "stdout",
     "output_type": "stream",
     "text": [
      "30\n",
      "30\n",
      "1601\n"
     ]
    }
   ],
   "source": [
    "def yreffunction(t):\n",
    "    yref= href(t) - h_ss[1]\n",
    "    return yref\n",
    "yreffunction\n",
    "yrefsave=np.zeros(len(S))\n",
    "for k in range(0,len(S)):\n",
    "    #yref= np.c_[yref,yreffunction(tpred[k])]\n",
    "    #print yref\n",
    "    yrefsave[k]= yreffunction(tpred[k])\n",
    "    #yref = np.vstack((yref,yrefnew))\n",
    "\n",
    "np.array(yrefsave)\n",
    "print len(yrefsave)\n",
    "print len(S)\n",
    "#print yref\n",
    "#np.array(S)\n",
    "#print len(S)\n",
    "#print type(S)\n",
    "S = np.reshape(S,(len(S),steps+1))\n",
    "#print len(S)\n",
    "#print len(yref)\n",
    "#np.array(yref)\n",
    "#print len(yref.shape)\n",
    "#print yref\n",
    "#print len(S.shape)\n",
    "du= np.linalg.lstsq(S,yrefsave)[0]\n",
    "#du = S\\yref[tpred]\n",
    "du=du.T\n",
    "#print S\n",
    "#print type(yref)\n",
    "#print S\n",
    "#print yref\n",
    "print len(t)"
   ]
  },
  {
   "cell_type": "code",
   "execution_count": 177,
   "metadata": {
    "collapsed": false
   },
   "outputs": [
    {
     "name": "stdout",
     "output_type": "stream",
     "text": [
      "[  0.   2.   4.   6.   8.  10.  12.  14.  16.  18.  20.  22.  24.  26.  28.\n",
      "  30.  32.  34.  36.  38.  40.  42.  44.  46.  48.  50.  52.  54.  56.  58.]\n",
      "2901\n",
      "5\n",
      "\n"
     ]
    },
    {
     "data": {
      "image/png": "[encoded data removed]",
      "text/plain": [
       "<matplotlib.figure.Figure at 0x10b63ff10>"
      ]
     },
     "metadata": {},
     "output_type": "display_data"
    }
   ],
   "source": [
    "## Convert Control Moves to a Continuous Control Policy\n",
    "from scipy import interp\n",
    "linearrange = np.linspace(0,tcontrol,tcontrol/dt+1)\n",
    "def ufunction(t):\n",
    "    return 0 + interp(t,linearrange, np.cumsum(du))\n",
    "def qinfunction(t):\n",
    "    return qin_nominal+ufunction(t)\n",
    "#print ufunction(5)\n",
    "#np.cumsum(du)\n",
    "print tpred\n",
    "R = h_ss[1] + np.dot(S,du)\n",
    "plt.plot(tpred, R,'bo')\n",
    "plt.hold(True)\n",
    "plt.ylim(0,2)\n",
    "#plt.plot()\n",
    "print len(t)\n",
    "print len(linearrange)\n",
    "print "
   ]
  },
  {
   "cell_type": "code",
   "execution_count": 178,
   "metadata": {
    "collapsed": false
   },
   "outputs": [
    {
     "data": {
      "text/plain": [
       "[<matplotlib.lines.Line2D at 0x10bf031d0>]"
      ]
     },
     "execution_count": 178,
     "metadata": {},
     "output_type": "execute_result"
    },
    {
     "data": {
      "image/png": "[encoded data removed]",
      "text/plain": [
       "<matplotlib.figure.Figure at 0x10b6500d0>"
      ]
     },
     "metadata": {},
     "output_type": "display_data"
    }
   ],
   "source": [
    "\n",
    "t = np.linspace(0,tpred[-1],2901)\n",
    "plt.plot(t,qinfunction(t),'r')"
   ]
  },
  {
   "cell_type": "code",
   "execution_count": 176,
   "metadata": {
    "collapsed": false
   },
   "outputs": [
    {
     "name": "stdout",
     "output_type": "stream",
     "text": [
      "[ 2.14444852  2.13498027  2.12551202 ...,  1.25018917  1.25018917\n",
      "  1.25018917]\n"
     ]
    }
   ],
   "source": [
    "print qinfunction(t)"
   ]
  },
  {
   "cell_type": "code",
   "execution_count": null,
   "metadata": {
    "collapsed": true
   },
   "outputs": [],
   "source": []
  },
  {
   "cell_type": "code",
   "execution_count": null,
   "metadata": {
    "collapsed": true
   },
   "outputs": [],
   "source": []
  }
 ],
 "metadata": {
  "kernelspec": {
   "display_name": "Python 2",
   "language": "python",
   "name": "python2"
  },
  "language_info": {
   "codemirror_mode": {
    "name": "ipython",
    "version": 2
   },
   "file_extension": ".py",
   "mimetype": "text/x-python",
   "name": "python",
   "nbconvert_exporter": "python",
   "pygments_lexer": "ipython2",
   "version": "2.7.9"
  }
 },
 "nbformat": 4,
 "nbformat_minor": 0
}

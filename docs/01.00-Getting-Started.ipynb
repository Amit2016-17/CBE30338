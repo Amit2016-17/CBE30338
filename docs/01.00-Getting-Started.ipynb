{
 "cells": [
  {
   "cell_type": "markdown",
   "metadata": {
    "nbpages": {
     "level": 0,
     "link": "[](https://jckantor.github.io/CBE30338/01.00-Getting-Started.html)",
     "section": ""
    }
   },
   "source": [
    "<!--NOTEBOOK_HEADER-->\n",
    "*This notebook contains material from [CBE30338](https://jckantor.github.io/CBE30338);\n",
    "content is available [on Github](https://github.com/jckantor/CBE30338.git).*"
   ]
  },
  {
   "cell_type": "markdown",
   "metadata": {
    "nbpages": {
     "level": 0,
     "link": "[](https://jckantor.github.io/CBE30338/01.00-Getting-Started.html)",
     "section": ""
    }
   },
   "source": [
    "<!--NAVIGATION-->\n",
    "| [Contents](toc.html) | [Tag Index](tag_index.html) |"
   ]
  },
  {
   "cell_type": "markdown",
   "metadata": {
    "nbpages": {
     "level": 1,
     "link": "[1.0 Getting Started](https://jckantor.github.io/CBE30338/01.00-Getting-Started.html#1.0-Getting-Started)",
     "section": "1.0 Getting Started"
    }
   },
   "source": [
    "# 1.0 Getting Started"
   ]
  },
  {
   "cell_type": "markdown",
   "metadata": {
    "nbpages": {
     "level": 1,
     "link": "[1.0 Getting Started](https://jckantor.github.io/CBE30338/01.00-Getting-Started.html#1.0-Getting-Started)",
     "section": "1.0 Getting Started"
    }
   },
   "source": [
    "<!--NAVIGATION-->\n",
    "| [Contents](toc.html) | [Tag Index](tag_index.html) |"
   ]
  }
 ],
 "metadata": {
  "kernelspec": {
   "display_name": "Python 3",
   "language": "python",
   "name": "python3"
  },
  "language_info": {
   "codemirror_mode": {
    "name": "ipython",
    "version": 3
   },
   "file_extension": ".py",
   "mimetype": "text/x-python",
   "name": "python",
   "nbconvert_exporter": "python",
   "pygments_lexer": "ipython3",
   "version": "3.6.8"
  }
 },
 "nbformat": 4,
 "nbformat_minor": 2
}

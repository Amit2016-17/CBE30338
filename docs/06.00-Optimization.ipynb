{
 "cells": [
  {
   "cell_type": "markdown",
   "metadata": {
    "nbpages": {
     "level": 0,
     "link": "[](https://jckantor.github.io/CBE30338/06.00-Optimization.html)",
     "section": ""
    }
   },
   "source": [
    "<!--NOTEBOOK_HEADER-->\n",
    "*This notebook contains material from [CBE30338](https://jckantor.github.io/CBE30338);\n",
    "content is available [on Github](https://github.com/jckantor/CBE30338.git).*"
   ]
  },
  {
   "cell_type": "markdown",
   "metadata": {
    "nbpages": {
     "level": 0,
     "link": "[](https://jckantor.github.io/CBE30338/06.00-Optimization.html)",
     "section": ""
    }
   },
   "source": [
    "<!--NAVIGATION-->\n",
    "< [5.5 Baroreflex as a Linear Control System](https://jckantor.github.io/CBE30338/05.05-Baroreflex-as-a-Linear-Control-System.html) | [Contents](toc.html) | [Tag Index](tag_index.html) |"
   ]
  },
  {
   "cell_type": "markdown",
   "metadata": {
    "nbpages": {
     "level": 1,
     "link": "[6.0 Optimization](https://jckantor.github.io/CBE30338/06.00-Optimization.html#6.0-Optimization)",
     "section": "6.0 Optimization"
    }
   },
   "source": [
    "# 6.0 Optimization"
   ]
  },
  {
   "cell_type": "markdown",
   "metadata": {
    "nbpages": {
     "level": 1,
     "link": "[6.0 Optimization](https://jckantor.github.io/CBE30338/06.00-Optimization.html#6.0-Optimization)",
     "section": "6.0 Optimization"
    }
   },
   "source": [
    "<!--NAVIGATION-->\n",
    "< [5.5 Baroreflex as a Linear Control System](https://jckantor.github.io/CBE30338/05.05-Baroreflex-as-a-Linear-Control-System.html) | [Contents](toc.html) | [Tag Index](tag_index.html) |"
   ]
  }
 ],
 "metadata": {
  "kernelspec": {
   "display_name": "Python 3",
   "language": "python",
   "name": "python3"
  },
  "language_info": {
   "codemirror_mode": {
    "name": "ipython",
    "version": 3
   },
   "file_extension": ".py",
   "mimetype": "text/x-python",
   "name": "python",
   "nbconvert_exporter": "python",
   "pygments_lexer": "ipython3",
   "version": "3.6.8"
  }
 },
 "nbformat": 4,
 "nbformat_minor": 2
}

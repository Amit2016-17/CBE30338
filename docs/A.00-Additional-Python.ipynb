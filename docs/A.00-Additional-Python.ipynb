{
 "cells": [
  {
   "cell_type": "markdown",
   "metadata": {
    "nbpages": {
     "level": 0,
     "link": "[](https://jckantor.github.io/CBE30338/A.00-Additional-Python.html)",
     "section": ""
    }
   },
   "source": [
    "<!--NOTEBOOK_HEADER-->\n",
    "*This notebook contains material from [CBE30338](https://jckantor.github.io/CBE30338);\n",
    "content is available [on Github](https://github.com/jckantor/CBE30338.git).*"
   ]
  },
  {
   "cell_type": "markdown",
   "metadata": {
    "nbpages": {
     "level": 0,
     "link": "[](https://jckantor.github.io/CBE30338/A.00-Additional-Python.html)",
     "section": ""
    }
   },
   "source": [
    "<!--NAVIGATION-->\n",
    "< [9.3 Machine Bottleneck](https://jckantor.github.io/CBE30338/09.03-Machine-Bottleneck.html) | [Contents](toc.html) | [Tag Index](tag_index.html) |"
   ]
  },
  {
   "cell_type": "markdown",
   "metadata": {
    "nbpages": {
     "level": 1,
     "link": "[A.0 Additional Python](https://jckantor.github.io/CBE30338/A.00-Additional-Python.html#A.0-Additional-Python)",
     "section": "A.0 Additional Python"
    }
   },
   "source": [
    "# A.0 Additional Python"
   ]
  },
  {
   "cell_type": "markdown",
   "metadata": {
    "nbpages": {
     "level": 1,
     "link": "[A.0 Additional Python](https://jckantor.github.io/CBE30338/A.00-Additional-Python.html#A.0-Additional-Python)",
     "section": "A.0 Additional Python"
    }
   },
   "source": [
    "<!--NAVIGATION-->\n",
    "< [9.3 Machine Bottleneck](https://jckantor.github.io/CBE30338/09.03-Machine-Bottleneck.html) | [Contents](toc.html) | [Tag Index](tag_index.html) |"
   ]
  }
 ],
 "metadata": {
  "kernelspec": {
   "display_name": "Python 3",
   "language": "python",
   "name": "python3"
  },
  "language_info": {
   "codemirror_mode": {
    "name": "ipython",
    "version": 3
   },
   "file_extension": ".py",
   "mimetype": "text/x-python",
   "name": "python",
   "nbconvert_exporter": "python",
   "pygments_lexer": "ipython3",
   "version": "3.6.8"
  }
 },
 "nbformat": 4,
 "nbformat_minor": 2
}

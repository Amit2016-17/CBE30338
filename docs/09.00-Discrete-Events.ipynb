{
 "cells": [
  {
   "cell_type": "markdown",
   "metadata": {
    "nbpages": {
     "level": 0,
     "link": "[](https://jckantor.github.io/CBE30338/09.00-Discrete-Events.html)",
     "section": ""
    }
   },
   "source": [
    "<!--NOTEBOOK_HEADER-->\n",
    "*This notebook contains material from [CBE30338](https://jckantor.github.io/CBE30338);\n",
    "content is available [on Github](https://github.com/jckantor/CBE30338.git).*"
   ]
  },
  {
   "cell_type": "markdown",
   "metadata": {
    "nbpages": {
     "level": 0,
     "link": "[](https://jckantor.github.io/CBE30338/09.00-Discrete-Events.html)",
     "section": ""
    }
   },
   "source": [
    "<!--NAVIGATION-->\n",
    "< [8.1 Zero-Order Hold and Interpolation](https://jckantor.github.io/CBE30338/08.01-Zero-Order-Hold-and-Interpolation.html) | [Contents](toc.html) | [Tag Index](tag_index.html) |"
   ]
  },
  {
   "cell_type": "markdown",
   "metadata": {
    "nbpages": {
     "level": 1,
     "link": "[9.0 Discrete Events](https://jckantor.github.io/CBE30338/09.00-Discrete-Events.html#9.0-Discrete-Events)",
     "section": "9.0 Discrete Events"
    }
   },
   "source": [
    "# 9.0 Discrete Events"
   ]
  },
  {
   "cell_type": "markdown",
   "metadata": {
    "nbpages": {
     "level": 1,
     "link": "[9.0 Discrete Events](https://jckantor.github.io/CBE30338/09.00-Discrete-Events.html#9.0-Discrete-Events)",
     "section": "9.0 Discrete Events"
    }
   },
   "source": [
    "<!--NAVIGATION-->\n",
    "< [8.1 Zero-Order Hold and Interpolation](https://jckantor.github.io/CBE30338/08.01-Zero-Order-Hold-and-Interpolation.html) | [Contents](toc.html) | [Tag Index](tag_index.html) |"
   ]
  }
 ],
 "metadata": {
  "kernelspec": {
   "display_name": "Python 3",
   "language": "python",
   "name": "python3"
  },
  "language_info": {
   "codemirror_mode": {
    "name": "ipython",
    "version": 3
   },
   "file_extension": ".py",
   "mimetype": "text/x-python",
   "name": "python",
   "nbconvert_exporter": "python",
   "pygments_lexer": "ipython3",
   "version": "3.6.8"
  }
 },
 "nbformat": 4,
 "nbformat_minor": 2
}

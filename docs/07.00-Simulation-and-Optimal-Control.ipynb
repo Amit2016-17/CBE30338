{
 "cells": [
  {
   "cell_type": "markdown",
   "metadata": {
    "colab_type": "text",
    "id": "UeRQIUsNYBVm",
    "nbpages": {
     "level": 0,
     "link": "[](https://jckantor.github.io/CBE30338/07.00-Simulation-and-Optimal-Control.html)",
     "section": ""
    }
   },
   "source": [
    "<!--NOTEBOOK_HEADER-->\n",
    "*This notebook contains material from [CBE30338](https://jckantor.github.io/CBE30338);\n",
    "content is available [on Github](https://github.com/jckantor/CBE30338.git).*"
   ]
  },
  {
   "cell_type": "markdown",
   "metadata": {
    "colab_type": "text",
    "id": "4WiGEs4mYBVn",
    "nbpages": {
     "level": 0,
     "link": "[](https://jckantor.github.io/CBE30338/07.00-Simulation-and-Optimal-Control.html)",
     "section": ""
    }
   },
   "source": [
    "<!--NAVIGATION-->\n",
    "< [6.99 Pyomo Examples](https://jckantor.github.io/CBE30338/06.99-Pyomo-Examples.html) | [Contents](toc.html) | [Tag Index](tag_index.html) |"
   ]
  },
  {
   "cell_type": "markdown",
   "metadata": {
    "colab_type": "text",
    "id": "OhMTyGqXYBVo",
    "nbpages": {
     "level": 1,
     "link": "[7.0 Simulation and Optimal Control](https://jckantor.github.io/CBE30338/07.00-Simulation-and-Optimal-Control.html#7.0-Simulation-and-Optimal-Control)",
     "section": "7.0 Simulation and Optimal Control"
    }
   },
   "source": [
    "# 7.0 Simulation and Optimal Control"
   ]
  },
  {
   "cell_type": "markdown",
   "metadata": {
    "colab_type": "text",
    "id": "Qld7ka8bYDxV",
    "nbpages": {
     "level": 2,
     "link": "[7.0.1 Available Solvers](https://jckantor.github.io/CBE30338/07.00-Simulation-and-Optimal-Control.html#7.0.1-Available-Solvers)",
     "section": "7.0.1 Available Solvers"
    }
   },
   "source": [
    "## 7.0.1 Available Solvers\n",
    "\n",
    "* [ampl.com](https://ampl.com/products/solvers/open-source/)"
   ]
  },
  {
   "cell_type": "markdown",
   "metadata": {
    "colab_type": "text",
    "id": "0rhOSuSKYBVp",
    "nbpages": {
     "level": 2,
     "link": "[7.0.1 Available Solvers](https://jckantor.github.io/CBE30338/07.00-Simulation-and-Optimal-Control.html#7.0.1-Available-Solvers)",
     "section": "7.0.1 Available Solvers"
    }
   },
   "source": [
    "<!--NAVIGATION-->\n",
    "< [6.99 Pyomo Examples](https://jckantor.github.io/CBE30338/06.99-Pyomo-Examples.html) | [Contents](toc.html) | [Tag Index](tag_index.html) |"
   ]
  }
 ],
 "metadata": {
  "colab": {
   "collapsed_sections": [],
   "name": "07.00-Simulation-and-Optimal-Control.ipynb",
   "provenance": [],
   "version": "0.3.2"
  },
  "kernelspec": {
   "display_name": "Python 3",
   "language": "python",
   "name": "python3"
  }
 },
 "nbformat": 4,
 "nbformat_minor": 0
}

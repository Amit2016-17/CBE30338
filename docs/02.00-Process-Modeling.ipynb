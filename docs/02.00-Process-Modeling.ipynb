{
 "cells": [
  {
   "cell_type": "markdown",
   "metadata": {
    "nbpages": {
     "level": 0,
     "link": "[](https://jckantor.github.io/CBE30338/02.00-Process-Modeling.html)",
     "section": ""
    }
   },
   "source": [
    "<!--NOTEBOOK_HEADER-->\n",
    "*This notebook contains material from [CBE30338](https://jckantor.github.io/CBE30338);\n",
    "content is available [on Github](https://github.com/jckantor/CBE30338.git).*"
   ]
  },
  {
   "cell_type": "markdown",
   "metadata": {
    "nbpages": {
     "level": 0,
     "link": "[](https://jckantor.github.io/CBE30338/02.00-Process-Modeling.html)",
     "section": ""
    }
   },
   "source": [
    "<!--NAVIGATION-->\n",
    "< [1.4 Python Numeric Integration Revisited](https://jckantor.github.io/CBE30338/01.04-Python-Numeric-Integration-Revisited.html) | [Contents](toc.html) | [Tag Index](tag_index.html) |"
   ]
  },
  {
   "cell_type": "markdown",
   "metadata": {
    "nbpages": {
     "level": 1,
     "link": "[2.0 Process Modeling](https://jckantor.github.io/CBE30338/02.00-Process-Modeling.html#2.0-Process-Modeling)",
     "section": "2.0 Process Modeling"
    }
   },
   "source": [
    "# 2.0 Process Modeling"
   ]
  },
  {
   "cell_type": "markdown",
   "metadata": {
    "nbpages": {
     "level": 1,
     "link": "[2.0 Process Modeling](https://jckantor.github.io/CBE30338/02.00-Process-Modeling.html#2.0-Process-Modeling)",
     "section": "2.0 Process Modeling"
    }
   },
   "source": [
    "<!--NAVIGATION-->\n",
    "< [1.4 Python Numeric Integration Revisited](https://jckantor.github.io/CBE30338/01.04-Python-Numeric-Integration-Revisited.html) | [Contents](toc.html) | [Tag Index](tag_index.html) |"
   ]
  }
 ],
 "metadata": {
  "kernelspec": {
   "display_name": "Python 3",
   "language": "python",
   "name": "python3"
  },
  "language_info": {
   "codemirror_mode": {
    "name": "ipython",
    "version": 3
   },
   "file_extension": ".py",
   "mimetype": "text/x-python",
   "name": "python",
   "nbconvert_exporter": "python",
   "pygments_lexer": "ipython3",
   "version": "3.7.4"
  }
 },
 "nbformat": 4,
 "nbformat_minor": 4
}

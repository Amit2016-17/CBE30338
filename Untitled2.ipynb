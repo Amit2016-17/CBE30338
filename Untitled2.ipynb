{
 "cells": [
  {
   "cell_type": "code",
   "execution_count": null,
   "metadata": {
    "collapsed": false
   },
   "outputs": [],
   "source": [
    "%%javascript\n",
    "require.config({\n",
    "  paths: {\n",
    "      d3: '//cdnjs.cloudflare.com/ajax/libs/d3/3.4.8/d3.min'\n",
    "  }\n",
    "});"
   ]
  },
  {
   "cell_type": "code",
   "execution_count": null,
   "metadata": {
    "collapsed": false
   },
   "outputs": [],
   "source": [
    "%%javascript\n",
    "element.append(\"<div id='chart1'></div>\");"
   ]
  },
  {
   "cell_type": "code",
   "execution_count": null,
   "metadata": {
    "collapsed": false
   },
   "outputs": [],
   "source": [
    "#!pip install plotly"
   ]
  },
  {
   "cell_type": "code",
   "execution_count": null,
   "metadata": {
    "collapsed": false
   },
   "outputs": [],
   "source": [
    "import plotly\n",
    "print plotly.__version__            # version 1.9.4 required\n",
    "plotly.offline.init_notebook_mode() # run at the start of every notebook\n",
    "plotly.offline.iplot({\n",
    "\"data\": [{\n",
    "    \"x\": [1, 2, 3],\n",
    "    \"y\": [4, 2, 5]\n",
    "}],\n",
    "\"layout\": {\n",
    "    \"title\": \"hello world\"\n",
    "}\n",
    "})"
   ]
  },
  {
   "cell_type": "code",
   "execution_count": null,
   "metadata": {
    "collapsed": false
   },
   "outputs": [],
   "source": [
    "from ipywidgets import Output\n",
    "from IPython.display import display\n",
    "from plotly.offline import init_notebook_mode, iplot\n",
    "\n",
    "init_notebook_mode()\n",
    "\n",
    "ow = Output()\n",
    "display(ow)\n",
    "\n",
    "with ow:\n",
    "    print('prints to output widget')\n",
    "    iplot([{\"x\": [1, 2, 3], \"y\": [3, 1, 6]}])\n",
    "    "
   ]
  },
  {
   "cell_type": "markdown",
   "metadata": {},
   "source": [
    "<svg height=\"100\" width=\"100\">\n",
    "  <circle cx=\"50\" cy=\"50\" r=\"40\" stroke=\"black\" stroke-width=\"3\" fill=\"red\" />\n",
    "</svg>"
   ]
  },
  {
   "cell_type": "code",
   "execution_count": null,
   "metadata": {
    "collapsed": false
   },
   "outputs": [],
   "source": [
    "from IPython.display import HTML, display\n",
    "from ipywidgets import interact\n",
    "\n",
    "def draw_circle(x, y, radius):\n",
    "    str = '<circle cx={0:d} cy={1:d} r = {2:d}'.format(x,y,radius)\n",
    "    return str\n",
    "\n",
    "print draw_circle(150,50,40)\n",
    "\n",
    "html = '<svg height=\"100\" width=\"600\">' \\\n",
    "    + '<circle cx=\"150\" cy=\"50\" r=\"40\" stroke=\"black\" stroke-width=\"3\" fill=\"red\" />' \\\n",
    "    + '<rect x=\"25\" y=\"25\" width=\"50\" height=\"50\" stroke=\"orange\" stroke-width=\"3\" fill=\"blue\" />' \\\n",
    "    + '</svg>'\n",
    "display(HTML(html))"
   ]
  },
  {
   "cell_type": "code",
   "execution_count": 8,
   "metadata": {
    "collapsed": false
   },
   "outputs": [
    {
     "data": {
      "image/png": "[encoded data removed]",
      "text/plain": [
       "<matplotlib.figure.Figure at 0x10b2ed9d0>"
      ]
     },
     "metadata": {},
     "output_type": "display_data"
    }
   ],
   "source": [
    "import matplotlib.pyplot as plt\n",
    "import matplotlib.animation as animation\n",
    "import time\n",
    "\n",
    "%matplotlib inline\n",
    "\n",
    "fig = plt.figure()\n",
    "ax1 = fig.add_subplot(1,1,1)\n",
    "\n",
    "k = 12\n",
    "\n",
    "for k in range(0,10):\n",
    "    def animate(i):\n",
    "    ax1.clear()\n",
    "    ax1.plot([1,2,i],[2,-1,3])\n",
    "    \n",
    "ani = animation.FuncAnimation(fig, animate, interval=10)\n",
    "\n",
    "    plt.show()"
   ]
  },
  {
   "cell_type": "code",
   "execution_count": 45,
   "metadata": {
    "collapsed": false
   },
   "outputs": [
    {
     "data": {
      "image/png": "[encoded data removed]",
      "text/plain": [
       "<matplotlib.figure.Figure at 0x10bd1b290>"
      ]
     },
     "metadata": {},
     "output_type": "display_data"
    },
    {
     "data": {
      "text/plain": [
       "None"
      ]
     },
     "metadata": {},
     "output_type": "display_data"
    }
   ],
   "source": [
    "import time\n",
    "from pylab import *\n",
    "from IPython import display\n",
    "\n",
    "%matplotlib inline\n",
    "\n",
    "plt.axes();\n",
    "\n",
    "for i in range(20):\n",
    "    circle = Circle((1*i,0),1,fc='y')\n",
    "    gca().add_patch(circle)\n",
    "\n",
    "    axis('equal')\n",
    "    xlim(10,10)\n",
    "    ylim(-10,10)\n",
    "    display.display(show())\n",
    "    display.clear_output(wait=True);\n",
    "    time.sleep(0.1);\n"
   ]
  },
  {
   "cell_type": "code",
   "execution_count": 59,
   "metadata": {
    "collapsed": false
   },
   "outputs": [
    {
     "data": {
      "text/html": [
       "\n",
       "<canvas id=\"theCanvas\" width=\"500\" height=\"200\">\n",
       " Canvas not supported; please update your browser.\n",
       "</canvas>\n"
      ],
      "text/plain": [
       "<IPython.core.display.HTML object>"
      ]
     },
     "execution_count": 59,
     "metadata": {},
     "output_type": "execute_result"
    }
   ],
   "source": [
    "from IPython.core.display import HTML\n",
    "str = \"\"\"\n",
    "<canvas id=\"theCanvas\" width=\"600\" height=\"200\">\n",
    " Canvas not supported; please update your browser.\n",
    "</canvas>\n",
    "\"\"\"\n",
    "HTML(str)"
   ]
  },
  {
   "cell_type": "code",
   "execution_count": 75,
   "metadata": {
    "collapsed": false
   },
   "outputs": [
    {
     "data": {
      "application/javascript": [
       "var theCanvas = document.getElementById(\"theCanvas\");\n",
       "var theContext = theCanvas.getContext(\"2d\");\n",
       "\n",
       "var x = 300;\n",
       "var y = 80;\n",
       "\n",
       "function drawBall() {\n",
       "    theContext.beginPath();\n",
       "    theContext.arc(x, y, 5, 0, 2*Math.PI);\n",
       "    theContext.fillStyle = \"red\";\n",
       "    theContext.fill();\n",
       "}\n",
       "\n",
       "function moveBall() {\n",
       "    x += 1;\n",
       "    drawBall();\n",
       "}\n",
       "\n",
       "var i = 0;\n",
       "\n",
       "for (i = 0; i < 20; i++) {\n",
       "    theContext.clearRect(0, 0, theCanvas.width, theCanvas.height);\n",
       "    moveBall();\n",
       "}"
      ],
      "text/plain": [
       "<IPython.core.display.Javascript object>"
      ]
     },
     "metadata": {},
     "output_type": "display_data"
    }
   ],
   "source": [
    "%%javascript\n",
    "var theCanvas = document.getElementById(\"theCanvas\");\n",
    "var theContext = theCanvas.getContext(\"2d\");\n",
    "\n",
    "var x = 300;\n",
    "var y = 80;\n",
    "\n",
    "function drawBall() {\n",
    "    theContext.beginPath();\n",
    "    theContext.arc(x, y, 5, 0, 2*Math.PI);\n",
    "    theContext.fillStyle = \"red\";\n",
    "    theContext.fill();\n",
    "}\n",
    "\n",
    "function moveBall() {\n",
    "    x += 1;\n",
    "    drawBall();\n",
    "}\n",
    "\n",
    "var i = 0;\n",
    "\n",
    "for (i = 0; i < 20; i++) {\n",
    "    theContext.clearRect(0, 0, theCanvas.width, theCanvas.height);\n",
    "    moveBall();\n",
    "}"
   ]
  },
  {
   "cell_type": "code",
   "execution_count": 76,
   "metadata": {
    "collapsed": false
   },
   "outputs": [
    {
     "data": {
      "application/javascript": [
       "var dotCounter = 0;\n",
       "(function addDot() {\n",
       "  setTimeout(function() {\n",
       "    if (dotCounter++ < 10) {\n",
       "      $('#dots').append('.');\n",
       "      addDot();\n",
       "    }\n",
       "  }, 1000);\n",
       "})();"
      ],
      "text/plain": [
       "<IPython.core.display.Javascript object>"
      ]
     },
     "metadata": {},
     "output_type": "display_data"
    }
   ],
   "source": [
    "%%javascript\n",
    "var dotCounter = 0;\n",
    "(function addDot() {\n",
    "  setTimeout(function() {\n",
    "    if (dotCounter++ < 10) {\n",
    "      $('#dots').append('.');\n",
    "      addDot();\n",
    "    }\n",
    "  }, 1000);\n",
    "})();"
   ]
  },
  {
   "cell_type": "code",
   "execution_count": null,
   "metadata": {
    "collapsed": true
   },
   "outputs": [],
   "source": []
  }
 ],
 "metadata": {
  "kernelspec": {
   "display_name": "Python 2",
   "language": "python",
   "name": "python2"
  },
  "language_info": {
   "codemirror_mode": {
    "name": "ipython",
    "version": 2
   },
   "file_extension": ".py",
   "mimetype": "text/x-python",
   "name": "python",
   "nbconvert_exporter": "python",
   "pygments_lexer": "ipython2",
   "version": "2.7.11"
  }
 },
 "nbformat": 4,
 "nbformat_minor": 0
}

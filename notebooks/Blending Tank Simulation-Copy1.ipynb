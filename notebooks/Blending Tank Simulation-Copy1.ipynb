{
 "cells": [
  {
   "cell_type": "markdown",
   "metadata": {},
   "source": [
    "# Blending Tank Simulation"
   ]
  },
  {
   "cell_type": "markdown",
   "metadata": {},
   "source": [
    "### Initialize Python Workspace\n",
    "\n",
    "Unlike Matlab, in Python it is always necessary to import the functions and libraries that you intend to use. In this case we import the complete `pylab` library, and the function `odeint` for integrating systems of differential equations from the `scipy` library.  The command `%matplotlib inline` causes graphic commands to produce results directly within the notebook output cells."
   ]
  },
  {
   "cell_type": "code",
   "execution_count": 17,
   "metadata": {
    "collapsed": true
   },
   "outputs": [],
   "source": [
    "from pylab import *\n",
    "from scipy.integrate import odeint\n",
    "%matplotlib inline"
   ]
  },
  {
   "cell_type": "markdown",
   "metadata": {},
   "source": [
    "## Basic Simulation of the Blending Tank"
   ]
  },
  {
   "cell_type": "markdown",
   "metadata": {},
   "source": [
    "\\begin{align*}\n",
    "\\frac{dV}{dt} & = \\frac{1}{\\rho}(w_1 + w_2 - w)\\\\\n",
    "\\frac{dx}{dt} & = \\frac{1}{\\rho V}(w_1 (x_1 - x) + w_2 (x_2 - x))\n",
    "\\end{align*}"
   ]
  },
  {
   "cell_type": "markdown",
   "metadata": {},
   "source": [
    "#### Step 1. Establish Parameter Values"
   ]
  },
  {
   "cell_type": "code",
   "execution_count": 55,
   "metadata": {
    "collapsed": true
   },
   "outputs": [],
   "source": [
    "rho = 900.0  # density, kg/m**3\n",
    "\n",
    "w1 = 500.0   # stream 1, kg/min\n",
    "w2 = 200.0   # stream 2, kg/min\n",
    "w = w1 + w2  # set outflow equal to sum of inflows\n",
    "\n",
    "x1 = 0.4     # composition stream 1, mass fraction\n",
    "x2 = 0.75    # composition stream 2, mass fraction"
   ]
  },
  {
   "cell_type": "markdown",
   "metadata": {},
   "source": [
    "#### Step 2. Write a function to compute the RHS's of the Differential Equations"
   ]
  },
  {
   "cell_type": "code",
   "execution_count": 56,
   "metadata": {
    "collapsed": true
   },
   "outputs": [],
   "source": [
    "def func(y,t):\n",
    "    V,x = y\n",
    "    return [(w1 + w2 - w)/rho, (w1*(x1-x)+w2*(x2-x))/(rho*V)]"
   ]
  },
  {
   "cell_type": "markdown",
   "metadata": {},
   "source": [
    "#### Step 3. Set the Initial Conditions"
   ]
  },
  {
   "cell_type": "code",
   "execution_count": 57,
   "metadata": {
    "collapsed": true
   },
   "outputs": [],
   "source": [
    "V = 2.0      # volume, cubic meters\n",
    "x = 0.0      # composition, mass fraction"
   ]
  },
  {
   "cell_type": "markdown",
   "metadata": {},
   "source": [
    "#### Step 4. Integrate the Differential Equations"
   ]
  },
  {
   "cell_type": "code",
   "execution_count": 58,
   "metadata": {
    "collapsed": false
   },
   "outputs": [],
   "source": [
    "t = linspace(0,10.0)\n",
    "y = odeint(func,[V,x],t)"
   ]
  },
  {
   "cell_type": "markdown",
   "metadata": {},
   "source": [
    "#### Step 5. Visualize the Solution"
   ]
  },
  {
   "cell_type": "code",
   "execution_count": 59,
   "metadata": {
    "collapsed": false
   },
   "outputs": [
    {
     "data": {
      "image/png": "[encoded data removed]",
      "text/plain": [
       "<matplotlib.figure.Figure at 0x10cbb1890>"
      ]
     },
     "metadata": {},
     "output_type": "display_data"
    }
   ],
   "source": [
    "plot(t,y)\n",
    "xlabel('Time [min]')\n",
    "ylabel('Volume, Composition')\n",
    "legend(['Volume','Composition'])\n",
    "ylim(0,3)\n",
    "grid()\n",
    "savefig('BlendingTankStartUp.png')"
   ]
  },
  {
   "cell_type": "markdown",
   "metadata": {},
   "source": [
    "## Steady State Analysis\n",
    "\n",
    "The blending tank is a system with two state variables (volume and composition). Suppose a mechanism is put in place to force\n",
    "\n",
    "$$w = w_1 + w_2$$\n",
    "\n",
    "The mechanism could involve the installation of an overflow weir, level controller, or some other device to force a balance between the outflow and total inflows.  In this case,\n",
    "\n",
    "$$\\frac{dV}{dt} = 0$$\n",
    "\n",
    "which means volume is at *steady state*.  In that case there is just one remaining differential equation\n",
    "\n",
    "$$\\frac{dx}{dt} = \\frac{1}{\\rho V}( w_1(x_1 - x) + w_1(x_2 - x))$$"
   ]
  },
  {
   "cell_type": "code",
   "execution_count": 42,
   "metadata": {
    "collapsed": false
   },
   "outputs": [
    {
     "name": "stdout",
     "output_type": "stream",
     "text": [
      "0.5\n"
     ]
    }
   ],
   "source": [
    "rho = 900.0  # density, kg/m**3\n",
    "\n",
    "w1 = 500.0   # stream 1, kg/min\n",
    "w2 = 200.0   # stream 2, kg/min\n",
    "w = w1 + w2  # set outflow equal to sum of inflows\n",
    "\n",
    "x1 = 0.4     # composition stream 1, mass fraction\n",
    "x2 = 0.75    # composition stream 2, mass fraction\n",
    "\n",
    "V = 2.0\n",
    "x = (w1*x1 + w2*x2)/(w1 + w2)\n",
    "print x"
   ]
  },
  {
   "cell_type": "code",
   "execution_count": 49,
   "metadata": {
    "collapsed": false
   },
   "outputs": [
    {
     "data": {
      "image/png": "[encoded data removed]",
      "text/plain": [
       "<matplotlib.figure.Figure at 0x10ce62310>"
      ]
     },
     "metadata": {},
     "output_type": "display_data"
    }
   ],
   "source": [
    "t = linspace(0,10.0)\n",
    "\n",
    "w1 = 400\n",
    "\n",
    "def func(x,t):\n",
    "    return (w1*(x1-x) + w2*(x2-x))/(rho*V)\n",
    "\n",
    "x_ode = odeint(func,x,t)\n",
    "\n",
    "a = -(w1+w2)/(rho*V)\n",
    "b = (w1*x1 + w2*x2)/(rho*V)\n",
    "x_exp = x*exp(a*t) +(b/a)*(exp(a*t)-1)\n",
    "\n",
    "plot(t,x_ode,'b')\n",
    "plot(t,x_exp,'r')\n",
    "xlabel('Time [min]')\n",
    "ylabel('Composition [mass fraction]')\n",
    "grid()"
   ]
  },
  {
   "cell_type": "code",
   "execution_count": null,
   "metadata": {
    "collapsed": true
   },
   "outputs": [],
   "source": []
  }
 ],
 "metadata": {
  "kernelspec": {
   "display_name": "Python 2",
   "language": "python",
   "name": "python2"
  },
  "language_info": {
   "codemirror_mode": {
    "name": "ipython",
    "version": 2
   },
   "file_extension": ".py",
   "mimetype": "text/x-python",
   "name": "python",
   "nbconvert_exporter": "python",
   "pygments_lexer": "ipython2",
   "version": "2.7.11"
  }
 },
 "nbformat": 4,
 "nbformat_minor": 0
}

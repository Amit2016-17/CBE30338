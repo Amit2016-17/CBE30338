{
 "cells": [
  {
   "cell_type": "markdown",
   "metadata": {},
   "source": [
    "# Process Variables\n",
    "\n",
    "Of the many ways to characterize chemical processes, thermodynamics offers unique insights that are invaluable in the synthesis of effective control systems."
   ]
  },
  {
   "cell_type": "markdown",
   "metadata": {},
   "source": [
    "## Intensive and Entensive Variables\n",
    "\n",
    "One of the first distinctions to describe in the difference between extensive and intenstive process variables. \n",
    "\n",
    "**Intensive variables** are those that do not depend on system size, such as concentration, temperature, or pressure. Examples of intensive variables: temperature ($T$), pressure ($P$), concentration ($C$), mole fraction, mass fraction, specific heat capacity, color, density, chemical potential.\n",
    "\n",
    "**Extensive variables** are variables that scale proportionally system size such as total volume or mass. Examples of extensive variables include mass ($m$), moles ($n$), internal energy ($U$), enthalpy ($H$), entropy ($S$), Gibb's energy ($G$), heat capacity ($C_p$).\n",
    "\n",
    "Roughly speaking, intensive variables tell us something about the state of the material making up the system of interest, while extensive variables describe the size of the system in various dimensions. The same distinction extends to process flows where extensive variables are given as rates rather than in static dimensions.\n",
    "\n",
    "One test that you can use to classify a process variable as extensive or intensive is to ask what is the value of the variable when combining two identical subsystems. For example, given indentical subsystems $A$ and $B$ with masses $m_A$ and $m_B$, the mass of the combined system $m_{A+B}$ is\n",
    "\n",
    "$$m_{A+B} = m_A + m_B$$\n",
    "\n",
    "which demonstrates that mass is an extensive variable. The temperature of the combined systems is\n",
    "\n",
    "$$T_{A+B} = T_A  = T_B$$\n",
    "\n",
    "which is the case for any intensive variable.\n",
    "\n",
    "### Exercises\n",
    "\n",
    "1. Why is heat capacity an extensive variable, whereas specific heat capacity is an intensive variable?\n",
    "\n",
    "1. A common version of the ideal gas law reads $$P V = n R T$$ Which variables are intensive? Which variables are extensive? How could you rewrite the ideal gas law in terms using only intensive variables? When would you prefer one version over the other?\n",
    "\n",
    "1. The kinetic energy of a mass $m$ moving at velocity $v$ is $$E. = \\frac{1}{2}m v^2$$ Rewrite this equation using only intensive variables.\n",
    "\n",
    "1. The fuel efficiency of vehicles is often reported in liters of fuel consumed per 100 km traveled. Is this a satsifactory intensive variable for comparing vehicles of different sizes?  Why or why not?  Another measure is the [brake specific fuel consumption (BSFC)](). What are the typical units?\n",
    "\n",
    "1. Consider a system comprised of batteries. The subsystems are combined by connecting the batteries in series. Is system voltage an intensive or extensive variable? What about the system current? How does this change if subsystems are combined by connecting the batteries in parallel? "
   ]
  },
  {
   "cell_type": "code",
   "execution_count": null,
   "metadata": {},
   "outputs": [],
   "source": []
  }
 ],
 "metadata": {
  "kernelspec": {
   "display_name": "Python 3",
   "language": "python",
   "name": "python3"
  },
  "language_info": {
   "codemirror_mode": {
    "name": "ipython",
    "version": 3
   },
   "file_extension": ".py",
   "mimetype": "text/x-python",
   "name": "python",
   "nbconvert_exporter": "python",
   "pygments_lexer": "ipython3",
   "version": "3.6.5"
  }
 },
 "nbformat": 4,
 "nbformat_minor": 2
}

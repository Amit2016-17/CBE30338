{
 "cells": [
  {
   "cell_type": "markdown",
   "metadata": {},
   "source": [
    "# DAE Examples"
   ]
  },
  {
   "cell_type": "code",
   "execution_count": 72,
   "metadata": {},
   "outputs": [],
   "source": [
    "from pyomo.environ import *\n",
    "from pyomo.dae import *\n",
    "from pyomo.dae.simulator import Simulator\n",
    "\n",
    "\n",
    "Ea  = 72750     # activation energy J/gmol\n",
    "R   = 8.314     # gas constant J/gmol/K\n",
    "k0  = 7.2e10    # Arrhenius rate constant 1/min\n",
    "V   = 100.0     # Volume [L]\n",
    "rho = 1000.0    # Density [g/L]\n",
    "Cp  = 0.239     # Heat capacity [J/g/K]\n",
    "dHr = -5.0e4    # Enthalpy of reaction [J/mol]\n",
    "UA  = 5.0e4     # Heat transfer [J/min/K]\n",
    "q   = 100.0     # Flowrate [L/min]\n",
    "cAi = 1.0       # Inlet feed concentration [mol/L]\n",
    "Ti  = 350.0     # Inlet feed temperature [K]\n",
    "cA0 = 0.5       # Initial concentration [mol/L]\n",
    "T0  = 350.0     # Initial temperature [K]\n",
    "Tc  = 300.0     # Coolant temperature [K]\n",
    "\n",
    "\n",
    "def cstr():\n",
    "    \n",
    "    m = ConcreteModel()\n",
    "    m.t = ContinuousSet(bounds=(0.0, 10.0))\n",
    "    m.cA = Var(m.t)\n",
    "    m.T  = Var(m.t)\n",
    "    m.dcA = DerivativeVar(m.cA)\n",
    "    m.dT  = DerivativeVar(m.T)\n",
    "\n",
    "    # Setting the initial conditions\n",
    "    m.cA[0.0] = cA0\n",
    "    m.T[0.0]  = T0\n",
    "    \n",
    "    k = lambda T: k0*exp(-Ea/R/T)\n",
    "    m.ode1 = Constraint(m.t, rule=lambda m, t: \n",
    "        m.dcA[t] == (q/V)*(cAi - m.cA[t]) - k(m.T[t])*m.cA[t])\n",
    "    m.ode2 = Constraint(m.t, rule=lambda m, t: \n",
    "        m.dT[t] == (q/V)*(Ti - m.T[t]) + (-dHr/rho/Cp)*k(m.T[t])*m.cA[t] + (UA/V/rho/Cp)*(Tc - m.T[t]))\n",
    "\n",
    "    return m"
   ]
  },
  {
   "cell_type": "code",
   "execution_count": 78,
   "metadata": {
    "scrolled": true
   },
   "outputs": [
    {
     "data": {
      "image/png": "[encoded data removed]",
      "text/plain": [
       "<matplotlib.figure.Figure at 0x123729828>"
      ]
     },
     "metadata": {},
     "output_type": "display_data"
    }
   ],
   "source": [
    "%matplotlib inline\n",
    "import matplotlib.pyplot as plt\n",
    "\n",
    "Tc = 300\n",
    "sim = Simulator(cstr(), package='casadi')\n",
    "tsim, profiles = sim.simulate(numpoints=100, integrator='idas')\n",
    "\n",
    "for idx,v in enumerate(sim.get_variable_order()):\n",
    "    plt.subplot(2,1,idx+1)\n",
    "    plt.plot(tsim,profiles[:,idx])\n",
    "    plt.ylabel(v)\n",
    "    plt.xlabel('time')\n",
    "\n",
    "plt.tight_layout()"
   ]
  },
  {
   "cell_type": "code",
   "execution_count": null,
   "metadata": {},
   "outputs": [],
   "source": []
  }
 ],
 "metadata": {
  "kernelspec": {
   "display_name": "Python 3",
   "language": "python",
   "name": "python3"
  },
  "language_info": {
   "codemirror_mode": {
    "name": "ipython",
    "version": 3
   },
   "file_extension": ".py",
   "mimetype": "text/x-python",
   "name": "python",
   "nbconvert_exporter": "python",
   "pygments_lexer": "ipython3",
   "version": "3.6.4"
  }
 },
 "nbformat": 4,
 "nbformat_minor": 2
}

{
 "cells": [
  {
   "cell_type": "markdown",
   "metadata": {},
   "source": [
    "# DAE Examples"
   ]
  },
  {
   "cell_type": "code",
   "execution_count": 1,
   "metadata": {},
   "outputs": [
    {
     "data": {
      "text/plain": [
       "<matplotlib.figure.Figure at 0x120205898>"
      ]
     },
     "metadata": {},
     "output_type": "display_data"
    }
   ],
   "source": [
    "#\n",
    "# Batch reactor example from Biegler book on Nonlinear Programming Chapter 9\n",
    "#\n",
    "# Inside the reactor we have the first order reversible reactions\n",
    "#\n",
    "# A <=> B <=> C\n",
    "#\n",
    "# DAE model for the reactor system:\n",
    "#\n",
    "# zA' = -p1*zA + p2*zB, zA(0)=1\n",
    "# zB' = p1*zA - (p2 + p3)*zB + p4*zC, zB(0)=0\n",
    "# zA + zB + zC = 1\n",
    "\n",
    "from pyomo.environ import *\n",
    "from pyomo.dae import *\n",
    "from pyomo.dae.simulator import Simulator\n",
    "\n",
    "\n",
    "def create_model():\n",
    "    m = ConcreteModel()\n",
    "\n",
    "    m.t = ContinuousSet(bounds=(0.0, 1))\n",
    "\n",
    "    m.p1 = Param(initialize=4.0)\n",
    "    m.p2 = Param(initialize=2.0)\n",
    "    m.p3 = Param(initialize=40.0)\n",
    "    m.p4 = Param(initialize=20.0)\n",
    "\n",
    "    m.za = Var(m.t)\n",
    "    m.zb = Var(m.t)\n",
    "    m.zc = Var(m.t)\n",
    "    \n",
    "    m.dza = DerivativeVar(m.za)\n",
    "    m.dzb = DerivativeVar(m.zb)\n",
    "\n",
    "    # Setting the initial conditions\n",
    "    m.za[0.0] = 1\n",
    "    m.zb[0.0] = 0\n",
    "\n",
    "    def _diffeq1(m, t):\n",
    "        return m.dza[t] == -m.p1 * m.za[t] + m.p2 * m.zb[t]\n",
    "    m.diffeq1 = Constraint(m.t, rule=_diffeq1)\n",
    "\n",
    "    def _diffeq2(m, t):\n",
    "        return m.dzb[t] == m.p1 * m.za[t] - \\\n",
    "                           (m.p2 + m.p3) * m.zb[t] + m.p4 * m.zc[t]\n",
    "    m.diffeq2 = Constraint(m.t, rule=_diffeq2)\n",
    "\n",
    "    def _algeq1(m, t):\n",
    "        return m.za[t] + m.zb[t] + m.zc[t] == 1\n",
    "    m.algeq1 = Constraint(m.t, rule=_algeq1)\n",
    "    return m\n",
    "\n",
    "\n",
    "def simulate_model(m):\n",
    "    # Simulate the model using casadi\n",
    "    sim = Simulator(m, package='casadi')\n",
    "    tsim, profiles = sim.simulate(numpoints=100, integrator='idas')\n",
    "\n",
    "    # Discretize model using Orthogonal Collocation\n",
    "    discretizer = TransformationFactory('dae.collocation')\n",
    "    discretizer.apply_to(m, nfe=10, ncp=3)\n",
    "\n",
    "    # Initialize the discretized model using the simulator profiles\n",
    "    sim.initialize_model()\n",
    "\n",
    "    return sim, tsim, profiles\n",
    "\n",
    "\n",
    "def plot_result(m, sim, tsim, profiles):\n",
    "    import matplotlib.pyplot as plt\n",
    "\n",
    "    time = list(m.t)\n",
    "    za = [value(m.za[t]) for t in m.t]\n",
    "    zb = [value(m.zb[t]) for t in m.t]\n",
    "    zc = [value(m.zc[t]) for t in m.t]\n",
    "\n",
    "    varorder = sim.get_variable_order()\n",
    "    algorder = sim.get_variable_order(vartype='algebraic')\n",
    "\n",
    "    for idx1, v in enumerate(varorder):\n",
    "        plt.plot(tsim, profiles[:, idx1], label=v)\n",
    "\n",
    "    for idx2, v in enumerate(algorder):\n",
    "        plt.plot(tsim, profiles[:, len(varorder) + idx2], label=v)\n",
    "\n",
    "    plt.plot(time, za, 'o', label='za interp')\n",
    "    plt.plot(time, zb, 'o', label='zb interp')\n",
    "    plt.plot(time, zc, 'o', label='zc interp')\n",
    "    plt.xlabel('t')\n",
    "    plt.legend(loc='best')\n",
    "    plt.show()\n",
    "\n",
    "if __name__ == \"__main__\":\n",
    "    model = create_model()\n",
    "    sim, tsim, profiles = simulate_model(model)\n",
    "    plot_result(model, sim, tsim, profiles)"
   ]
  },
  {
   "cell_type": "code",
   "execution_count": 2,
   "metadata": {},
   "outputs": [
    {
     "data": {
      "image/png": "[encoded data removed]",
      "text/plain": [
       "<matplotlib.figure.Figure at 0x120205eb8>"
      ]
     },
     "metadata": {},
     "output_type": "display_data"
    }
   ],
   "source": [
    "%matplotlib inline\n",
    "\n",
    "\n",
    "model = create_model()\n",
    "sim, tsim, profiles = simulate_model(model)\n",
    "plot_result(model, sim, tsim, profiles)"
   ]
  },
  {
   "cell_type": "code",
   "execution_count": null,
   "metadata": {},
   "outputs": [],
   "source": []
  }
 ],
 "metadata": {
  "kernelspec": {
   "display_name": "Python 3",
   "language": "python",
   "name": "python3"
  },
  "language_info": {
   "codemirror_mode": {
    "name": "ipython",
    "version": 3
   },
   "file_extension": ".py",
   "mimetype": "text/x-python",
   "name": "python",
   "nbconvert_exporter": "python",
   "pygments_lexer": "ipython3",
   "version": "3.6.4"
  }
 },
 "nbformat": 4,
 "nbformat_minor": 2
}

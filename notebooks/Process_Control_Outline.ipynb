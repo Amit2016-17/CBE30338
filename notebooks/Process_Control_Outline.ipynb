{
 "cells": [
  {
   "cell_type": "markdown",
   "metadata": {},
   "source": [
    "# Process Control - Outline"
   ]
  },
  {
   "cell_type": "markdown",
   "metadata": {},
   "source": [
    "## 1. Basic Concepts\n",
    "\n",
    "1. Process Control\n",
    "   1. Disturbance Variables (DV)\n",
    "   2. Manipulated Variables (MV)\n",
    "   3. Controlled Variables (CV)\n",
    "   4. Process Variables (PV)\n",
    "   5. Setpoint (SP or SV)\n",
    "   \n",
    "2. Modes of Control\n",
    "   1. Feedforward Control\n",
    "      * Compenstation for setpoint and measured disturbances\n",
    "      * Depends on a model able to predict response to DV and MV\n",
    "   2. Feedback Control\n",
    "      * Improved speed of response\n",
    "      * Suppress unmeasured disturbances\n",
    "      * Insensitive to model error\n",
    "            \n",
    "3. Simple Control Algorithms (without internal state)\n",
    "   1. Relay control\n",
    "      * Simple, effective\n",
    "      * Requires minimum of process knowledge\n",
    "      * Sustained oscillation\n",
    "      * Requires hysteresis to suppress measurement noise\n",
    "      * Large, sustained control action\n",
    "   2. Proportional control\n",
    "      * Results in a steady-state offset from the setpoint\n",
    "      * Requires specification of a control gain $K_p$\n",
    "      \n",
    "4. Control Implementation in Python\n",
    "   1. Basic control loop (OsCAR)\n",
    "      * Observe\n",
    "      * Compute\n",
    "      * Actuate\n",
    "      * Record\n",
    "   2. Functions to Implement\n",
    "      * Relay control\n",
    "      * Proportional control\n"
   ]
  },
  {
   "cell_type": "markdown",
   "metadata": {
    "slideshow": {
     "slide_type": "fragment"
    }
   },
   "source": [
    "## 2. Process Dynamics\n",
    "\n",
    "1. Modeling for process control provides two key benefits:\n",
    "   1. Improved control design through simulation\n",
    "   2. Incorporating models into the control strategy.\n",
    "\n",
    "2. Two main approaches to modeling for process control:\n",
    "   1. Empirical (or 'black-box') models that reproduce essential dynamical responses.\n",
    "   2. First Principles models\n",
    "      * material and energy balances\n",
    "      * detailed understanding of physico-chemical phenomena.\n",
    "\n",
    "3. Using empirical models for process control.\n",
    "   1. Concepts\n",
    "      * Inputs/Outputs\n",
    "      * Deviation Variables\n",
    "      * Step Response\n",
    "      * Linear vs Nonlinear Response\n",
    "      * Gains\n",
    "      * Time constants\n",
    "   2. Typical Models\n",
    "      * First Order ($K$, $\\tau$)\n",
    "      * First Order with Deadtime  ($K$, $\\tau$, $\\theta$)\n",
    "      * Second Order - Underdamped ($K$, $\\tau_1$, $\\tau_2$)\n",
    "      * Second Order - Critically Damped ($K$, $\\tau$)\n",
    "      * Second Order - Overdamped ($K$, $\\tau$, $\\zeta$)\n",
    "      * Integrating Processes\n",
    "   3. Fitting empirical models\n",
    "      * Simulation and comparison\n",
    "      * Regression\n",
    "      \n",
    "4. First Principles Models \n",
    "   1. Developing models\n",
    "   2. Solving typical models with odeint"
   ]
  },
  {
   "cell_type": "code",
   "execution_count": null,
   "metadata": {},
   "outputs": [],
   "source": []
  }
 ],
 "metadata": {
  "kernelspec": {
   "display_name": "Python 3",
   "language": "python",
   "name": "python3"
  },
  "language_info": {
   "codemirror_mode": {
    "name": "ipython",
    "version": 3
   },
   "file_extension": ".py",
   "mimetype": "text/x-python",
   "name": "python",
   "nbconvert_exporter": "python",
   "pygments_lexer": "ipython3",
   "version": "3.6.3"
  }
 },
 "nbformat": 4,
 "nbformat_minor": 2
}

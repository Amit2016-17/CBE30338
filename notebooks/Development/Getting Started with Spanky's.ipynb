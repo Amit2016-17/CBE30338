{
 "cells": [
  {
   "cell_type": "markdown",
   "metadata": {},
   "source": [
    "# Getting Started with Spanky's"
   ]
  },
  {
   "cell_type": "code",
   "execution_count": 5,
   "metadata": {
    "collapsed": true
   },
   "outputs": [],
   "source": [
    "%matplotlib inline\n",
    "\n",
    "import matplotlib.pyplot as plt\n",
    "import seaborn as sns\n",
    "sns.set_context('talk')\n",
    "\n",
    "import simpy\n",
    "import itertools\n",
    "import random\n",
    "import pandas as pd\n",
    "import numpy as np"
   ]
  },
  {
   "cell_type": "markdown",
   "metadata": {},
   "source": [
    "## Menu"
   ]
  },
  {
   "cell_type": "code",
   "execution_count": 6,
   "metadata": {
    "collapsed": false
   },
   "outputs": [
    {
     "data": {
      "text/html": [
       "<div>\n",
       "<table border=\"1\" class=\"dataframe\">\n",
       "  <thead>\n",
       "    <tr style=\"text-align: right;\">\n",
       "      <th></th>\n",
       "      <th>nuggets</th>\n",
       "      <th>pizza</th>\n",
       "      <th>rolls</th>\n",
       "      <th>sticks</th>\n",
       "    </tr>\n",
       "  </thead>\n",
       "  <tbody>\n",
       "    <tr>\n",
       "      <th>cook time</th>\n",
       "      <td>10.0</td>\n",
       "      <td>13.0</td>\n",
       "      <td>8.0</td>\n",
       "      <td>10.0</td>\n",
       "    </tr>\n",
       "    <tr>\n",
       "      <th>prep time</th>\n",
       "      <td>1.0</td>\n",
       "      <td>0.0</td>\n",
       "      <td>0.0</td>\n",
       "      <td>1.0</td>\n",
       "    </tr>\n",
       "    <tr>\n",
       "      <th>probability</th>\n",
       "      <td>0.2</td>\n",
       "      <td>0.4</td>\n",
       "      <td>0.1</td>\n",
       "      <td>0.3</td>\n",
       "    </tr>\n",
       "  </tbody>\n",
       "</table>\n",
       "</div>"
      ],
      "text/plain": [
       "             nuggets  pizza  rolls  sticks\n",
       "cook time       10.0   13.0    8.0    10.0\n",
       "prep time        1.0    0.0    0.0     1.0\n",
       "probability      0.2    0.4    0.1     0.3"
      ]
     },
     "execution_count": 6,
     "metadata": {},
     "output_type": "execute_result"
    }
   ],
   "source": [
    "menu = {\n",
    "    'pizza': {'probability': 0.4, 'prep time': 0, 'cook time': 13},\n",
    "    'sticks': {'probability': 0.3, 'prep time': 1, 'cook time': 10},\n",
    "    'nuggets': {'probability': 0.2, 'prep time': 1, 'cook time': 10},\n",
    "    'rolls': {'probability': 0.1, 'prep time': 0, 'cook time': 8}\n",
    "}\n",
    "menu = pd.DataFrame(menu)\n",
    "\n",
    "items = menu.columns\n",
    "probs = menu.ix['probability',:]\n",
    "\n",
    "menu"
   ]
  },
  {
   "cell_type": "markdown",
   "metadata": {},
   "source": [
    "## Model"
   ]
  },
  {
   "cell_type": "code",
   "execution_count": 103,
   "metadata": {
    "collapsed": false
   },
   "outputs": [],
   "source": [
    "class Spanky(object):\n",
    "\n",
    "    def __init__(self,N_SERVERS=1,N_OVENS=2,T_ORDER=10):\n",
    "        self.env = simpy.Environment()\n",
    "        self.server = simpy.Resource(self.env,N_SERVERS)   # server resources\n",
    "        self.oven = simpy.Resource(self.env,N_OVENS)       # oven resources\n",
    "        self.T_ORDER = T_ORDER\n",
    "        self.data = dict()\n",
    "        self.orderQueue = pd.Series([0],[0])               # track orders in progress\n",
    "        self.env.process(self.orderGenerator())            # where to start the model\n",
    "        \n",
    "    def writeLog(self,orderId,item,event,t=None):\n",
    "        if t==None:\n",
    "            t = self.env.now\n",
    "        self.data[orderId,item,event] = t\n",
    "        \n",
    "    @property\n",
    "    def log(self):\n",
    "        df = pd.DataFrame([[a,b,c,self.data[a,b,c]] for (a,b,c) in self.data.keys()])\n",
    "        df.columns = ['OrderID','Item','Event','Time']\n",
    "        return df.pivot_table(values='Time',index=['OrderID','Item'],columns=['Event'])\n",
    "    \n",
    "    def stats(self):\n",
    "        df = w.log\n",
    "        late = df['5 finish']-df['6 tquote']\n",
    "        late = late[late > 0]\n",
    "        \n",
    "        N_orders = df[df['1 order']>0]['1 order'].count()\n",
    "        N_finished = df[df['5 finish']>0]['5 finish'].count()\n",
    "        N_late = late.count()\n",
    "        N_latefrac = N_late/N_orders\n",
    "        N_meanlate = late.mean()\n",
    "        N_maxlate = late.max()\n",
    "        \n",
    "        print(\"       Orders Received = {0:6d}\".format(N_orders))\n",
    "        print(\"       Orders Finished = {0:6d}\".format(N_finished))\n",
    "        print(\"           Late Orders = {0:6d}\".format(N_late))\n",
    "        print(\"Fraction that are late = {0:6.3f}\".format(N_latefrac))\n",
    "        print(\"      Average lateness = {0:6.3f}\".format(N_meanlate))\n",
    "        print(\"      Maximum lateness = {0:6.3f}\".format(N_maxlate))\n",
    "        \n",
    "        plt.subplot(2,1,1)\n",
    "        late.hist()\n",
    "        plt.title('Distribution of Late Orders')\n",
    "        plt.ylabel('Number of orders')\n",
    "        plt.xlabel('Minutes late')\n",
    "        plt.subplot(2,1,2)\n",
    "        w.orderQueue.plot()\n",
    "        plt.xlabel('Time [min]')\n",
    "        plt.ylabel('Orders')\n",
    "        plt.title('Orders in Process')\n",
    "        plt.tight_layout()\n",
    "\n",
    "    def writeOrderQueue(self,inc):                         # track orders in progress\n",
    "        self.orderQueue[self.env.now] = self.orderQueue.iloc[-1] + inc\n",
    "        \n",
    "    def order(self,orderId,item):\n",
    "        # take order from customer\n",
    "        with self.server.request() as serverreq:\n",
    "            yield serverreq\n",
    "            self.writeLog(orderId,item,'1 order')\n",
    "            self.writeOrderQueue(+1)\n",
    "            yield self.env.timeout(0.5)\n",
    "            # give receipt to customer\n",
    "            self.writeLog(orderId,item,'2 receipt')\n",
    "            # quote finish time to customer\n",
    "            tquote = self.env.now + menu[item]['prep time'] + menu[item]['cook time'] + 0.5\n",
    "            self.writeLog(orderId,item,'6 tquote',tquote)\n",
    "            \n",
    "        # request server to prep order\n",
    "        with self.server.request() as serverreq:\n",
    "            yield serverreq\n",
    "            self.writeLog(orderId,item,'3 prep')\n",
    "            yield self.env.timeout(menu[item]['prep time'])\n",
    "        \n",
    "        # request oven to cook order\n",
    "        with self.oven.request() as ovenreq:\n",
    "            yield ovenreq\n",
    "            # request server to load oven\n",
    "            with self.server.request() as serverreq:\n",
    "                yield serverreq\n",
    "                yield self.env.timeout(0.25)\n",
    "                self.writeLog(orderId,item,'4 oven') \n",
    "            # cook order\n",
    "            yield self.env.timeout(menu[item]['cook time'])\n",
    "            # request server to unload oven\n",
    "            with self.server.request() as serverreq:\n",
    "                yield serverreq\n",
    "                yield self.env.timeout(0.25)\n",
    "                self.writeLog(orderId,item,'5 finish')\n",
    "                self.writeOrderQueue(-1)\n",
    "            \n",
    "    def orderGenerator(self):\n",
    "        for orderId in itertools.count():\n",
    "            yield self.env.timeout(random.expovariate(1.0/self.T_ORDER))\n",
    "            item = np.random.choice(items,p = probs)\n",
    "            self.writeLog(orderId,item,'0 arrival')\n",
    "            self.env.process(self.order(orderId,item))\n",
    "\n",
    "    def run(self,t_sim):\n",
    "        self.env.run(until=t_sim)"
   ]
  },
  {
   "cell_type": "code",
   "execution_count": 104,
   "metadata": {
    "collapsed": false
   },
   "outputs": [
    {
     "name": "stdout",
     "output_type": "stream",
     "text": [
      "       Orders Received =     17\n",
      "       Orders Finished =     13\n",
      "           Late Orders =      5\n",
      "Fraction that are late =  0.294\n",
      "      Average lateness =  2.664\n",
      "      Maximum lateness =  6.152\n"
     ]
    },
    {
     "data": {
      "image/png": "[encoded data removed]",
      "text/plain": [
       "<matplotlib.figure.Figure at 0x11662d438>"
      ]
     },
     "metadata": {},
     "output_type": "display_data"
    }
   ],
   "source": [
    "# create Spanky's with one server, two ovens, with orders arriving at an average of 10 minutes\n",
    "w = Spanky(1,2,10)\n",
    "\n",
    "# run a simulation for 180 minutes\n",
    "w.run(180)\n",
    "\n",
    "# summarize data\n",
    "w.stats()"
   ]
  },
  {
   "cell_type": "code",
   "execution_count": 120,
   "metadata": {
    "collapsed": false
   },
   "outputs": [
    {
     "name": "stdout",
     "output_type": "stream",
     "text": [
      "0 arrival\n",
      "1 order\n",
      "2 receipt\n",
      "3 prep\n",
      "4 oven\n",
      "5 finish\n",
      "6 tquote\n"
     ]
    },
    {
     "data": {
      "text/html": [
       "<div>\n",
       "<table border=\"1\" class=\"dataframe\">\n",
       "  <thead>\n",
       "    <tr style=\"text-align: right;\">\n",
       "      <th>Event</th>\n",
       "      <th>0 arrival</th>\n",
       "      <th>1 order</th>\n",
       "      <th>2 receipt</th>\n",
       "      <th>3 prep</th>\n",
       "      <th>4 oven</th>\n",
       "      <th>5 finish</th>\n",
       "      <th>6 tquote</th>\n",
       "    </tr>\n",
       "    <tr>\n",
       "      <th>Item</th>\n",
       "      <th></th>\n",
       "      <th></th>\n",
       "      <th></th>\n",
       "      <th></th>\n",
       "      <th></th>\n",
       "      <th></th>\n",
       "      <th></th>\n",
       "    </tr>\n",
       "  </thead>\n",
       "  <tbody>\n",
       "    <tr>\n",
       "      <th>nuggets</th>\n",
       "      <td>0.0</td>\n",
       "      <td>0.000000</td>\n",
       "      <td>0.500000</td>\n",
       "      <td>0.500000</td>\n",
       "      <td>3.889440</td>\n",
       "      <td>14.139440</td>\n",
       "      <td>12.000000</td>\n",
       "    </tr>\n",
       "    <tr>\n",
       "      <th>pizza</th>\n",
       "      <td>0.0</td>\n",
       "      <td>0.037232</td>\n",
       "      <td>0.537232</td>\n",
       "      <td>0.537232</td>\n",
       "      <td>0.982967</td>\n",
       "      <td>14.000000</td>\n",
       "      <td>14.037232</td>\n",
       "    </tr>\n",
       "    <tr>\n",
       "      <th>rolls</th>\n",
       "      <td>0.0</td>\n",
       "      <td>0.000000</td>\n",
       "      <td>0.500000</td>\n",
       "      <td>0.500000</td>\n",
       "      <td>0.750000</td>\n",
       "      <td>9.000000</td>\n",
       "      <td>9.000000</td>\n",
       "    </tr>\n",
       "    <tr>\n",
       "      <th>sticks</th>\n",
       "      <td>0.0</td>\n",
       "      <td>0.000000</td>\n",
       "      <td>0.500000</td>\n",
       "      <td>0.500000</td>\n",
       "      <td>3.362145</td>\n",
       "      <td>13.149871</td>\n",
       "      <td>12.000000</td>\n",
       "    </tr>\n",
       "  </tbody>\n",
       "</table>\n",
       "</div>"
      ],
      "text/plain": [
       "Event    0 arrival   1 order  2 receipt    3 prep    4 oven   5 finish  \\\n",
       "Item                                                                     \n",
       "nuggets        0.0  0.000000   0.500000  0.500000  3.889440  14.139440   \n",
       "pizza          0.0  0.037232   0.537232  0.537232  0.982967  14.000000   \n",
       "rolls          0.0  0.000000   0.500000  0.500000  0.750000   9.000000   \n",
       "sticks         0.0  0.000000   0.500000  0.500000  3.362145  13.149871   \n",
       "\n",
       "Event     6 tquote  \n",
       "Item                \n",
       "nuggets  12.000000  \n",
       "pizza    14.037232  \n",
       "rolls     9.000000  \n",
       "sticks   12.000000  "
      ]
     },
     "execution_count": 120,
     "metadata": {},
     "output_type": "execute_result"
    }
   ],
   "source": [
    "df = w.log\n",
    "s = df['0 arrival'].copy()\n",
    "for c in df.columns:\n",
    "    print(c)\n",
    "    df[c] = df[c] - s\n",
    "\n",
    "df.groupby(level=1).mean()"
   ]
  },
  {
   "cell_type": "code",
   "execution_count": null,
   "metadata": {
    "collapsed": true
   },
   "outputs": [],
   "source": []
  },
  {
   "cell_type": "code",
   "execution_count": null,
   "metadata": {
    "collapsed": true
   },
   "outputs": [],
   "source": []
  }
 ],
 "metadata": {
  "kernelspec": {
   "display_name": "Python [conda root]",
   "language": "python",
   "name": "conda-root-py"
  },
  "language_info": {
   "codemirror_mode": {
    "name": "ipython",
    "version": 3
   },
   "file_extension": ".py",
   "mimetype": "text/x-python",
   "name": "python",
   "nbconvert_exporter": "python",
   "pygments_lexer": "ipython3",
   "version": "3.5.2"
  }
 },
 "nbformat": 4,
 "nbformat_minor": 2
}

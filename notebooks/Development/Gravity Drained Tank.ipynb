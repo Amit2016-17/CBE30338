{
 "cells": [
  {
   "cell_type": "code",
   "execution_count": 9,
   "metadata": {
    "collapsed": false
   },
   "outputs": [
    {
     "data": {
      "text/plain": [
       "[<matplotlib.lines.Line2D at 0x10c208950>]"
      ]
     },
     "execution_count": 9,
     "metadata": {},
     "output_type": "execute_result"
    },
    {
     "data": {
      "image/png": "[encoded data removed]",
      "text/plain": [
       "<matplotlib.figure.Figure at 0x10bba72d0>"
      ]
     },
     "metadata": {},
     "output_type": "display_data"
    }
   ],
   "source": [
    "from pylab import *\n",
    "from scipy.integrate import odeint\n",
    "%matplotlib inline\n",
    "\n",
    "Cv = 0.1\n",
    "q = 0.15\n",
    "A = 2.0\n",
    "\n",
    "def q(t):\n",
    "    if t > 200.0:\n",
    "        return 0.16\n",
    "    else:\n",
    "        return 0.15\n",
    "    \n",
    "def func(y,t):\n",
    "    h = y\n",
    "    return q(t)/A - Cv*sqrt(h)/A\n",
    "\n",
    "IC = [0.0]\n",
    "t = linspace(0,400)\n",
    "\n",
    "y  = odeint(func,IC,t)\n",
    "plot(t,y)"
   ]
  },
  {
   "cell_type": "code",
   "execution_count": null,
   "metadata": {
    "collapsed": true
   },
   "outputs": [],
   "source": []
  }
 ],
 "metadata": {
  "anaconda-cloud": {},
  "kernelspec": {
   "display_name": "Python [conda root]",
   "language": "python",
   "name": "conda-root-py"
  },
  "language_info": {
   "codemirror_mode": {
    "name": "ipython",
    "version": 3
   },
   "file_extension": ".py",
   "mimetype": "text/x-python",
   "name": "python",
   "nbconvert_exporter": "python",
   "pygments_lexer": "ipython3",
   "version": "3.5.2"
  }
 },
 "nbformat": 4,
 "nbformat_minor": 0
}

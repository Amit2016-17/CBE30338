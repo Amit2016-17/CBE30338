{
 "cells": [
  {
   "cell_type": "markdown",
   "metadata": {
    "deletable": true,
    "editable": true
   },
   "source": [
    "# Gravity Drained Tank\n",
    "\n",
    "Linear models are extremely convenient for analysis and control design. If we can successfully approximate the dynamics the of a system with a linear model then control design and analysis will be much easier\n",
    "\n",
    "In the example we study the problem of constructing a linear approximation to a nonlinear process model. \n",
    "\n",
    "## Torricelli's law\n",
    "\n",
    "Torricelli's law states the velocity of an incompressible liquid stream exiting a liquid tank at level $h$ below the surface is \n",
    "\n",
    "$$v = \\sqrt{2gh}$$ \n",
    "\n",
    "This is the same velocity as an object dropped from a height $h$.\n",
    "\n",
    "The derivation is straightforward. From Bernoulli's principle,\n",
    "\n",
    "$$\\frac{v^2}{2} + gh + \\frac{P}{\\rho} = \\text{constant}$$\n",
    "\n",
    "Applying this principle, we compare a drop of water just below the surface of the water at distance $h$ above the exit, to a drop of water exiting the tank\n",
    "\n",
    "$$gh + \\frac{P_{atm}}{\\rho} = \\frac{v^2}{2} + \\frac{P_{atm}}{\\rho}$$\n",
    "\n",
    "$$\\implies v^2 = 2gh$$\n",
    "$$\\implies v = \\sqrt{2gh}$$\n",
    "\n",
    "Torricelli's law is a rough approximation that doesn't account for the effects of fluid viscosity, the specific flow geometry near the exit, or other flow non-idealities. Nevertheless it is provides a useful first approximation for flow from a tank.\n",
    "\n",
    "## Mass balance on a Tank with Constant Area\n",
    "\n",
    "This example demonstrates the key steps in simulating the behavior of a gravity drained tank.  The liquid height in the tank is described by a differential equation  \n",
    "\n",
    "$$A\\frac{dh}{dt} = q_{in} - q_{out}$$\n",
    "\n",
    "where $q_{out}$ is a function of liquid height. We assume flow from the tank is proportional to square root of the liquid height\n",
    "\n",
    "$$ q_{out} = C_v\\sqrt{h} $$\n",
    "\n",
    "In our standard state space form for a nonlinear ordinary differential equation\n",
    "\n",
    "$$ \\frac{dh}{dt} = - \\frac{C_V}{A}\\sqrt{h} + \\frac{1}{A}q_{in} $$"
   ]
  },
  {
   "cell_type": "markdown",
   "metadata": {
    "deletable": true,
    "editable": true
   },
   "source": [
    "## Step 1. Define parameters\n",
    "\n",
    "Provide values for all relevant parameters.  Use comments to describe the parameters and units."
   ]
  },
  {
   "cell_type": "code",
   "execution_count": 20,
   "metadata": {
    "collapsed": false,
    "deletable": true,
    "editable": true
   },
   "outputs": [
    {
     "data": {
      "image/png": "[encoded data removed]",
      "text/plain": [
       "<matplotlib.figure.Figure at 0x111e72320>"
      ]
     },
     "metadata": {},
     "output_type": "display_data"
    }
   ],
   "source": [
    "%matplotlib inline\n",
    "import matplotlib.pyplot as plt\n",
    "import numpy as np\n",
    "from scipy.integrate import odeint\n",
    "\n",
    "Cv  = 0.1     # Outlet valve constant [cubic meters/min/meter^1/2]\n",
    "A   = 1.0     # Tank area [meter^2]\n",
    "\n",
    "# inlet flow rate in cubic meters/min\n",
    "def qin(t):\n",
    "    return 150/1000  # cubic meters/min\n",
    "\n",
    "def f(h,t):\n",
    "    return qin(t)/A - Cv*np.sqrt(h)/A\n",
    "\n",
    "IC = [0.0]\n",
    "t = np.linspace(0,200,101)\n",
    "h = odeint(f,IC,t)\n",
    "plt.plot(t,h)\n",
    "\n",
    "plt.xlabel('Time [min]')\n",
    "plt.ylabel('Level [m]')\n",
    "plt.grid();"
   ]
  },
  {
   "cell_type": "markdown",
   "metadata": {},
   "source": [
    "Let's try a linear approximation\n",
    "\n",
    "$$\\tau\\frac{dx}{dt} + x = Ku$$\n",
    "\n",
    "which has a step response solution that can be written\n",
    "\n",
    "$$x(t) = x_{ss} + (x_0 - x_{ss})\\exp(-t/\\tau)$$\n",
    "\n",
    "where $x_{ss} = Ku_{ss}$. The parameters in the model can be fit from the algebraic formulas\n",
    "\n",
    "$$ K = \\frac{x_{ss} - x_0}{u_{ss} - u_0}$$\n",
    "\n",
    "$$\\frac{x_{ss} - x(t)}{x_{ss} - x_0} = \\exp(-t/\\tau)$$\n"
   ]
  },
  {
   "cell_type": "code",
   "execution_count": 29,
   "metadata": {
    "collapsed": false
   },
   "outputs": [
    {
     "data": {
      "text/plain": [
       "[<matplotlib.lines.Line2D at 0x111b77e80>]"
      ]
     },
     "execution_count": 29,
     "metadata": {},
     "output_type": "execute_result"
    },
    {
     "data": {
      "image/png": "[encoded data removed]",
      "text/plain": [
       "<matplotlib.figure.Figure at 0x111b77358>"
      ]
     },
     "metadata": {},
     "output_type": "display_data"
    }
   ],
   "source": [
    "K = h[-1]/0.15\n",
    "tau = -t[10]/np.log((h[-1]-h[10])/h[-1])\n",
    "\n",
    "xss = K*0.15\n",
    "xpred = xss - xss*np.exp(-t/tau)\n",
    "\n",
    "plt.plot(t,h)\n",
    "plt.plot(t,xpred)"
   ]
  },
  {
   "cell_type": "markdown",
   "metadata": {
    "deletable": true,
    "editable": true
   },
   "source": [
    "## Step 2. Nonlinear Simulation"
   ]
  },
  {
   "cell_type": "code",
   "execution_count": 14,
   "metadata": {
    "collapsed": true,
    "deletable": true,
    "editable": true
   },
   "outputs": [],
   "source": [
    "def qin(t):\n",
    "    if t < 200.0:\n",
    "        return 0.15         # m**3/min\n",
    "    else:\n",
    "        return 0.15 + 0.01  # m**3/min\n",
    "    \n",
    "def func(y,t):\n",
    "    h = y\n",
    "    return qin(t)/A - Cv*np.sqrt(h)/A\n",
    "\n"
   ]
  },
  {
   "cell_type": "code",
   "execution_count": 15,
   "metadata": {
    "collapsed": false,
    "deletable": true,
    "editable": true
   },
   "outputs": [
    {
     "data": {
      "image/png": "[encoded data removed]",
      "text/plain": [
       "<matplotlib.figure.Figure at 0x109582510>"
      ]
     },
     "metadata": {},
     "output_type": "display_data"
    }
   ],
   "source": [
    "IC = [0.0]\n",
    "t = linspace(0,400.0)\n",
    "\n",
    "y = odeint(func,IC,t)\n",
    "\n",
    "# visualization\n",
    "figure(figsize=(12,4))\n",
    "plot(t,y)\n",
    "xlabel('Time [min]')\n",
    "ylabel('Tank Level [m]')\n",
    "\n",
    "grid()"
   ]
  },
  {
   "cell_type": "markdown",
   "metadata": {
    "collapsed": true,
    "deletable": true,
    "editable": true
   },
   "source": [
    "# Step 3. Steady State\n",
    "\n",
    "Given a nonlinear model\n",
    "\n",
    "$$\\frac{dh}{dt} = f(h,q)$$\n",
    "\n",
    "where $h$ is the state and $q$ is the inlet. Let $\\bar{q}$ be a nominal (i.e, typical) value. The steady-state value of $h$ is $\\bar{h}$ is that value which sets $\\frac{dh}{dt}$ to zero, in other words the solution to the equation\n",
    "\n",
    "$$f(\\bar{h},\\bar{q}) = 0$$\n",
    "\n",
    "In this case,\n",
    "\n",
    "$$\\frac{1}{A}\\bar{q}_{in} - \\frac{C_V}{A}\\sqrt{\\bar{h}} = 0$$\n",
    "\n",
    "which gives\n",
    "\n",
    "$$\\bar{h} = \\left(\\frac{\\bar{q}_{in}}{C_V}\\right)^2$$"
   ]
  },
  {
   "cell_type": "code",
   "execution_count": 30,
   "metadata": {
    "collapsed": false,
    "deletable": true,
    "editable": true
   },
   "outputs": [
    {
     "name": "stdout",
     "output_type": "stream",
     "text": [
      "Steady State liquid level = 2.25 meters\n"
     ]
    }
   ],
   "source": [
    "from pylab import *\n",
    "from scipy.integrate import odeint\n",
    "%matplotlib inline\n",
    "\n",
    "Cv  = 0.1     # Outlet valve constant [cubic meters/min/meter^1/2]\n",
    "A   = 2.0     # Tank area [meter^2]\n",
    "\n",
    "qSS = 0.15            # nominal steady state value\n",
    "hSS = (qSS/Cv)**2     # corresponding steady state liquid level\n",
    "\n",
    "print \"Steady State liquid level =\", hSS, \"meters\""
   ]
  },
  {
   "cell_type": "code",
   "execution_count": 34,
   "metadata": {
    "collapsed": false,
    "deletable": true,
    "editable": true
   },
   "outputs": [
    {
     "data": {
      "text/plain": [
       "<matplotlib.text.Text at 0x10de1fa90>"
      ]
     },
     "execution_count": 34,
     "metadata": {},
     "output_type": "execute_result"
    },
    {
     "data": {
      "image/png": "[encoded data removed]",
      "text/plain": [
       "<matplotlib.figure.Figure at 0x10dfa35d0>"
      ]
     },
     "metadata": {},
     "output_type": "display_data"
    }
   ],
   "source": [
    "def qin(t):\n",
    "    return qSS\n",
    "\n",
    "def func(y,t):\n",
    "    h = y\n",
    "    return qin(t)/A - Cv*sqrt(h)/A\n",
    "\n",
    "t = linspace(0,400.0)\n",
    "h = odeint(func,[0.0],t)\n",
    "\n",
    "\n",
    "subplot(2,1,1)\n",
    "plot(t,map(qin,t))\n",
    "title('Inlet Flow')\n",
    "xlabel('Time [min]')\n",
    "ylim(0,0.2)\n",
    "ylabel('Inlet Flow [cu. m/min]')\n",
    "\n",
    "subplot(2,1,2)\n",
    "plot(t,h)\n",
    "title('Outlet Flow')\n",
    "plot(t,hSS*ones(size(t)),'r--')\n",
    "xlabel('Time [min]')\n",
    "ylabel('Tank Level [m]')\n",
    "\n"
   ]
  },
  {
   "cell_type": "markdown",
   "metadata": {
    "deletable": true,
    "editable": true
   },
   "source": [
    "## Step 4. Define Deviation Variables\n",
    "\n",
    "Deviation variables provide the "
   ]
  },
  {
   "cell_type": "code",
   "execution_count": 36,
   "metadata": {
    "collapsed": false,
    "deletable": true,
    "editable": true
   },
   "outputs": [
    {
     "data": {
      "text/plain": [
       "[<matplotlib.lines.Line2D at 0x10f0f40d0>]"
      ]
     },
     "execution_count": 36,
     "metadata": {},
     "output_type": "execute_result"
    },
    {
     "data": {
      "image/png": "[encoded data removed]",
      "text/plain": [
       "<matplotlib.figure.Figure at 0x10ea29ad0>"
      ]
     },
     "metadata": {},
     "output_type": "display_data"
    }
   ],
   "source": [
    "def qin(t):\n",
    "    if t > 100.0:\n",
    "        return qSS + 0.01  # m**3/min\n",
    "    else:\n",
    "        return qSS\n",
    "\n",
    "def func(y,t):\n",
    "    h = y\n",
    "    return qin(t)/A - Cv*sqrt(h)/A\n",
    "\n",
    "IC = [hSS]\n",
    "\n",
    "t = linspace(0,400.0)\n",
    "h = odeint(func,IC,t)\n",
    "\n",
    "subplot(2,1,1)\n",
    "plot(t,map(qin,t))\n",
    "title('Inlet Flow')\n",
    "plot(t,qSS*ones(size(t)),'r--')\n",
    "xlabel('Time [min]')\n",
    "ylim(0,0.2)\n",
    "ylabel('Inlet Flow [cu. m/min]')\n",
    "\n",
    "subplot(2,1,2)\n",
    "plot(t,h)\n",
    "title('Outlet Flow')\n",
    "plot(t,hSS*ones(size(t)),'r--')\n",
    "xlabel('Time [min]')\n",
    "ylabel('Tank Level [m]')\n",
    "\n",
    "\n",
    "\n",
    "a = -Cv*Cv/(2.0*A*qSS)\n",
    "b = 1/A\n",
    "\n",
    "tlin = t[t > 100]\n",
    "\n",
    "plot(tlin, hSS -(b/a)*(1-exp(a*(tlin-100.0)))*0.01)\n"
   ]
  },
  {
   "cell_type": "code",
   "execution_count": 8,
   "metadata": {
    "collapsed": true,
    "deletable": true,
    "editable": true
   },
   "outputs": [],
   "source": [
    "from control.matlab import *\n",
    "from pylab import *\n"
   ]
  },
  {
   "cell_type": "code",
   "execution_count": 9,
   "metadata": {
    "collapsed": false,
    "deletable": true,
    "editable": true
   },
   "outputs": [],
   "source": [
    "v = ss([1],[1],[1],[0])"
   ]
  },
  {
   "cell_type": "code",
   "execution_count": 10,
   "metadata": {
    "collapsed": false,
    "deletable": true,
    "editable": true
   },
   "outputs": [
    {
     "ename": "TypeError",
     "evalue": "step() takes at least 2 arguments (1 given)",
     "output_type": "error",
     "traceback": [
      "\u001b[0;31m---------------------------------------------------------------------------\u001b[0m",
      "\u001b[0;31mTypeError\u001b[0m                                 Traceback (most recent call last)",
      "\u001b[0;32m<ipython-input-10-883ff0b427a3>\u001b[0m in \u001b[0;36m<module>\u001b[0;34m()\u001b[0m\n\u001b[0;32m----> 1\u001b[0;31m \u001b[0mplot\u001b[0m\u001b[0;34m(\u001b[0m\u001b[0mstep\u001b[0m\u001b[0;34m(\u001b[0m\u001b[0mv\u001b[0m\u001b[0;34m)\u001b[0m\u001b[0;34m)\u001b[0m\u001b[0;34m\u001b[0m\u001b[0m\n\u001b[0m",
      "\u001b[0;31mTypeError\u001b[0m: step() takes at least 2 arguments (1 given)"
     ]
    }
   ],
   "source": [
    "plot(step(v))"
   ]
  },
  {
   "cell_type": "code",
   "execution_count": null,
   "metadata": {
    "collapsed": true,
    "deletable": true,
    "editable": true
   },
   "outputs": [],
   "source": []
  }
 ],
 "metadata": {
  "anaconda-cloud": {},
  "kernelspec": {
   "display_name": "Python [conda root]",
   "language": "python",
   "name": "conda-root-py"
  },
  "language_info": {
   "codemirror_mode": {
    "name": "ipython",
    "version": 3
   },
   "file_extension": ".py",
   "mimetype": "text/x-python",
   "name": "python",
   "nbconvert_exporter": "python",
   "pygments_lexer": "ipython3",
   "version": "3.5.2"
  }
 },
 "nbformat": 4,
 "nbformat_minor": 0
}

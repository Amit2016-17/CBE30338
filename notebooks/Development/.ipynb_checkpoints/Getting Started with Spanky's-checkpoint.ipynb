{
 "cells": [
  {
   "cell_type": "markdown",
   "metadata": {},
   "source": [
    "# Getting Started with Spanky's"
   ]
  },
  {
   "cell_type": "code",
   "execution_count": 289,
   "metadata": {
    "collapsed": true
   },
   "outputs": [],
   "source": [
    "%matplotlib inline\n",
    "\n",
    "import matplotlib.pyplot as plt\n",
    "import seaborn as sns\n",
    "sns.set_context('talk')\n",
    "\n",
    "import simpy\n",
    "import itertools\n",
    "import random\n",
    "import pandas as pd\n",
    "import numpy as np"
   ]
  },
  {
   "cell_type": "markdown",
   "metadata": {},
   "source": [
    "## Menu"
   ]
  },
  {
   "cell_type": "code",
   "execution_count": 309,
   "metadata": {
    "collapsed": false
   },
   "outputs": [
    {
     "data": {
      "text/html": [
       "<div>\n",
       "<table border=\"1\" class=\"dataframe\">\n",
       "  <thead>\n",
       "    <tr style=\"text-align: right;\">\n",
       "      <th></th>\n",
       "      <th>nuggets</th>\n",
       "      <th>pizza</th>\n",
       "      <th>rolls</th>\n",
       "      <th>sticks</th>\n",
       "    </tr>\n",
       "  </thead>\n",
       "  <tbody>\n",
       "    <tr>\n",
       "      <th>cook time</th>\n",
       "      <td>10.0</td>\n",
       "      <td>13.0</td>\n",
       "      <td>8.0</td>\n",
       "      <td>10.0</td>\n",
       "    </tr>\n",
       "    <tr>\n",
       "      <th>prep time</th>\n",
       "      <td>1.0</td>\n",
       "      <td>0.0</td>\n",
       "      <td>0.0</td>\n",
       "      <td>1.0</td>\n",
       "    </tr>\n",
       "    <tr>\n",
       "      <th>probability</th>\n",
       "      <td>0.2</td>\n",
       "      <td>0.4</td>\n",
       "      <td>0.1</td>\n",
       "      <td>0.3</td>\n",
       "    </tr>\n",
       "  </tbody>\n",
       "</table>\n",
       "</div>"
      ],
      "text/plain": [
       "             nuggets  pizza  rolls  sticks\n",
       "cook time       10.0   13.0    8.0    10.0\n",
       "prep time        1.0    0.0    0.0     1.0\n",
       "probability      0.2    0.4    0.1     0.3"
      ]
     },
     "execution_count": 309,
     "metadata": {},
     "output_type": "execute_result"
    }
   ],
   "source": [
    "menu = {\n",
    "    'pizza': {'probability': 0.4, 'prep time': 0, 'cook time': 13},\n",
    "    'sticks': {'probability': 0.3, 'prep time': 1, 'cook time': 10},\n",
    "    'nuggets': {'probability': 0.2, 'prep time': 1, 'cook time': 10},\n",
    "    'rolls': {'probability': 0.1, 'prep time': 0, 'cook time': 8}\n",
    "}\n",
    "menu = pd.DataFrame(menu)\n",
    "menu"
   ]
  },
  {
   "cell_type": "markdown",
   "metadata": {},
   "source": [
    "## Model"
   ]
  },
  {
   "cell_type": "code",
   "execution_count": null,
   "metadata": {
    "collapsed": false,
    "scrolled": false
   },
   "outputs": [],
   "source": [
    "T_ORDER = 10              # average time between orders (Poisson)\n",
    "T_SIM = 100000               # simulation period\n",
    "N_OVENS = 2\n",
    "N_SERVERS = 1\n",
    "\n",
    "items = menu.columns\n",
    "probs = menu.ix['probability',:]\n",
    "\n",
    "class Spanky(object):\n",
    "\n",
    "    def __init__(self):\n",
    "        self.env = simpy.Environment()\n",
    "        self.server = simpy.Resource(self.env,N_SERVERS)   # server resources\n",
    "        self.oven = simpy.Resource(self.env,N_OVENS)       # oven resources\n",
    "        self._data = dict()                                # store event log\n",
    "        self.orders_in_process = 0                         # track orders in process\n",
    "        self.orderQueue = pd.Series([0],[0])               # for plotting orders in process\n",
    "        self.env.process(self.orderGenerator())            # where to start the model\n",
    "        \n",
    "    def writeLog(self,orderId,item,event,t=None):          # write an time event to the log\n",
    "        if t==None:                                        # default time is now\n",
    "            t = self.env.now\n",
    "        self._data[orderId,item,event] = t\n",
    "\n",
    "    def writeOrderQueue(self,inc):                         # track orders in progress\n",
    "        self.orderQueue[self.env.now-0.00001] = \\\n",
    "            self.orders_in_process\n",
    "        self.orders_in_process += inc\n",
    "        self.orderQueue[self.env.now] = \\\n",
    "            self.orders_in_process\n",
    "        \n",
    "    @property\n",
    "    def log(self):                                         # reformats the event log as\n",
    "        df = pd.DataFrame([[a,b,c,self._data[a,b,c]] for (a,b,c) in self._data.keys()])\n",
    "        df.columns = ['OrderID','Item','Event','Time']\n",
    "        return df\n",
    "        \n",
    "    def order(self,orderId,item):\n",
    "        # request server\n",
    "        with self.server.request() as serverreq:\n",
    "            # wait for server\n",
    "            yield serverreq\n",
    "            # write on log\n",
    "            self.writeLog(orderId,item,'1 order')\n",
    "            self.writeOrderQueue(+1)\n",
    "            # time to take order\n",
    "            yield self.env.timeout(0.5)\n",
    "            # issue receipt\n",
    "            self.writeLog(orderId,item,'2 receipt')\n",
    "            # tell customer when order should be done\n",
    "            tquote = self.env.now + menu[item]['prep time'] + menu[item]['cook time']\n",
    "            self.writeLog(orderId,item,'6 tquote',tquote)\n",
    "            \n",
    "        # request server\n",
    "        with self.server.request() as serverreq:\n",
    "            # wait for server\n",
    "            yield serverreq\n",
    "            # write onto order log\n",
    "            self.writeLog(orderId,item,'3 prep')\n",
    "            # wait until prep is finished\n",
    "            yield self.env.timeout(menu[item]['prep time'])\n",
    "        \n",
    "        # request oven\n",
    "        with self.oven.request() as ovenreq:\n",
    "            # wait until oven is available\n",
    "            yield ovenreq\n",
    "            # request server to load the oven\n",
    "            with self.server.request() as serverreq:\n",
    "                # wait for server\n",
    "                yield serverreq\n",
    "                # write on log\n",
    "                self.writeLog(orderId,item,'4 oven') \n",
    "            # wait to finish cooking\n",
    "            yield self.env.timeout(menu[item]['cook time'])\n",
    "            # request server to remove item from oven\n",
    "            with self.server.request() as serverreq:\n",
    "                # wait for server\n",
    "                yield serverreq\n",
    "                self.writeLog(orderId,item,'5 finish')\n",
    "        self.writeLog(orderId,item,'7 late',max(0,self.env.now - tquote))\n",
    "        self.writeOrderQueue(-1)\n",
    "            \n",
    "    def orderGenerator(self):\n",
    "        for orderId in itertools.count():\n",
    "            yield self.env.timeout(random.expovariate(1.0/T_ORDER))\n",
    "            item = np.random.choice(items,p = probs)\n",
    "            self.writeLog(orderId,item,'0 arrival')\n",
    "            self.env.process(self.order(orderId,item))\n",
    "\n",
    "    def run(self,t_sim = T_SIM):\n",
    "        self.env.run(until=t_sim)\n",
    "        \n",
    "# create an order fulfillment instance\n",
    "w = Spanky()\n",
    "\n",
    "# run a simulation for a specified period\n",
    "w.run()\n",
    "\n",
    "# see data trace\n",
    "w.log.pivot_table(values='Time',index=['OrderID','Item'],columns=['Event'])\n",
    "\n",
    "# summarize data\n",
    "data = w.log.pivot_table(values='Time',index=['OrderID','Item'],columns=['Event'])\n",
    "\n",
    "print(\"Number of Orders Received = \", data[data['1 order']>0]['1 order'].count())\n",
    "print(\"Number of Orders Finished = \", data[data['5 finish']>0]['5 finish'].count())\n",
    "print(\"Number of Late Orders = \", data[data['7 late']>0]['7 late'].count())\n",
    "print(\"Average lateness for late orders = \", data[data['7 late']>0]['7 late'].mean())\n",
    "print(\"Maximum lateness of late orders = \", data[data['7 late']>0]['7 late'].max())\n",
    "\n",
    "late = data[data['7 late']>0]\n",
    "\n",
    "late['7 late'].hist()\n",
    "plt.title('Distribution of Late Orders')\n",
    "plt.ylabel('Number of orders')\n",
    "plt.xlabel('Minutes late')"
   ]
  },
  {
   "cell_type": "code",
   "execution_count": null,
   "metadata": {
    "collapsed": false
   },
   "outputs": [],
   "source": [
    "data"
   ]
  },
  {
   "cell_type": "code",
   "execution_count": null,
   "metadata": {
    "collapsed": false
   },
   "outputs": [],
   "source": [
    "w.orderQueue.plot()\n",
    "plt.xlabel('Time [min]')\n",
    "plt.ylabel('Orders')\n",
    "plt.title('Orders in Process')"
   ]
  },
  {
   "cell_type": "code",
   "execution_count": 305,
   "metadata": {
    "collapsed": false
   },
   "outputs": [
    {
     "data": {
      "text/plain": [
       "10.0"
      ]
     },
     "execution_count": 305,
     "metadata": {},
     "output_type": "execute_result"
    }
   ],
   "source": [
    "df  = pd.DataFrame()\n",
    "df = pd.DataFrame(menu)\n",
    "df.ix['cook','nuggets']"
   ]
  },
  {
   "cell_type": "code",
   "execution_count": null,
   "metadata": {
    "collapsed": false
   },
   "outputs": [],
   "source": []
  },
  {
   "cell_type": "code",
   "execution_count": null,
   "metadata": {
    "collapsed": true
   },
   "outputs": [],
   "source": []
  }
 ],
 "metadata": {
  "kernelspec": {
   "display_name": "Python [conda root]",
   "language": "python",
   "name": "conda-root-py"
  },
  "language_info": {
   "codemirror_mode": {
    "name": "ipython",
    "version": 3
   },
   "file_extension": ".py",
   "mimetype": "text/x-python",
   "name": "python",
   "nbconvert_exporter": "python",
   "pygments_lexer": "ipython3",
   "version": "3.5.2"
  }
 },
 "nbformat": 4,
 "nbformat_minor": 2
}

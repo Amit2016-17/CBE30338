{
 "cells": [
  {
   "cell_type": "markdown",
   "metadata": {},
   "source": [
    "# Getting Started with Spanky's"
   ]
  },
  {
   "cell_type": "code",
   "execution_count": 1,
   "metadata": {
    "collapsed": true
   },
   "outputs": [],
   "source": [
    "import simpy\n",
    "import itertools\n",
    "import random\n",
    "import pandas as pd\n"
   ]
  },
  {
   "cell_type": "code",
   "execution_count": 82,
   "metadata": {
    "collapsed": false
   },
   "outputs": [],
   "source": [
    "T_ORDER = 10                      # average time between orders (Poisson)\n",
    "T_SIM = 180               # simulation period\n",
    "\n",
    "\n",
    "class Spanky(object):\n",
    "\n",
    "    def __init__(self):\n",
    "        self.env = simpy.Environment()\n",
    "        self.data = dict()\n",
    "        self.server = simpy.Resource(self.env,1)\n",
    "        self.oven = simpy.Resource(self.env,2)\n",
    "        self.env.process(self.orderGenerator())\n",
    "        \n",
    "    def writeLog(self,orderId,event):\n",
    "        self.data[orderId,event] = self.env.now\n",
    "        \n",
    "    def order(self,orderId):\n",
    "        self.writeLog(orderId,'Ordered')\n",
    "        with self.oven.request() as ovenreq:\n",
    "            yield ovenreq\n",
    "            self.writeLog(orderId,'In Oven')\n",
    "            yield self.env.timeout(10)\n",
    "            self.writeLog(orderId,'Out of Oven')\n",
    "            self.oven.release()\n",
    "        print(\"Hello\")\n",
    "            \n",
    "    def orderGenerator(self):\n",
    "        for orderId in itertools.count():\n",
    "            yield self.env.timeout(random.expovariate(1.0/T_ORDER))\n",
    "            self.order(orderId)\n",
    "\n",
    "    def run(self,t_sim = T_SIM):\n",
    "        self.env.run(until=t_sim)"
   ]
  },
  {
   "cell_type": "code",
   "execution_count": 83,
   "metadata": {
    "collapsed": false
   },
   "outputs": [],
   "source": [
    "# create an order fulfillment instance\n",
    "w = Spanky()\n",
    "\n",
    "# run a simulation for a specified period\n",
    "w.run()"
   ]
  },
  {
   "cell_type": "code",
   "execution_count": 84,
   "metadata": {
    "collapsed": false
   },
   "outputs": [
    {
     "data": {
      "text/plain": [
       "{}"
      ]
     },
     "execution_count": 84,
     "metadata": {},
     "output_type": "execute_result"
    }
   ],
   "source": [
    "w.data"
   ]
  },
  {
   "cell_type": "code",
   "execution_count": null,
   "metadata": {
    "collapsed": true
   },
   "outputs": [],
   "source": []
  }
 ],
 "metadata": {
  "kernelspec": {
   "display_name": "Python [conda root]",
   "language": "python",
   "name": "conda-root-py"
  },
  "language_info": {
   "codemirror_mode": {
    "name": "ipython",
    "version": 3
   },
   "file_extension": ".py",
   "mimetype": "text/x-python",
   "name": "python",
   "nbconvert_exporter": "python",
   "pygments_lexer": "ipython3",
   "version": "3.5.2"
  }
 },
 "nbformat": 4,
 "nbformat_minor": 2
}

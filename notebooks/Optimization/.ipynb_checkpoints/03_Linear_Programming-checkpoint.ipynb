{
 "cells": [
  {
   "cell_type": "markdown",
   "metadata": {},
   "source": [
    "# Linear Programming"
   ]
  },
  {
   "cell_type": "markdown",
   "metadata": {},
   "source": [
    "## Example 19.3: Refinery Blending Problem\n",
    "\n",
    "\n",
    "| Variable | Description |\n",
    "| ---------|-------------|\n",
    "| $x_1$ | bbl/day of crude #1 |\n"
   ]
  },
  {
   "cell_type": "code",
   "execution_count": 14,
   "metadata": {},
   "outputs": [
    {
     "name": "stdout",
     "output_type": "stream",
     "text": [
      "# ==========================================================\n",
      "# = Solver Results                                         =\n",
      "# ==========================================================\n",
      "# ----------------------------------------------------------\n",
      "#   Problem Information\n",
      "# ----------------------------------------------------------\n",
      "Problem: \n",
      "- Name: unknown\n",
      "  Lower bound: 573517.24137931\n",
      "  Upper bound: 573517.24137931\n",
      "  Number of objectives: 1\n",
      "  Number of constraints: 13\n",
      "  Number of variables: 7\n",
      "  Number of nonzeros: 21\n",
      "  Sense: maximize\n",
      "# ----------------------------------------------------------\n",
      "#   Solver Information\n",
      "# ----------------------------------------------------------\n",
      "Solver: \n",
      "- Status: ok\n",
      "  Termination condition: optimal\n",
      "  Statistics: \n",
      "    Branch and bound: \n",
      "      Number of bounded subproblems: 0\n",
      "      Number of created subproblems: 0\n",
      "  Error rc: 0\n",
      "  Time: 0.01420283317565918\n",
      "# ----------------------------------------------------------\n",
      "#   Solution Information\n",
      "# ----------------------------------------------------------\n",
      "Solution: \n",
      "- number of solutions: 0\n",
      "  number of solutions displayed: 0\n",
      "3 Set Declarations\n",
      "    constraints_index : Dim=0, Dimen=1, Size=8, Domain=None, Ordered=False, Bounds=None\n",
      "        [1, 2, 3, 4, 5, 6, 7, 8]\n",
      "    x_index : Dim=0, Dimen=1, Size=2, Domain=None, Ordered=False, Bounds=None\n",
      "        ['Crude #1', 'Crude #2']\n",
      "    y_index : Dim=0, Dimen=1, Size=4, Domain=None, Ordered=False, Bounds=None\n",
      "        ['Fuel Oil', 'Gasoline', 'Kerosine', 'Residual']\n",
      "\n",
      "2 Var Declarations\n",
      "    x : Size=2, Index=x_index\n",
      "        Key      : Lower : Value            : Upper : Fixed : Stale : Domain\n",
      "        Crude #1 :     0 : 26206.8965517241 :  None : False : False : NonNegativeReals\n",
      "        Crude #2 :     0 : 6896.55172413793 :  None : False : False : NonNegativeReals\n",
      "    y : Size=4, Index=y_index\n",
      "        Key      : Lower : Value            : Upper : Fixed : Stale : Domain\n",
      "        Fuel Oil :     0 : 5103.44827586207 :  None : False : False : NonNegativeReals\n",
      "        Gasoline :     0 :          24000.0 :  None : False : False : NonNegativeReals\n",
      "        Kerosine :     0 :           2000.0 :  None : False : False : NonNegativeReals\n",
      "        Residual :     0 :           2000.0 :  None : False : False : NonNegativeReals\n",
      "\n",
      "1 Objective Declarations\n",
      "    objective : Size=1, Index=None, Active=True\n",
      "        Key  : Active : Sense    : Expression\n",
      "        None :   True : maximize : 72*y[Gasoline] + 48*y[Kerosine] + 42*y[Fuel Oil] + 20*y[Residual] - 48*x[Crude #1] - 30*x[Crude #2] - x[Crude #1] - 2.0*x[Crude #2]\n",
      "\n",
      "1 Constraint Declarations\n",
      "    constraints : Size=8, Index=constraints_index, Active=True\n",
      "        Key : Lower : Body                                             : Upper    : Active\n",
      "          1 :   0.0 :                                      y[Gasoline] :  24000.0 :   True\n",
      "          2 :   0.0 :                                      y[Kerosine] :   2000.0 :   True\n",
      "          3 :   0.0 :                                      y[Fuel Oil] :   6000.0 :   True\n",
      "          4 :   0.0 :                                      y[Residual] : 100000.0 :   True\n",
      "          5 :   0.0 : y[Gasoline] - 0.8*x[Crude #1] - 0.44*x[Crude #2] :      0.0 :   True\n",
      "          6 :   0.0 : y[Kerosine] - 0.05*x[Crude #1] - 0.1*x[Crude #2] :      0.0 :   True\n",
      "          7 :   0.0 : y[Fuel Oil] - 0.1*x[Crude #1] - 0.36*x[Crude #2] :      0.0 :   True\n",
      "          8 :   0.0 : y[Residual] - 0.05*x[Crude #1] - 0.1*x[Crude #2] :      0.0 :   True\n",
      "\n",
      "7 Declarations: x_index x y_index y objective constraints_index constraints\n"
     ]
    }
   ],
   "source": [
    "from pyomo.environ import *\n",
    "import numpy as np\n",
    "\n",
    "# problem data\n",
    "FEEDS = ['Crude #1', 'Crude #2']\n",
    "PRODUCTS = ['Gasoline', 'Kerosine', 'Fuel Oil', 'Residual']\n",
    "\n",
    "# feed costs\n",
    "feed_costs = {'Crude #1': 48,\n",
    "              'Crude #2': 30}\n",
    "\n",
    "# processing costs\n",
    "processing_costs = {'Crude #1': 1.00,\n",
    "                    'Crude #2': 2.00}\n",
    "\n",
    "# yield data\n",
    "product_yield = {('Crude #1', 'Gasoline'): 0.80,\n",
    "                 ('Crude #1', 'Kerosine'): 0.05,\n",
    "                 ('Crude #1', 'Fuel Oil'): 0.10,\n",
    "                 ('Crude #1', 'Residual'): 0.05,\n",
    "                 ('Crude #2', 'Gasoline'): 0.44,\n",
    "                 ('Crude #2', 'Kerosine'): 0.10,\n",
    "                 ('Crude #2', 'Fuel Oil'): 0.36,\n",
    "                 ('Crude #2', 'Residual'): 0.10}\n",
    "\n",
    "# product sales prices\n",
    "sales_price = {'Gasoline': 72,\n",
    "               'Kerosine': 48,\n",
    "               'Fuel Oil': 42,\n",
    "               'Residual': 20}\n",
    "\n",
    "# production limits\n",
    "max_production = {'Gasoline': 24000,\n",
    "                  'Kerosine': 2000,\n",
    "                  'Fuel Oil': 6000,\n",
    "                  'Residual': 100000}\n",
    "\n",
    "# model formulation\n",
    "model = ConcreteModel()\n",
    "\n",
    "# variables\n",
    "model.x = Var(FEEDS, domain=NonNegativeReals)\n",
    "model.y = Var(PRODUCTS, domain=NonNegativeReals)\n",
    "\n",
    "# objective\n",
    "income = sum(sales_price[p] * model.y[p] for p in PRODUCTS)\n",
    "raw_materials_cost = sum(feed_costs[f] * model.x[f] for f in FEEDS)\n",
    "processing_cost = sum(processing_costs[f] * model.x[f] for f in FEEDS)\n",
    "profit = income - raw_materials_cost - processing_cost\n",
    "model.objective = Objective(expr = profit, sense=maximize)\n",
    "\n",
    "# constraints\n",
    "model.constraints = ConstraintList()\n",
    "for p in PRODUCTS:\n",
    "    model.constraints.add(0 <= model.y[p] <= max_production[p])\n",
    "for p in PRODUCTS:\n",
    "    model.constraints.add(model.y[p] == sum(model.x[f] * product_yield[(f,p)] for f in FEEDS))\n",
    "\n",
    "solver = SolverFactory('glpk')\n",
    "solver.solve(model)\n",
    "model.pprint()"
   ]
  },
  {
   "cell_type": "code",
   "execution_count": 2,
   "metadata": {},
   "outputs": [
    {
     "data": {
      "text/plain": [
       "573517.2413793121"
      ]
     },
     "execution_count": 2,
     "metadata": {},
     "output_type": "execute_result"
    }
   ],
   "source": [
    "profit()"
   ]
  },
  {
   "cell_type": "code",
   "execution_count": 58,
   "metadata": {},
   "outputs": [
    {
     "data": {
      "text/plain": [
       "2078344.8275862068"
      ]
     },
     "execution_count": 58,
     "metadata": {},
     "output_type": "execute_result"
    }
   ],
   "source": [
    "income()"
   ]
  },
  {
   "cell_type": "code",
   "execution_count": 60,
   "metadata": {},
   "outputs": [
    {
     "data": {
      "text/plain": [
       "1464827.5862068948"
      ]
     },
     "execution_count": 60,
     "metadata": {},
     "output_type": "execute_result"
    }
   ],
   "source": [
    "raw_materials_cost()"
   ]
  },
  {
   "cell_type": "code",
   "execution_count": 61,
   "metadata": {},
   "outputs": [
    {
     "data": {
      "text/plain": [
       "39999.99999999996"
      ]
     },
     "execution_count": 61,
     "metadata": {},
     "output_type": "execute_result"
    }
   ],
   "source": [
    "processing_cost()"
   ]
  },
  {
   "cell_type": "code",
   "execution_count": null,
   "metadata": {},
   "outputs": [],
   "source": []
  }
 ],
 "metadata": {
  "kernelspec": {
   "display_name": "Python 3",
   "language": "python",
   "name": "python3"
  },
  "language_info": {
   "codemirror_mode": {
    "name": "ipython",
    "version": 3
   },
   "file_extension": ".py",
   "mimetype": "text/x-python",
   "name": "python",
   "nbconvert_exporter": "python",
   "pygments_lexer": "ipython3",
   "version": "3.6.4"
  }
 },
 "nbformat": 4,
 "nbformat_minor": 2
}

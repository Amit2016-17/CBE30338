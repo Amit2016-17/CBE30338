{
 "cells": [
  {
   "cell_type": "markdown",
   "metadata": {},
   "source": [
    "# Gasoline Blending"
   ]
  },
  {
   "cell_type": "code",
   "execution_count": null,
   "metadata": {},
   "outputs": [],
   "source": [
    "import pandas as pd\n",
    "import pyomo.environ as pyomo"
   ]
  },
  {
   "cell_type": "code",
   "execution_count": 86,
   "metadata": {},
   "outputs": [
    {
     "name": "stdout",
     "output_type": "stream",
     "text": [
      "         RVPmax  RVPmin  benzene  octane  price\n",
      "Premium    15.0     0.0      1.1    91.0   2.85\n",
      "Regular    15.0     0.0      1.1    87.0   2.75\n"
     ]
    }
   ],
   "source": [
    "products = {\n",
    "    'Regular'        : {'price': 2.75, 'octane': 87, 'RVPmin': 0.0, 'RVPmax': 15.0, 'benzene': 0.62},\n",
    "    'Premium'        : {'price': 2.85, 'octane': 91, 'RVPmin': 0.0, 'RVPmax': 15.0, 'benzene': 0.62},\n",
    "}\n",
    "\n",
    "print(pd.DataFrame.from_dict(products).T)"
   ]
  },
  {
   "cell_type": "code",
   "execution_count": 87,
   "metadata": {},
   "outputs": [
    {
     "name": "stdout",
     "output_type": "stream",
     "text": [
      "                 MON    RON   RVP    avail  benzene  cost  octane\n",
      "Alkylate        95.9   97.3   4.6  40000.0     0.00  2.75   96.60\n",
      "Butane          92.0   93.0  54.0  30000.0     0.00  0.85   92.50\n",
      "FCC Naphtha     77.1   92.1   1.4  70000.0     1.06  2.60   84.60\n",
      "Isomerate       81.1   83.0  13.5      0.0     0.00  2.20   82.05\n",
      "LSR             76.0   78.0  11.2  35000.0     0.73  2.05   77.00\n",
      "Reformate       88.2  100.0   3.2  60000.0     1.85  2.80   94.10\n",
      "Reformate Lo B  84.0   93.7   2.8      0.0     0.12  2.75   88.85\n"
     ]
    }
   ],
   "source": [
    "feeds = {\n",
    "    'Butane'         : {'RON': 93.0, 'MON': 92.0, 'RVP': 54.0, 'benzene': 0.00, 'cost': 0.85, 'avail': 30000},\n",
    "    'LSR'            : {'RON': 78.0, 'MON': 76.0, 'RVP': 11.2, 'benzene': 0.73, 'cost': 2.05, 'avail': 35000},\n",
    "    'Isomerate'      : {'RON': 83.0, 'MON': 81.1, 'RVP': 13.5, 'benzene': 0.00, 'cost': 2.20, 'avail': 0},\n",
    "    'Reformate'      : {'RON':100.0, 'MON': 88.2, 'RVP':  3.2, 'benzene': 1.85, 'cost': 2.80, 'avail': 60000},\n",
    "    'Reformate Lo B' : {'RON': 93.7, 'MON': 84.0, 'RVP':  2.8, 'benzene': 0.12, 'cost': 2.75, 'avail': 0},\n",
    "    'FCC Naphtha'    : {'RON': 92.1, 'MON': 77.1, 'RVP':  1.4, 'benzene': 1.06, 'cost': 2.60, 'avail': 70000},\n",
    "    'Alkylate'       : {'RON': 97.3, 'MON': 95.9, 'RVP':  4.6, 'benzene': 0.00, 'cost': 2.75, 'avail': 40000},\n",
    "}\n",
    "\n",
    "# calculate road octane as (R+M)/2\n",
    "for f in feeds.keys():\n",
    "    feeds[f]['octane'] = (feeds[f]['RON'] + feeds[f]['MON'])/2\n",
    "    \n",
    "# display feed information\n",
    "print(pd.DataFrame.from_dict(feeds).T)"
   ]
  },
  {
   "cell_type": "code",
   "execution_count": 88,
   "metadata": {
    "scrolled": false
   },
   "outputs": [
    {
     "name": "stdout",
     "output_type": "stream",
     "text": [
      "Profit = $ 100425.0\n"
     ]
    }
   ],
   "source": [
    "import pyomo.environ as pyomo\n",
    "\n",
    "F = feeds.keys()\n",
    "P = products.keys()\n",
    "\n",
    "m = pyomo.ConcreteModel()\n",
    "m.x = pyomo.Var(F,P, domain=pyomo.NonNegativeReals)\n",
    "    \n",
    "# objective\n",
    "cost = {}\n",
    "revenue = {}\n",
    "for p in P:\n",
    "    cost[p] = sum(m.x[f,p]*feeds[f]['cost'] for f in F)\n",
    "    revenue[p] = sum(m.x[f,p]*products[p]['price'] for f in F)\n",
    "m.profit = pyomo.Objective(expr = sum(revenue[p] - cost[p] for p in P), sense=pyomo.maximize)\n",
    "\n",
    "m.constraints = pyomo.ConstraintList()\n",
    "\n",
    "usage = {}\n",
    "for f in F:\n",
    "    usage[f] = sum(m.x[f,p] for p in P)\n",
    "    m.constraints.add(usage[f] <= feeds[f]['avail'])\n",
    "    \n",
    "for p in P:\n",
    "    m.constraints.add(sum(m.x[f,p]*(feeds[f]['octane'] -    products[p]['octane'])       for f in F) >= 0)\n",
    "    m.constraints.add(sum(m.x[f,p]*(feeds[f]['RVP']**1.25 - products[p]['RVPmin']**1.25) for f in F) >= 0)\n",
    "    m.constraints.add(sum(m.x[f,p]*(feeds[f]['RVP']**1.25 - products[p]['RVPmax']**1.25) for f in F) <= 0)\n",
    "    m.constraints.add(sum(m.x[f,p]*(feeds[f]['benzene'] -   products[p]['benzene'])      for f in F) <= 0)\n",
    "\n",
    "solver = pyomo.SolverFactory('glpk')\n",
    "solver.solve(m)\n",
    "\n",
    "print(\"Profit = $\", round(m.profit(),2))"
   ]
  },
  {
   "cell_type": "code",
   "execution_count": 89,
   "metadata": {},
   "outputs": [
    {
     "name": "stdout",
     "output_type": "stream",
     "text": [
      "         RVPmax  RVPmin  benzene  octane  price\n",
      "Premium    15.0     0.0      1.1    91.0   2.85\n",
      "Regular    15.0     0.0      1.1    87.0   2.75\n",
      "                 Regular    Usage   Premium\n",
      "Butane           17924.9  30000.0   12075.1\n",
      "LSR              35000.0  35000.0       0.0\n",
      "Isomerate            0.0      0.0       0.0\n",
      "Reformate        43599.3  60000.0   16400.7\n",
      "Reformate Lo B       0.0      0.0       0.0\n",
      "FCC Naphtha      24225.8  70000.0   45774.2\n",
      "Alkylate             0.0  40000.0   40000.0\n",
      "volume          120750.0      NaN  114250.0\n",
      "RVP                 15.0      NaN      10.6\n",
      "octane              87.0      NaN      91.0\n",
      "                 MON    RON   RVP    avail  benzene  cost  octane\n",
      "Alkylate        95.9   97.3   4.6  40000.0     0.00  2.75   96.60\n",
      "Butane          92.0   93.0  54.0  30000.0     0.00  0.85   92.50\n",
      "FCC Naphtha     77.1   92.1   1.4  70000.0     1.06  2.60   84.60\n",
      "Isomerate       81.1   83.0  13.5      0.0     0.00  2.20   82.05\n",
      "LSR             76.0   78.0  11.2  35000.0     0.73  2.05   77.00\n",
      "Reformate       88.2  100.0   3.2  60000.0     1.85  2.80   94.10\n",
      "Reformate Lo B  84.0   93.7   2.8      0.0     0.12  2.75   88.85\n"
     ]
    }
   ],
   "source": [
    "import pandas as pd\n",
    "\n",
    "df = pd.DataFrame()\n",
    "for p in P:\n",
    "    for f in F:\n",
    "        df.loc[p,f] = round(m.x[f,p](),1)\n",
    "        df.loc['Usage',f] = round(usage[f](),1)\n",
    "    df.loc[p,'volume'] = round(sum(m.x[f,p]() for f in F),1)\n",
    "    df.loc[p,'RVP'] = round((sum(m.x[f,p]()*feeds[f]['RVP']**1.25 for f in F)/df.loc[p,'volume'])**0.8, 1)\n",
    "    df.loc[p,'octane'] = round(sum(m.x[f,p]()*feeds[f]['octane'] for f in F)/df.loc[p,'volume'],1)\n",
    "        \n",
    "print(pd.DataFrame.from_dict(products).T)\n",
    "print(df.T)\n",
    "print(pd.DataFrame.from_dict(feeds).T)\n"
   ]
  },
  {
   "cell_type": "code",
   "execution_count": null,
   "metadata": {},
   "outputs": [],
   "source": []
  }
 ],
 "metadata": {
  "kernelspec": {
   "display_name": "Python 3",
   "language": "python",
   "name": "python3"
  },
  "language_info": {
   "codemirror_mode": {
    "name": "ipython",
    "version": 3
   },
   "file_extension": ".py",
   "mimetype": "text/x-python",
   "name": "python",
   "nbconvert_exporter": "python",
   "pygments_lexer": "ipython3",
   "version": "3.6.4"
  }
 },
 "nbformat": 4,
 "nbformat_minor": 2
}

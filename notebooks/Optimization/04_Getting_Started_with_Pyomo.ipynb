{
 "cells": [
  {
   "cell_type": "markdown",
   "metadata": {},
   "source": [
    "# Getting Started with Pyomo\n",
    "\n",
    "[Pyomo](http://www.pyomo.org/) is a state-of-the-art language for solving optimization problems embedded within Python. Using Pyomo, a user can describe optimization model by specifying decision **variables**, **constraints**, and an optimization **objective**. Pyomo includes features to enable modeling, specifying a solver, and displaying the solution."
   ]
  },
  {
   "cell_type": "markdown",
   "metadata": {},
   "source": [
    "## Installation\n",
    "\n",
    "Provided you have previously installed the Anaconda package, the following commands should successfully install Pyomo, and the glpk, ipopt, and COIN-OR cbc solvers.  These commands should be executed in a command window on either a Mac or PC.\n",
    "\n",
    "    conda install -c conda-forge pyomo\n",
    "    conda install -c conda-forge pyomo.extras\n",
    "    conda install -c conda-forge glpk\n",
    "    conda install -c conda-forge ipopt\n",
    "    conda install -c conda-forge coincbc\n",
    "\n",
    "This installation provides a capable open-source optimization suite with multiple solvers. The solvers are\n",
    "\n",
    "* [glpk](https://en.wikibooks.org/wiki/GLPK). \"GNU Linear Programming Kit\" is a software package written in highly portable C for the solution of mixed integer linear programming and related problems.\n",
    "* [ipopt](https://en.wikipedia.org/wiki/IPOPT). \"Interior Point Optimizer\" for large scale nonlinear optimization of continuous systems. \n",
    "* [cbc](https://projects.coin-or.org/Cbc). \"COIN-OR Branch and Cut\" is a mixed integer linear programming solver written in C++. It generally solves the same problems as glpk, but can run multiple threads, and is usually faster and more robust.\n",
    "\n",
    "This collection of solvers is well suited a wide range of process applications. This suite can be further augmented by installing additional solvers from open-source and commercial sources."
   ]
  },
  {
   "cell_type": "markdown",
   "metadata": {},
   "source": [
    "## Example: Solving a System of Equations\n",
    "\n",
    "### Using Scalar Parameters and Variables\n",
    "\n",
    "A fully specified system of linear equations given by\n",
    "\n",
    "\\begin{align}\n",
    "3x + 4y & = 26 \\\\\n",
    "2x - 3y & = - 11\n",
    "\\end{align}\n",
    "\n",
    "can be readily solved as a convex optimization problem. The following cell demonstrates the specification and solution of these equations using $x$ and $y$ as decision variables.\n",
    "\n",
    "The key idea behind Pyomo is the creation of a **model** that includes **variables**, **constraints**, and an **objective**. The objective specifies the a performance measure that is to be minimized (default) or maximized. A **solver** is then created to solve the model."
   ]
  },
  {
   "cell_type": "code",
   "execution_count": 1,
   "metadata": {},
   "outputs": [
    {
     "name": "stdout",
     "output_type": "stream",
     "text": [
      "x = 2.0\n",
      "y = 5.0\n"
     ]
    }
   ],
   "source": [
    "from pyomo.environ import *\n",
    "\n",
    "# create a model instance\n",
    "model = ConcreteModel()\n",
    "\n",
    "# create x and y variables in the model\n",
    "model.x = Var()\n",
    "model.y = Var()\n",
    "\n",
    "# add model constraints\n",
    "model.constraints = ConstraintList()\n",
    "model.constraints.add(3*model.x + 4*model.y ==  26)\n",
    "model.constraints.add(2*model.x - 3*model.y == -11)\n",
    "\n",
    "# add a model objective\n",
    "model.objective = Objective(expr = model.x + model.y)\n",
    "\n",
    "# create a solver\n",
    "solver = SolverFactory('glpk')\n",
    "\n",
    "# solve\n",
    "solver.solve(model)\n",
    "\n",
    "# print solutions\n",
    "print(\"x =\", model.x.value)\n",
    "print(\"y =\", model.y.value)"
   ]
  },
  {
   "cell_type": "markdown",
   "metadata": {},
   "source": [
    "### Pretty print model solution"
   ]
  },
  {
   "cell_type": "code",
   "execution_count": 2,
   "metadata": {},
   "outputs": [
    {
     "name": "stdout",
     "output_type": "stream",
     "text": [
      "1 Set Declarations\n",
      "    constraints_index : Dim=0, Dimen=1, Size=2, Domain=None, Ordered=False, Bounds=None\n",
      "        [1, 2]\n",
      "\n",
      "2 Var Declarations\n",
      "    x : Size=1, Index=None\n",
      "        Key  : Lower : Value : Upper : Fixed : Stale : Domain\n",
      "        None :  None :   2.0 :  None : False : False :  Reals\n",
      "    y : Size=1, Index=None\n",
      "        Key  : Lower : Value : Upper : Fixed : Stale : Domain\n",
      "        None :  None :   5.0 :  None : False : False :  Reals\n",
      "\n",
      "1 Objective Declarations\n",
      "    objective : Size=1, Index=None, Active=True\n",
      "        Key  : Active : Sense    : Expression\n",
      "        None :   True : minimize : x + y\n",
      "\n",
      "1 Constraint Declarations\n",
      "    constraints : Size=2, Index=constraints_index, Active=True\n",
      "        Key : Lower : Body      : Upper : Active\n",
      "          1 :  26.0 : 3*x + 4*y :  26.0 :   True\n",
      "          2 : -11.0 : 2*x - 3*y : -11.0 :   True\n",
      "\n",
      "5 Declarations: x y constraints_index constraints objective\n"
     ]
    }
   ],
   "source": [
    "model.pprint()"
   ]
  },
  {
   "cell_type": "markdown",
   "metadata": {},
   "source": [
    "## Python Lists, Sets, Dictionaries, and Iterators\n",
    "\n",
    "Pyomo is integrated with the Python language, and inherits significant functionality by leveraging the basic data structures of Python. To make the best use of Pyomo, it is important to understand the basics of Python lists, sets, and dictionaries."
   ]
  },
  {
   "cell_type": "markdown",
   "metadata": {},
   "source": [
    "### Data in Matrix/Vector Format\n",
    "\n",
    "The example above used scalar modeling components, `model.x = Var()` and `model.y = Var()`, and each constraint was added as a separate line in the model.  This is fine for small problems with a just a few unknowns, but becomes impractical for larger problems.\n",
    "\n",
    "Here we repeat the example above, this time using `numpy` arrays to enter the data. An indexed variable `model.x` represents the unknowns, and the constraints are indexed as well. The indices are represented by the Python `range()` statement."
   ]
  },
  {
   "cell_type": "code",
   "execution_count": 4,
   "metadata": {},
   "outputs": [
    {
     "name": "stdout",
     "output_type": "stream",
     "text": [
      "x[ 0 ] = 2.0\n",
      "x[ 1 ] = 5.0\n"
     ]
    }
   ],
   "source": [
    "from pyomo.environ import *\n",
    "import numpy as np\n",
    "\n",
    "# enter data as numpy arrays\n",
    "A = np.array([[3, 4], [2, -3]])\n",
    "b = np.array([26, -11])\n",
    "\n",
    "# set of row indices\n",
    "I = range(len(A))\n",
    "\n",
    "# set of column indices\n",
    "J = range(len(A.T))\n",
    "\n",
    "# create a model instance\n",
    "model = ConcreteModel()\n",
    "\n",
    "# create x and y variables in the model\n",
    "model.x = Var(J)\n",
    "\n",
    "# add model constraints\n",
    "model.constraints = ConstraintList()\n",
    "for i in I:\n",
    "    model.constraints.add(sum(A[i,j]*model.x[j] for j in J) == b[i])\n",
    "\n",
    "# add a model objective\n",
    "model.objective = Objective(expr = sum(model.x[j] for j in J))\n",
    "\n",
    "# create a solver\n",
    "solver = SolverFactory('glpk')\n",
    "\n",
    "# solve\n",
    "solver.solve(model)\n",
    "\n",
    "# print solutions\n",
    "for j in J:\n",
    "    print(\"x[\", j, \"] =\", model.x[j].value)"
   ]
  },
  {
   "cell_type": "code",
   "execution_count": null,
   "metadata": {},
   "outputs": [],
   "source": []
  }
 ],
 "metadata": {
  "kernelspec": {
   "display_name": "Python 3",
   "language": "python",
   "name": "python3"
  },
  "language_info": {
   "codemirror_mode": {
    "name": "ipython",
    "version": 3
   },
   "file_extension": ".py",
   "mimetype": "text/x-python",
   "name": "python",
   "nbconvert_exporter": "python",
   "pygments_lexer": "ipython3",
   "version": "3.6.4"
  }
 },
 "nbformat": 4,
 "nbformat_minor": 2
}

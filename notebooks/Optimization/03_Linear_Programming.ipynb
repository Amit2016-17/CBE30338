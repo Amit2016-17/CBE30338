{
 "cells": [
  {
   "cell_type": "markdown",
   "metadata": {},
   "source": [
    "# Linear Programming"
   ]
  },
  {
   "cell_type": "markdown",
   "metadata": {},
   "source": [
    "## Example 19.3: Refinery Blending Problem\n",
    "\n",
    "\n",
    "| Variable | Description | Units |\n",
    "| ---------|-------------| ------|\n",
    "| $x_1$ | crude #1 | bbl/day |\n",
    "| $x_2$ | crude #2 | bbl/day |\n",
    "| $x_3$ | gasoline | bbl/day |\n",
    "| $x_4$ | kerosine | bbl/day |\n",
    "| $x_5$ | fuel oil | bbl/day |\n",
    "| $x_6$ | residual | bbl/day |\n",
    "\n",
    "\n",
    "The overall objective is to maximize profit\n",
    "\n",
    "\\begin{align}\n",
    "\\mbox{profit} & = \\mbox{income} - \\mbox{raw_material_cost} - \\mbox{processing_cost}\n",
    "\\end{align}\n",
    "\n",
    "where the financial components are given by\n",
    "\n",
    "\\begin{align}\n",
    "\\mbox{income} & = 72x_3 + 48x_4 + 42x_5 + 20x_6 \\\\\n",
    "\\mbox{raw_material_cost} & = 48x_1 + 30x_2 \\\\\n",
    "\\mbox{processing_cost} & = 1 x_1 + 2x_2\n",
    "\\end{align}\n",
    "\n",
    "Combining these terms\n",
    "\n",
    "\\begin{align}\n",
    "f & = - 47 x_1 - 28 x_2 + 72 x_3 + 48x_4 + 42x_5 + 20x_6 \n",
    "\\end{align}\n",
    "\n",
    "The material balance equations are\n",
    "\n",
    "\\begin{align}\n",
    "\\mbox{gasoline: } x_3 & = 0.80 x_1 + 0.44 x_2 \\\\\n",
    "\\mbox{kerosine: } x_4 & = 0.05 x_1 + 0.10 x_2 \\\\\n",
    "\\mbox{fuel oil: } x_5 & = 0.10 x_1 + 0.36 x_2 \\\\\n",
    "\\mbox{residual: } x_6 & = 0.05 x_1 + 0.10 x_2\n",
    "\\end{align}\n",
    "\n",
    "Production limits\n",
    "\n",
    "\\begin{align}\n",
    "\\mbox{gasoline: } x_3 & \\leq 24,000 \\\\\n",
    "\\mbox{kerosine: } x_4 & \\leq 2,000 \\\\\n",
    "\\mbox{fuel oil: } x_5 & \\leq 6,000\n",
    "\\end{align}\n",
    "\n",
    "\\begin{align}\n",
    "\\underbrace{\\left[\\begin{array}{cccccc}\n",
    "0.80 & 0.44 & -1 & 0 & 0 & 0 \\\\\n",
    "0.05 & 0.10 & 0 & -1 & 0 & 0 \\\\\n",
    "0.10 & 0.36 & 0 & 0 & -1 & 0 \\\\\n",
    "0.05 & 0.10 & 0 & 0 & 0 & -1\n",
    "\\end{array}\\right]}_{A_{eq}}\n",
    "\\left[\\begin{array}{c}\n",
    "x_1 \\\\ x_2 \\\\ x_3 \\\\ x_4 \\\\ x_5 \\\\ x_6 \n",
    "\\end{array}\\right]\n",
    "& = \n",
    "\\underbrace{\\left[\\begin{array}{c}\n",
    "0 \\\\ 0 \\\\ 0 \\\\ 0\n",
    "\\end{array}\\right]}_{b_{eq}}\n",
    "\\end{align}"
   ]
  },
  {
   "cell_type": "code",
   "execution_count": 3,
   "metadata": {},
   "outputs": [
    {
     "data": {
      "text/plain": [
       "     fun: -653517.24137931014\n",
       " message: 'Optimization terminated successfully.'\n",
       "     nit: 8\n",
       "   slack: array([   0.        ,    0.        ,  896.55172414])\n",
       "  status: 0\n",
       " success: True\n",
       "       x: array([ 26206.89655172,   6896.55172414,  24000.        ,   2000.        ,\n",
       "         5103.44827586,   2000.        ])"
      ]
     },
     "execution_count": 3,
     "metadata": {},
     "output_type": "execute_result"
    }
   ],
   "source": [
    "from scipy.optimize import linprog\n",
    "\n",
    "c = [47, 28, -72, -48, -42, -20]\n",
    "\n",
    "A_ub = [[0, 0, 1, 0, 0, 0],\n",
    "        [0, 0, 0, 1, 0, 0],\n",
    "        [0, 0, 0, 0, 1, 0]]\n",
    "\n",
    "b_ub = [24000, 2000, 6000]\n",
    "\n",
    "A_eq = [[0.80, 0.44, -1,  0,  0,  0],\n",
    "        [0.05, 0.10,  0, -1,  0,  0],\n",
    "        [0.10, 0.36,  0,  0, -1,  0],\n",
    "        [0.05, 0.10,  0,  0,  0, -1]]\n",
    "\n",
    "b_eq = [0, 0, 0, 0]\n",
    "\n",
    "results = linprog(c, A_ub, b_ub, A_eq, b_eq)\n",
    "results"
   ]
  },
  {
   "cell_type": "code",
   "execution_count": 14,
   "metadata": {},
   "outputs": [
    {
     "name": "stdout",
     "output_type": "stream",
     "text": [
      "Optimization terminated successfully.\n",
      "x[ 1] = 26206.9 bbl/day\n",
      "x[ 2] =  6896.6 bbl/day\n",
      "x[ 3] = 24000.0 bbl/day\n",
      "x[ 4] =  2000.0 bbl/day\n",
      "x[ 5] =  5103.4 bbl/day\n",
      "x[ 6] =  2000.0 bbl/day\n"
     ]
    }
   ],
   "source": [
    "print(results.message)\n",
    "if results.success:\n",
    "    for k in range(len(results.x)):\n",
    "        print('x[{0:2d}] = {1:7.1f} bbl/day'.format(k+1, results.x[k]))"
   ]
  },
  {
   "cell_type": "code",
   "execution_count": null,
   "metadata": {},
   "outputs": [],
   "source": []
  }
 ],
 "metadata": {
  "kernelspec": {
   "display_name": "Python 3",
   "language": "python",
   "name": "python3"
  },
  "language_info": {
   "codemirror_mode": {
    "name": "ipython",
    "version": 3
   },
   "file_extension": ".py",
   "mimetype": "text/x-python",
   "name": "python",
   "nbconvert_exporter": "python",
   "pygments_lexer": "ipython3",
   "version": "3.6.4"
  }
 },
 "nbformat": 4,
 "nbformat_minor": 2
}

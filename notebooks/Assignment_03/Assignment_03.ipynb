{
 "cells": [
  {
   "cell_type": "markdown",
   "metadata": {},
   "source": [
    "# Assignment 03\n",
    "\n",
    "This assignment consists of two parts.  The first part is an exercise in the simulation of non-trival nonlinear system exhibiting complex dynamics. The learning goals are to develop your skills you simulating a system modeled with a small number of differential equations, and to analyze the dynamic behavior of the system. The second exercise is to introduce you to linearization of system in the neighborhood of a steady state."
   ]
  },
  {
   "cell_type": "markdown",
   "metadata": {},
   "source": [
    "## Exercise 1 (10 pts)\n",
    "\n",
    "Problem 2.15 of your textbook involves the simulation and analysis of continuous stirred-tank bioreactor. The starting point is the model for the fed-batch bioreactor described in chapter 2, and which has been implemented in Python [here](http://nbviewer.jupyter.org/github/jckantor/CBE30338/blob/master/notebooks/Fed%20Batch%20Bioreactor.ipynb).  Using that model as your starting point, create a new notebook for Problem 2.15.  Your notebook should have the following features:\n",
    "\n",
    "**(a. & b.)**  For part (a & b) of the problem, your model should be described in mathematical notation. (If you're uncomfortable formatting math in a markdown cell, feel free to do this by hand on paper, and include an image in your submission.)\n",
    "\n",
    "**(c.)** For part (c.), create a python model of your reactor, and experiment with the value of $D$ to determine when washout occurs. Report that value. Then show one simulation for a value less than that critical value, and one simulation for a value greater than the critical value demonstrating washout.\n",
    "\n",
    "**(d.)** For part(d.), use your model to determine the value of $D$ that maximizes the cell production rate of product, which is $DX$. Show a simulation for that value.\n",
    "\n",
    "## Exercise 2 (10 pts).\n",
    "\n",
    "**(a.)** For this exercise, simulate the behavior of the model you created in Exercise 1 for a dilution rate equal to one half of the washout dilution rate. Identify the steady state values of X, P, and S.\n",
    "\n",
    "**(b.)** Now setting the initial conditions to the steady state values found in part a, plot the response of X, S, and V to a 10% increase in $D$.  For each X, S, V, decide whether or first or second order linear model would provide an appropriate approximation, and then find the parameters which best fit the observed behavior."
   ]
  },
  {
   "cell_type": "code",
   "execution_count": null,
   "metadata": {
    "collapsed": true
   },
   "outputs": [],
   "source": []
  }
 ],
 "metadata": {
  "kernelspec": {
   "display_name": "Python [conda root]",
   "language": "python",
   "name": "conda-root-py"
  },
  "language_info": {
   "codemirror_mode": {
    "name": "ipython",
    "version": 3
   },
   "file_extension": ".py",
   "mimetype": "text/x-python",
   "name": "python",
   "nbconvert_exporter": "python",
   "pygments_lexer": "ipython3",
   "version": "3.5.2"
  }
 },
 "nbformat": 4,
 "nbformat_minor": 1
}

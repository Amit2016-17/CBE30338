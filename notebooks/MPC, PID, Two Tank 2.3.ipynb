{
 "cells": [
  {
   "cell_type": "code",
   "execution_count": 3543,
   "metadata": {
    "collapsed": false
   },
   "outputs": [],
   "source": [
    "# Gravity Drained Tanks in Series\n",
    "# We'll start with a straightforward model for a pair of gravity drained\n",
    "#% tanks in series. \n",
    "#%\n",
    "#%    _______\n",
    "#%           |  q_in (manipulated)\n",
    "#%           v\n",
    "#%        -------\n",
    "#%       |       |  Area = A1\n",
    "#%       |       |\n",
    "#%        -------\n",
    "#%    ----   |\n",
    "#    q_d  |  |  q1 = C1*sqrt(h1)\n",
    "#%        v  v\n",
    "#%        -------\n",
    "#%       |       |  Area = A2\n",
    "#%       |       |\n",
    "#%        -------\n",
    "#%           |\n",
    "#%            -----> q2 = C2*sqrt(h2)\n",
    "#%\n",
    "# % The model equations are\n",
    "# %\n",
    "#%   dh(1)/dt = (qin(t) - C1*sqrt(h(1)))/A1\n",
    "#%   dh(2)/dt = (qd(t) + C1*sqrt(h(1)) - C2*sqrt(h(2)))/A2\n",
    "#%\n",
    "#% q_d is an unmeasured inflow to tank 2. The control objective is to\n",
    "#% maintain a desired level in tank 2 and thereby a steady outflow q2 by\n",
    "#% adjusting the manipulable variable q_in.\n",
    "#%\n",
    "#% The right hand side of the differential equations are given in the form a\n",
    "#% function of time (t), a vector of tank levels (h), and functions of time\n",
    "#% that return values for qin(t) and qd(t)\n",
    "\n",
    "# import imporant packages\n",
    "import math \n",
    "import numpy\n",
    "import numpy as np\n",
    "from scipy.integrate import odeint\n",
    "import matplotlib.pyplot as plt\n",
    "import pylab\n",
    "from operator import add \n",
    "from scipy.interpolate import interp1d\n",
    "%matplotlib inline\n",
    "\n",
    "\n",
    "# Model Parameters\n",
    "\n",
    "A1 = 2.0;\n",
    "C1 = 1.2;\n",
    "A2 = 3.0;\n",
    "C2 = 1.0;\n",
    "h1store = [0];\n",
    "h2store = [0];\n",
    "Hmatrix = np.matrix([h1store,h2store])\n",
    "qin = []\n",
    "qd = []\n",
    "# Model equations\n",
    "\n",
    "def dHtankone(t,h1,qin,qd):\n",
    "    dh = (qin - C1*np.real(math.sqrt(h1)))/A1\n",
    "    return dh\n",
    "def dHtanktwo(t,h1,h2,qin,qd):\n",
    "    dhtwo = (qd + C1*np.real(math.sqrt(h1)) - C2*np.real(math.sqrt(h2)))/A2\n",
    "    return dhtwo\n",
    "dHtanktwo(10,10,10,10,10);"
   ]
  },
  {
   "cell_type": "code",
   "execution_count": 3544,
   "metadata": {
    "collapsed": false
   },
   "outputs": [],
   "source": [
    "qin_nominal = 1.0;\n",
    "qd_nominal = 0.0;\n",
    "\n",
    "def qinfunction(t):\n",
    "    qin = qin_nominal\n",
    "    return qin\n",
    "def qdfunction(t):\n",
    "    qd = qd_nominal\n",
    "    return qd\n",
    "def height(M,t):\n",
    "    h1 = M[0];\n",
    "    h2 = M[1];\n",
    "    qin = qinfunction(t);\n",
    "    qd = qdfunction(t);\n",
    "    X1 = dHtankone(t,h1,qin,qd)\n",
    "    X2 = dHtanktwo(t,h1,h2,qin,qd)\n",
    "    dH = [X1,X2]\n",
    "    return dH\n",
    "#start = [0,0,0,1]\n",
    "\n",
    "#dH = height(start,0)\n",
    "tf = 150;\n",
    "h1_initial = 0;\n",
    "h2_initial = 0;\n",
    "#h1.append(h1_initial);\n",
    "#h2.append(h2_initial);\n",
    "#h1store.append(dH[0]);\n",
    "#h2store.append(dH[1]);\n",
    "#Hmatrix = np.matrix([h1store,h2store])\n",
    "\n",
    "time = numpy.linspace(0.0, tf, 1000)\n",
    "start = [0,0]\n"
   ]
  },
  {
   "cell_type": "code",
   "execution_count": 3545,
   "metadata": {
    "collapsed": false
   },
   "outputs": [
    {
     "name": "stdout",
     "output_type": "stream",
     "text": [
      "[[ 0.          0.        ]\n",
      " [ 0.05994069  0.0075329 ]\n",
      " [ 0.10883878  0.01928267]\n",
      " ..., \n",
      " [ 0.69444444  1.        ]\n",
      " [ 0.69444444  1.        ]\n",
      " [ 0.69444444  1.        ]]\n"
     ]
    }
   ],
   "source": [
    "f = odeint(height, start, time)\n",
    "print f"
   ]
  },
  {
   "cell_type": "code",
   "execution_count": 3546,
   "metadata": {
    "collapsed": false
   },
   "outputs": [
    {
     "data": {
      "text/plain": [
       "<matplotlib.lines.Line2D at 0x16f9d3e10>"
      ]
     },
     "execution_count": 3546,
     "metadata": {},
     "output_type": "execute_result"
    },
    {
     "data": {
      "image/png": "[encoded data removed]",
      "text/plain": [
       "<matplotlib.figure.Figure at 0x1605f3e10>"
      ]
     },
     "metadata": {},
     "output_type": "display_data"
    }
   ],
   "source": [
    "plt.plot(time,f)\n",
    "plt.legend(['h1','h2'])\n",
    "plt.hold(True)\n",
    "h_ss = f[-1,:]\n",
    "plt.axhline(y = h_ss[0], xmin = 0, xmax = 1, hold = None)\n",
    "plt.axhline(y = h_ss[1], xmin = 0, xmax = 1, hold = None)"
   ]
  },
  {
   "cell_type": "code",
   "execution_count": 3547,
   "metadata": {
    "collapsed": false
   },
   "outputs": [],
   "source": [
    "h_ss = f[-1,:]"
   ]
  },
  {
   "cell_type": "code",
   "execution_count": 3548,
   "metadata": {
    "collapsed": false
   },
   "outputs": [],
   "source": [
    "# Establish a Reference function\n",
    "def href(t):\n",
    "    hreff = h_ss[1] + min(.1*t, .5) - .7*(t>=120)\n",
    "    return hreff\n",
    "# Redefine Qd\n",
    "def qdfunction(t):\n",
    "    qd = .3*((t>= 50) & (t<70));\n",
    "    return qd\n",
    "# Turn Time into Discreet Time\n",
    "dt = 2.0;\n",
    "tf = 200;\n",
    "time_discrete = np.linspace(0,200,101)"
   ]
  },
  {
   "cell_type": "code",
   "execution_count": 3549,
   "metadata": {
    "collapsed": false
   },
   "outputs": [],
   "source": [
    "h = h_ss\n",
    "I = 0;\n",
    "k = 0;\n",
    "yrefstore = [0]\n",
    "p1 = [h_ss[1]]\n",
    "#p2 = [h_ss[0]]\n",
    "#p3 = [h_ss[1]]\n",
    "qinf = [1]\n",
    "\n",
    "while k < len(time_discrete) - 1:\n",
    "    # Our Measured Value\n",
    "    y = h[1] - h_ss[1];\n",
    "    # The PI Controller\n",
    "    yref = href(time_discrete[k]) - h_ss[1];\n",
    "    yerr = yref - y;\n",
    "    P = .6*yerr;\n",
    "    I = I + .1*dt*yerr;\n",
    "    u = P + I;\n",
    "    # Actuator \n",
    "    qin_last = qinfunction(time_discrete[k])\n",
    "    qin_delta = (qin_nominal + u) - qin_last;\n",
    "    def qinfunction(ts):\n",
    "        qin = qin_last + (ts > time_discrete[k])*qin_delta;\n",
    "        return qin\n",
    "    tiwtp = qinfunction(time_discrete[k+1])\n",
    "    qinf.append(tiwtp)\n",
    "    # Process Simulation\n",
    "    M = [h[0],h[1]]\n",
    "    timeinter = [time_discrete[k],time_discrete[k+1]]\n",
    "    Hsim = odeint(height, M, [time_discrete[k], time_discrete[k+1]])\n",
    "    h = Hsim[-1,:]\n",
    "    k = k+1\n",
    "    # Visualization\n",
    "    p1.append(y+h_ss[1])\n",
    "    #p2.append(Hsim[-1,0])"
   ]
  },
  {
   "cell_type": "code",
   "execution_count": 3550,
   "metadata": {
    "collapsed": false
   },
   "outputs": [
    {
     "data": {
      "text/plain": [
       "[<matplotlib.lines.Line2D at 0x165957a90>]"
      ]
     },
     "execution_count": 3550,
     "metadata": {},
     "output_type": "execute_result"
    },
    {
     "data": {
      "image/png": "[encoded data removed]",
      "text/plain": [
       "<matplotlib.figure.Figure at 0x165957590>"
      ]
     },
     "metadata": {},
     "output_type": "display_data"
    }
   ],
   "source": [
    "plt.plot(time_discrete, p1)\n",
    "hrf = [href(0)]\n",
    "time = numpy.linspace(0,200,201)\n",
    "for t in range(1,201):\n",
    "    hrf.append(href(t))\n",
    "plt.plot(time, hrf)"
   ]
  },
  {
   "cell_type": "code",
   "execution_count": 3551,
   "metadata": {
    "collapsed": false
   },
   "outputs": [
    {
     "data": {
      "text/plain": [
       "[<matplotlib.lines.Line2D at 0x16e856b50>]"
      ]
     },
     "execution_count": 3551,
     "metadata": {},
     "output_type": "execute_result"
    },
    {
     "data": {
      "image/png": "[encoded data removed]",
      "text/plain": [
       "<matplotlib.figure.Figure at 0x16e8562d0>"
      ]
     },
     "metadata": {},
     "output_type": "display_data"
    }
   ],
   "source": [
    "#addlist = np.ones(len(p2))*.3\n",
    "#plt.plot(time_discrete, map(add, p2, addlist))\n",
    "\n",
    "\n",
    "qdf = [qdfunction(0)]\n",
    "for t in range(1,201):\n",
    "    qdf.append(qdfunction(t))\n",
    "    \n",
    "plt.plot(time, qdf,)\n",
    "\n",
    "plt.plot(time_discrete,qinf,)\n"
   ]
  },
  {
   "cell_type": "code",
   "execution_count": 3552,
   "metadata": {
    "collapsed": false
   },
   "outputs": [],
   "source": [
    "## Demo 3 Linearization\n",
    "# For detailed control design we will need a linear model that approximates\n",
    "# the response of the two-tank system in the neighhborhood of a typical\n",
    "# operating point. The model will be in the form\n",
    "#\n",
    "#   dx/dt = A*x + B*u + Ed\n",
    "#       y = C*x + D*u + Fd\n",
    "#\n",
    "# where state vector x denotes deviations of tank heights from the steady\n",
    "# state operating point, u denotes deviations in the manipulable input qin,\n",
    "# and d denotes deviations in the nominal disturbance qd. Here we derive\n",
    "# analytical expressions for the partial derivatives of f with respect to\n",
    "# all of these variables, and evaluate at the steady state computed above.\n",
    "\n",
    "A = np.array([[-C1/(2*A1*math.sqrt(h_ss[0])), 0],[C1/(2*A2*math.sqrt(h_ss[0])), -C2/(2*A2*math.sqrt(h_ss[1]))]])\n",
    "B = np.array([1/A1, 0])\n",
    "E = np.array([0, 1/A2])\n",
    "C = [0, 1]\n",
    "D = [0]\n",
    "F = [0]"
   ]
  },
  {
   "cell_type": "code",
   "execution_count": 3553,
   "metadata": {
    "collapsed": false
   },
   "outputs": [],
   "source": [
    "# Now compare the response of the nonlinear model and the linear\n",
    "# approximation for typical inputs. A time grid is set up, then used to for\n",
    "# a nonlinear simulation starting at the nominal steady state and with some\n",
    "# time-varying inputs. The simulation is then repeated for the nonlinear\n",
    "# model after constructing the initial condition and inputs in terms of the\n",
    "# deviations from the nominal steady state.\n",
    "\n",
    "# simulation horizon\n",
    "tf = 80\n",
    "t = numpy.linspace(0,tf,1601)\n",
    "\n",
    "# nonlinear simulation\n",
    "def qinfunction(t):\n",
    "    qin = qin_nominal + 0.2*(t>=10) - 0.4*(t>=40)\n",
    "    return qin\n",
    "h = odeint(height, h_ss, t)\n",
    "\n",
    "# linear simulation\n",
    "def ufunction(t):\n",
    "    return qinfunction(t) - qin_nominal\n",
    "def dfunction(t):\n",
    "    return qdfunction(t) - qd_nominal\n",
    "\n",
    "x_initial =  np.array([0,0])\n",
    "def linfunction(x,t):\n",
    "    return np.dot(A,x) + B*ufunction(t) + E*dfunction(t)"
   ]
  },
  {
   "cell_type": "code",
   "execution_count": 3554,
   "metadata": {
    "collapsed": false
   },
   "outputs": [],
   "source": [
    "x = odeint(linfunction, x_initial, t)"
   ]
  },
  {
   "cell_type": "code",
   "execution_count": 3555,
   "metadata": {
    "collapsed": false
   },
   "outputs": [],
   "source": [
    "#np.dot(A,x_initial) + np.dot(B,ufunction(15)) + np.dot(E, dfunction(15))\n"
   ]
  },
  {
   "cell_type": "code",
   "execution_count": 3556,
   "metadata": {
    "collapsed": false
   },
   "outputs": [
    {
     "data": {
      "text/plain": [
       "(0, 1.4)"
      ]
     },
     "execution_count": 3556,
     "metadata": {},
     "output_type": "execute_result"
    },
    {
     "data": {
      "image/png": "[encoded data removed]",
      "text/plain": [
       "<matplotlib.figure.Figure at 0x16b7de290>"
      ]
     },
     "metadata": {},
     "output_type": "display_data"
    }
   ],
   "source": [
    "#%%\n",
    "#% The simulation results are displayed by converting the linear deviation\n",
    "# variables back to values corresponding to the actual process variables.\n",
    "#% This allows for a better comparison of the nonlinear and linear models.\n",
    "\n",
    "f, axarr = plt.subplots(2, sharex=True)\n",
    "axarr[0].plot(t,h)\n",
    "axarr[0].plot(t,x+h_ss,'--')\n",
    "axarr[0].set_title('Response: Nonlinear (solid) versus Linear (dashed) models')\n",
    "axarr[1].plot(t,qinfunction(t))\n",
    "axarr[1].plot(t,qdfunction(t))\n",
    "plt.ylim([0,1.4])\n",
    "\n",
    "\n",
    "\n",
    "\n"
   ]
  },
  {
   "cell_type": "code",
   "execution_count": 3557,
   "metadata": {
    "collapsed": false
   },
   "outputs": [],
   "source": [
    "#%% Demo 4. Discrete Time Transformation with ZOH\n",
    "#% Model predictive control is normally implemented in discrete time. We\n",
    "#% therefore need a discrete time version of the linearized model that we'll\n",
    "# construct using matrix exponentials. The model is in the form\n",
    "#%\n",
    "#%   x(k+1) = Ad*x(k) + Bd*u(k) + Ed*d(k)\n",
    "#%     y(k) = C*x(k) + D*u(k) + F*d(k)\n",
    "#%\n",
    "#% x(k), u(k), d(k), y(k) refer to values of the linear model evaluated at\n",
    "#% time t(k) where k is the sample numbe, and k=1 is the initial condition.\n",
    "#% Note that C, D, and F are the same for the discrete-time and\n",
    "#% continuous-time models.\n",
    "\n",
    "#import expm function\n",
    "from scipy.linalg import expm, inv\n",
    "\n",
    "#sample time\n",
    "dt=2.0;\n",
    "A = np.matrix([[-C1/(2*A1*math.sqrt(h_ss[0])), 0],[C1/(2*A2*math.sqrt(h_ss[0])), -C2/(2*A2*math.sqrt(h_ss[1]))]])\n",
    "B = np.array([[1/A1], [0]])\n",
    "E = np.array([[0], [1/A2]])\n",
    "\n",
    "#discrete-time model \n",
    "Ad=expm(A*dt);\n",
    "Bd=(expm(A*dt)-numpy.matrix(numpy.identity(2)))*inv(A)*B;\n",
    "Ed=(expm(A*dt)-numpy.matrix(numpy.identity(2)))*inv(A)*E;\n",
    "Ad1=Ad[0]\n",
    "Ad2=Ad[1]\n",
    "Ad=np.matrix([Ad1, Ad2])\n",
    "\n",
    "    "
   ]
  },
  {
   "cell_type": "code",
   "execution_count": 3558,
   "metadata": {
    "collapsed": false
   },
   "outputs": [
    {
     "data": {
      "text/plain": [
       "(-0.3, 0.3)"
      ]
     },
     "execution_count": 3558,
     "metadata": {},
     "output_type": "execute_result"
    },
    {
     "data": {
      "image/png": "[encoded data removed]",
      "text/plain": [
       "<matplotlib.figure.Figure at 0x1701b3450>"
      ]
     },
     "metadata": {},
     "output_type": "display_data"
    }
   ],
   "source": [
    "#%%\n",
    "#% Next we construct simulations using both the discrete-time and\n",
    "#% continuous-time models.\n",
    "\n",
    "xi1 = [0];\n",
    "xi2 = [0];\n",
    "x_initial = np.matrix([xi1,xi2])\n",
    "\n",
    "# discrete time simulation\n",
    "td = numpy.linspace(0,tf,tf/dt+1);\n",
    "xd = x_initial;\n",
    "\n",
    "for k in range (1,len(td-1)):\n",
    "    xd = np.c_[xd,np.dot(Ad,xd[:,k-1])+np.dot(Bd,ufunction(td[k-1]))+np.dot(Ed,dfunction(td[k-1]))]\n",
    "\n",
    "# flip matrix to row vector\n",
    "xd= xd.T\n",
    "\n",
    "#continues-time model taken from Demo 3\n",
    "\n",
    "f, axarr = plt.subplots(2, sharex=True)\n",
    "axarr[0].plot(td,xd,'o')\n",
    "axarr[0].plot(t,x)\n",
    "\n",
    "axarr[0].set_title('System Response')\n",
    "axarr[1].plot(t,ufunction(t))\n",
    "axarr[1].plot(t,dfunction(t))\n",
    "axarr[1].plot(td,ufunction(td),'o')\n",
    "axarr[1].plot(td,dfunction(td),'o')\n",
    "plt.ylim([-.3,.3])\n"
   ]
  },
  {
   "cell_type": "code",
   "execution_count": 3559,
   "metadata": {
    "collapsed": false
   },
   "outputs": [
    {
     "data": {
      "text/plain": [
       "[<matplotlib.lines.Line2D at 0x16743e950>]"
      ]
     },
     "execution_count": 3559,
     "metadata": {},
     "output_type": "execute_result"
    },
    {
     "data": {
      "image/png": "[encoded data removed]",
      "text/plain": [
       "<matplotlib.figure.Figure at 0x16691fd50>"
      ]
     },
     "metadata": {},
     "output_type": "display_data"
    }
   ],
   "source": [
    "#%% Demo 5. Step Response Matrix\n",
    "#% As outlined in Chapter 20 of the (SEMD) textbook, the computations for\n",
    "#% Model Predictive Control can formulated in terms of the step response\n",
    "#% matrix. The step response matrix is computed using the step response of\n",
    "#% the discrete-time linear model, which is computed by finding the values\n",
    "#% of the output starting at steady state, and where the manipuleable input\n",
    "#% is a unit step.\n",
    "\n",
    "#% prediction and control horizons\n",
    "dt = 2.0;\n",
    "tprediction = 50;\n",
    "tcontrol = 8;\n",
    "\n",
    "tpred = np.linspace(0,tprediction+tcontrol,((tprediction+tcontrol)/dt)+1);\n",
    "\n",
    "#% unit step input\n",
    "def ufunction(t):\n",
    "    upred=1.0;\n",
    "    return upred\n",
    "\n",
    "#% compute unit step response\n",
    "x1=[0]\n",
    "x2=[0]\n",
    "x = np.matrix([x1,x2]);\n",
    "\n",
    "#cant make ystep an empty matrix leads to extra point on graph\n",
    "ystep=[0];\n",
    "\n",
    "for k in range(0,len(tpred)):\n",
    "    ystep = np.c_[ystep,np.dot(C,x)+np.dot(D,ufunction(tpred[k]))]\n",
    "    x= np.dot(Ad,x) + np.dot(Bd,ufunction(tpred[k]))\n",
    "    \n",
    "ystep = ystep.T[range(1,31)]\n",
    "#weird range ^^ because of extra point from ystep\n",
    "\n",
    "plt.plot(tpred,ystep,'.')\n"
   ]
  },
  {
   "cell_type": "code",
   "execution_count": 3560,
   "metadata": {
    "collapsed": false
   },
   "outputs": [],
   "source": [
    "## Establish Toeplitz Matrix\n",
    "\n",
    "from scipy.linalg import toeplitz\n",
    "# toeplitz function \n",
    "steps = int(tcontrol/dt);\n",
    "\n",
    "ytoe = ystep\n",
    "\n",
    "ytoe = np.array(ytoe)\n",
    "ytoe = ytoe.tolist()\n",
    "zerovector = np.zeros(steps+1)\n",
    "S = toeplitz(ytoe,zerovector)\n"
   ]
  },
  {
   "cell_type": "code",
   "execution_count": 3561,
   "metadata": {
    "collapsed": false
   },
   "outputs": [
    {
     "data": {
      "text/plain": [
       "(0, 2)"
      ]
     },
     "execution_count": 3561,
     "metadata": {},
     "output_type": "execute_result"
    },
    {
     "data": {
      "image/png": "[encoded data removed]",
      "text/plain": [
       "<matplotlib.figure.Figure at 0x16c394590>"
      ]
     },
     "metadata": {},
     "output_type": "display_data"
    }
   ],
   "source": [
    "#%% Demo 6. Computing an Open Loop Control Policy\n",
    "#% As a first step towards feedback control, let's look at using the step\n",
    "#% response matrix to compute the control moves necessary to acheive a\n",
    "# desired change in the level of tank 2. We start with desired reference\n",
    "#% trajectory for future values of level in tank 2.\n",
    "\n",
    "#%href = @(t) h_ss(2) + min(0.1*t, 0.5);\n",
    "\n",
    "for k in range(0,len(tpred)-1):\n",
    "    plt.plot(tpred[k],href(tpred[k]),'ro')\n",
    "    plt.hold(True)\n",
    "plt.ylim(0,2)\n",
    "\n",
    "#%%\n",
    "#% A series of control moves du are computed by 'solving' the equation\n",
    "#%\n",
    "#%   yref = S*du\n",
    "#%\n",
    "#% where\n",
    "#% \n",
    "#%   yref = href = h_ss\n",
    "#%\n",
    "#% and u is reconstructed from du by taking a cumulative sum. The quotes\n",
    "#% around 'solving' are because there are more equations than unknowns, so\n",
    "#% the best we can do (without further knowledge) is a regression."
   ]
  },
  {
   "cell_type": "code",
   "execution_count": 3562,
   "metadata": {
    "collapsed": false
   },
   "outputs": [
    {
     "name": "stdout",
     "output_type": "stream",
     "text": [
      "30\n",
      "30\n",
      "[ 1.14444852 -0.94682513  0.07216944 -0.11428922  0.09468556]\n"
     ]
    }
   ],
   "source": [
    "def yreffunction(t):\n",
    "    yref= href(t) - h_ss[1]\n",
    "    return yref\n",
    "yreffunction\n",
    "yrefsave=np.zeros(len(S))\n",
    "for k in range(0,len(S)):\n",
    "    #yref= np.c_[yref,yreffunction(tpred[k])]\n",
    "    #print yref\n",
    "    yrefsave[k]= yreffunction(tpred[k])\n",
    "    #yref = np.vstack((yref,yrefnew))\n",
    "\n",
    "np.array(yrefsave)\n",
    "print len(yrefsave)\n",
    "print len(S)\n",
    "S = np.reshape(S,(len(S),steps+1))\n",
    "du= np.linalg.lstsq(S,yrefsave)[0]\n",
    "#du = S\\yref[tpred]\n",
    "du=du.T\n",
    "print du"
   ]
  },
  {
   "cell_type": "code",
   "execution_count": 3563,
   "metadata": {
    "collapsed": true
   },
   "outputs": [],
   "source": [
    "## The Following Function Was supplied by Professor Jeff Kantor, University of Notre Dame\n",
    "def interp0(x, xp, yp):\n",
    "    \"\"\"Zeroth order hold interpolation w/ same\n",
    "    (base)   signature  as numpy.interp.\"\"\"\n",
    "\n",
    "    def func(x0):\n",
    "        if x0 <= xp[0]:\n",
    "            return yp[0]\n",
    "        if x0 >= xp[-1]:\n",
    "            return yp[-1]\n",
    "        k = 0\n",
    "        while x0 > xp[k]:\n",
    "            k += 1\n",
    "        return yp[k-1]\n",
    "\n",
    "    return map(func, x)\n"
   ]
  },
  {
   "cell_type": "code",
   "execution_count": 3564,
   "metadata": {
    "collapsed": false
   },
   "outputs": [
    {
     "name": "stdout",
     "output_type": "stream",
     "text": [
      "[  0.   2.   4.   6.   8.  10.  12.  14.  16.  18.  20.  22.  24.  26.  28.\n",
      "  30.  32.  34.  36.  38.  40.  42.  44.  46.  48.  50.  52.  54.  56.  58.]\n"
     ]
    },
    {
     "data": {
      "text/plain": [
       "(0, 2)"
      ]
     },
     "execution_count": 3564,
     "metadata": {},
     "output_type": "execute_result"
    },
    {
     "data": {
      "image/png": "[encoded data removed]",
      "text/plain": [
       "<matplotlib.figure.Figure at 0x1650d2250>"
      ]
     },
     "metadata": {},
     "output_type": "display_data"
    }
   ],
   "source": [
    "## Convert Control Moves to a Continuous Control Policy\n",
    "from scipy import interp\n",
    "linearrange = np.linspace(0,tcontrol,tcontrol/dt+1)\n",
    "linearrange = np.array(linearrange)\n",
    "def ufunction(t):\n",
    "    return interp0(t,linearrange, np.cumsum(du))\n",
    "def qinfunction(t):\n",
    "    X = (qin_nominal*np.ones(len(linearrange))).T + ufunction(linearrange)\n",
    "    return X\n",
    "#print ufunction(5)\n",
    "#np.cumsum(du)\n",
    "print tpred\n",
    "R = h_ss[1] + np.dot(S,du)\n",
    "plt.plot(tpred, R,'bo')\n",
    "plt.hold(True)\n",
    "plt.ylim(0,2)\n",
    "#plt.plot()"
   ]
  },
  {
   "cell_type": "code",
   "execution_count": 3565,
   "metadata": {
    "collapsed": false
   },
   "outputs": [
    {
     "data": {
      "text/plain": [
       "array([ 2.14444852,  2.14444852,  1.19762339,  1.26979283,  1.25018917])"
      ]
     },
     "execution_count": 3565,
     "metadata": {},
     "output_type": "execute_result"
    }
   ],
   "source": [
    "(qin_nominal*np.ones(len(linearrange))).T + ufunction(linearrange)"
   ]
  },
  {
   "cell_type": "code",
   "execution_count": 3566,
   "metadata": {
    "collapsed": false
   },
   "outputs": [
    {
     "data": {
      "text/plain": [
       "[1.1444485183486417,\n",
       " 1.1444485183486417,\n",
       " 0.19762338865704643,\n",
       " 0.26979282983183561,\n",
       " 0.2501891671564605]"
      ]
     },
     "execution_count": 3566,
     "metadata": {},
     "output_type": "execute_result"
    }
   ],
   "source": [
    "ufunction(linearrange)"
   ]
  },
  {
   "cell_type": "code",
   "execution_count": 3567,
   "metadata": {
    "collapsed": false
   },
   "outputs": [
    {
     "data": {
      "text/plain": [
       "[<matplotlib.lines.Line2D at 0x16b643d10>]"
      ]
     },
     "execution_count": 3567,
     "metadata": {},
     "output_type": "execute_result"
    },
    {
     "data": {
      "image/png": "[encoded data removed]",
      "text/plain": [
       "<matplotlib.figure.Figure at 0x16f082210>"
      ]
     },
     "metadata": {},
     "output_type": "display_data"
    }
   ],
   "source": [
    "\n",
    "t = np.linspace(0,tpred[-1],2901)\n",
    "#plt.plot(t,qinfunction(t),'r')\n",
    "\n",
    "plt.plot(t,interp0(t,linearrange, np.cumsum(du)))"
   ]
  },
  {
   "cell_type": "markdown",
   "metadata": {
    "collapsed": true
   },
   "source": [
    "#  Demo 7. Feedback Implementation of Model Predictive Control\n",
    " The open loop implementation has obvious problems in correcting for the\n",
    " effects of model error and unmeasured disturbances. The following cell\n",
    " demonstrates a feedback implementation in which a vector ypred is used to\n",
    " store projections of the future output.  At each time step a new\n",
    " measurement is taken. If there is a mismatch, it assumed the mismatch\n",
    " will bias all future predictions by the same amount, and therefore added\n",
    " to the current prediction. Control moves are then calculated to push the\n",
    " revised prediction to the desired reference tranjectory. The control\n",
    " moves are limited feasible values before being applied to the process."
   ]
  },
  {
   "cell_type": "code",
   "execution_count": 3568,
   "metadata": {
    "collapsed": false
   },
   "outputs": [],
   "source": [
    "dt = 2\n",
    "t = np.linspace(0,200,101)\n",
    "ypred = np.zeros(len(tpred))\n",
    "h = h_ss\n",
    "u = 0\n",
    "\n",
    "def qinfunction(t):\n",
    "    return qin_nominal\n",
    "qin_min = 0.0\n",
    "qin_max = 2.0\n",
    "du_max = .5\n",
    "du_min = -.5\n",
    "\n",
    "def href(t):\n",
    "    hreff = h_ss[1] + min(.1*t, .5) - .7*(t>=120)\n",
    "    return hreff"
   ]
  },
  {
   "cell_type": "code",
   "execution_count": 3569,
   "metadata": {
    "collapsed": false
   },
   "outputs": [
    {
     "data": {
      "text/plain": [
       "[<matplotlib.lines.Line2D at 0x16d165510>]"
      ]
     },
     "execution_count": 3569,
     "metadata": {},
     "output_type": "execute_result"
    },
    {
     "data": {
      "image/png": "[encoded data removed]",
      "text/plain": [
       "<matplotlib.figure.Figure at 0x16d1650d0>"
      ]
     },
     "metadata": {},
     "output_type": "display_data"
    }
   ],
   "source": [
    "hrefvector = np.zeros(len(t))\n",
    "for i in range(0,len(t)):\n",
    "    hrefvector[i] = href(t[i])\n",
    "\n",
    "plt.plot(t,hrefvector)\n",
    "plt.hold(True)\n",
    "plt.plot(t,qdfunction(t))"
   ]
  },
  {
   "cell_type": "code",
   "execution_count": 3573,
   "metadata": {
    "collapsed": false
   },
   "outputs": [
    {
     "data": {
      "image/png": "[encoded data removed]",
      "text/plain": [
       "<matplotlib.figure.Figure at 0x17004cc90>"
      ]
     },
     "metadata": {},
     "output_type": "display_data"
    }
   ],
   "source": [
    "h = h_ss\n",
    "for k in range(0,len(t)-1):\n",
    "    leastsquare = np.zeros(len(tpred))\n",
    "    y = h[1] - h_ss[1]\n",
    "    ## Shift Prediction\n",
    "    ypredsave = (ypred[-1])\n",
    "    ypredremove = (ypred[0])\n",
    "    ypred = ypred.tolist()\n",
    "    ypred.remove(ypredremove)\n",
    "    ypred.append(ypredsave)\n",
    "    ydisturbance = np.add(y,-ypred[0])\n",
    "    ypred = np.add(ypred,ydisturbance) \n",
    "    for j in range(0,len(tpred)):\n",
    "        leastsquare[j] = yreffunction(t[k] + tpred[j]) - ypred[j]\n",
    "    du = np.linalg.lstsq(S,leastsquare)[0][0]\n",
    "    du = min(du, qin_max-qinfunction(t[k]))\n",
    "    du = max(du, qin_min-qinfunction(t[k]))\n",
    "    du = min(du, du_max)\n",
    "    du = max(du, du_min)\n",
    "    ypred = np.add(ypred,S[:,0]*du)\n",
    "    qin_last = qinfunction(t[k+1])\n",
    "    def qinfunction(ts):\n",
    "        A = qin_last + duf*(ts > t[k])\n",
    "        return A\n",
    "    duf = du\n",
    "    timevector = [t[k], t[k+1]]\n",
    "    f = odeint(height,h,timevector)\n",
    "    h = f[1,:]\n",
    "    plt.hold(True)\n",
    "    plt.plot([t[k], t[k+1]],[f[0,1],f[1,1]], 'r')\n",
    "    plt.plot([t[k],t[k+1]], [qinfunction(t[k]), qinfunction(t[k+1])], 'b')"
   ]
  },
  {
   "cell_type": "code",
   "execution_count": 3600,
   "metadata": {
    "collapsed": false
   },
   "outputs": [
    {
     "ename": "SyntaxError",
     "evalue": "invalid syntax (<ipython-input-3600-4c8134e42a63>, line 58)",
     "output_type": "error",
     "traceback": [
      "\u001b[0;36m  File \u001b[0;32m\"<ipython-input-3600-4c8134e42a63>\"\u001b[0;36m, line \u001b[0;32m58\u001b[0m\n\u001b[0;31m    variable dv(1+round(tcontrol/dt));\u001b[0m\n\u001b[0m              ^\u001b[0m\n\u001b[0;31mSyntaxError\u001b[0m\u001b[0;31m:\u001b[0m invalid syntax\n"
     ]
    }
   ],
   "source": [
    "## Demo 8. Feedback Implementation of Model Predictive Control with CVX\n",
    "# The solution to the equation\n",
    "\n",
    "#   (yref-ypred) = S*du\n",
    "\n",
    "# involves possible contraints. For example, there are upper and lower\n",
    "# bounds on the manipulable inflow, and on changes in the manipulable\n",
    "# inflow. In the previous implementation these constraints were enforced\n",
    "# after solving for du, so no accommodation was made by the controller\n",
    "# itself for the impact of these constraints on control performance.\n",
    "\n",
    "# This cell demonstrates the significant improvement in closed-loop\n",
    "# performance that can be acheived by incorporating constraints directly\n",
    "# into the control calculations using constrained optimization.\n",
    "\n",
    "from cvxopt import matrix, solvers\n",
    "\n",
    "# discrete simulation horizon \n",
    "dt = 2.0\n",
    "t = np.linspace(0,200,101)\n",
    "\n",
    "# Vector to predicted values of y\n",
    "ypred = np.zeros(len(tpred))\n",
    "\n",
    "# current tank heights\n",
    "h = h_ss\n",
    "u = 0\n",
    "\n",
    "# Initialize control\n",
    "def qinfunction(t):\n",
    "    return qin_nominal\n",
    "\n",
    "# plotting\n",
    "hrefvector = np.zeros(len(t))\n",
    "for i in range(0,len(t)):\n",
    "    hrefvector[i] = href(t[i])\n",
    "    \n",
    "plt.plot(t,hrefvector,'r')\n",
    "plt.plot(t,qdfunction(t),'r')\n",
    "\n",
    "for k in range(0,len(t)-1):\n",
    "    # get current measurment\n",
    "    y = h[1]-h_ss[1]\n",
    "    # shift prediction to new time\n",
    "    ypredsave = (ypred[-1])\n",
    "    ypredremove = (ypred[0])\n",
    "    ypred = ypred.tolist()\n",
    "    ypred.remove(ypredremove)\n",
    "    ypred.append(ypredsave)\n",
    "    # compare measurment to prediction\n",
    "    ydisturbance = np.add(y,-ypred[0])\n",
    "    # measurment mismatch update\n",
    "    ypred = np.add(ypred,ydisturbance) \n",
    "    \n",
    "    # Compute control moves needed push ypred to yref\n",
    "    for j in range(0,len(tpred)):\n",
    "        leastsquare[j] = yreffunction(t[k] + tpred[j]) - ypred[j]\n",
    "    \n",
    "    \n",
    "    \n",
    "    du = dv(1)\n",
    "    \n",
    "    # control udapte assuming we implement the first control move\n",
    "    ypred = np.add(ypred,S[:,0]*du)\n",
    "    \n",
    "    # Actuator model\n",
    "    qin_last = qinfunction(t[k+1])\n",
    "    def qinfunction(ts):\n",
    "        A = qin_last + duf*(ts > t[k])\n",
    "        return A\n",
    "    duf = du\n",
    "    \n",
    "    # process simulation\n",
    "    timevector = [t[k], t[k+1]]\n",
    "    f = odeint(height,h,timevector)\n",
    "    h = f[1,:]\n",
    "    \n",
    "    # Visualization\n",
    "    plt.plot([t[k], t[k+1]], [f[0,1],f[1,1]], 'b')\n",
    "    plt.plot([t[k], t[k+1]], [f[0,0], f[1,0]] ,'r' )\n",
    "    plt.plot([t[k], t[k+1]], [qinfunction(t[k]),qinfunction(t[k+1])], 'g')"
   ]
  },
  {
   "cell_type": "code",
   "execution_count": null,
   "metadata": {
    "collapsed": false
   },
   "outputs": [],
   "source": []
  },
  {
   "cell_type": "code",
   "execution_count": null,
   "metadata": {
    "collapsed": false
   },
   "outputs": [],
   "source": []
  },
  {
   "cell_type": "code",
   "execution_count": null,
   "metadata": {
    "collapsed": true
   },
   "outputs": [],
   "source": []
  }
 ],
 "metadata": {
  "kernelspec": {
   "display_name": "Python 2",
   "language": "python",
   "name": "python2"
  },
  "language_info": {
   "codemirror_mode": {
    "name": "ipython",
    "version": 2
   },
   "file_extension": ".py",
   "mimetype": "text/x-python",
   "name": "python",
   "nbconvert_exporter": "python",
   "pygments_lexer": "ipython2",
   "version": "2.7.9"
  }
 },
 "nbformat": 4,
 "nbformat_minor": 0
}

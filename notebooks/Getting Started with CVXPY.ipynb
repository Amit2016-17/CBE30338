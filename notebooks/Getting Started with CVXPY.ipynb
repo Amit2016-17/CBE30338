{
 "cells": [
  {
   "cell_type": "markdown",
   "metadata": {},
   "source": [
    "#Getting Started with CVXPY"
   ]
  },
  {
   "cell_type": "markdown",
   "metadata": {},
   "source": [
    "##Installation of CVXPY"
   ]
  },
  {
   "cell_type": "code",
   "execution_count": 3,
   "metadata": {
    "collapsed": false
   },
   "outputs": [
    {
     "name": "stdout",
     "output_type": "stream",
     "text": [
      "Fetching package metadata: ......\n",
      "Solving package specifications: .................\n",
      "# All requested packages already installed.\n",
      "# packages in environment at /Users/jeff/anaconda:\n",
      "#\n",
      "cvxpy                     0.2.7                np18py27_0  \n"
     ]
    }
   ],
   "source": [
    "!conda install -c https://conda.binstar.org/cvxgrp cvxpy"
   ]
  },
  {
   "cell_type": "markdown",
   "metadata": {},
   "source": [
    "##Example - Solving a System of Equations"
   ]
  },
  {
   "cell_type": "code",
   "execution_count": 23,
   "metadata": {
    "collapsed": false
   },
   "outputs": [
    {
     "name": "stdout",
     "output_type": "stream",
     "text": [
      "status: optimal\n",
      "value: 6.99999999993\n",
      "optimal var 2.0 5.0\n"
     ]
    }
   ],
   "source": [
    "import cvxpy as cvx\n",
    "import numpy as np\n",
    "\n",
    "# Create two scalar optimization variables.\n",
    "x = cvx.Variable()\n",
    "y = cvx.Variable()\n",
    "\n",
    "# Create two constraints.\n",
    "constraints = [3*x + 4*y == 26,\n",
    "               2*x - 3*y == -11]\n",
    "\n",
    "# Form objective.\n",
    "obj = cvx.Minimize(cvx.norm(x+y))\n",
    "\n",
    "# Form and solve problem.\n",
    "prob = cvx.Problem(obj,constraints)\n",
    "prob.solve()  # Returns the optimal value\n",
    "\n",
    "# Display the solution\n",
    "\n",
    "print \"status:\", prob.status\n",
    "print \"value:\", prob.value\n",
    "print \"optimal var\", x.value, y.value"
   ]
  },
  {
   "cell_type": "code",
   "execution_count": null,
   "metadata": {
    "collapsed": true
   },
   "outputs": [],
   "source": []
  }
 ],
 "metadata": {
  "kernelspec": {
   "display_name": "Python 2",
   "language": "python",
   "name": "python2"
  },
  "language_info": {
   "codemirror_mode": {
    "name": "ipython",
    "version": 2
   },
   "file_extension": ".py",
   "mimetype": "text/x-python",
   "name": "python",
   "nbconvert_exporter": "python",
   "pygments_lexer": "ipython2",
   "version": "2.7.9"
  }
 },
 "nbformat": 4,
 "nbformat_minor": 0
}

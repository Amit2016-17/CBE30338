{
 "cells": [
  {
   "cell_type": "markdown",
   "metadata": {},
   "source": [
    "# Getting Started with CVXPY"
   ]
  },
  {
   "cell_type": "markdown",
   "metadata": {},
   "source": [
    "## Installation of CVXPY\n",
    "\n",
    "    conda install -c https://conda.binstar.org/cvxgrp cvxpy"
   ]
  },
  {
   "cell_type": "markdown",
   "metadata": {},
   "source": [
    "## Example - Solving a System of Equations"
   ]
  },
  {
   "cell_type": "code",
   "execution_count": 4,
   "metadata": {
    "collapsed": false
   },
   "outputs": [
    {
     "name": "stdout",
     "output_type": "stream",
     "text": [
      "Status: optimal\n",
      "Objective Value: 6.999999995683918\n",
      "Solution: 2.0 5.0\n"
     ]
    }
   ],
   "source": [
    "import cvxpy as cvx\n",
    "import numpy as np\n",
    "\n",
    "# Create two scalar optimization variables.\n",
    "x = cvx.Variable()\n",
    "y = cvx.Variable()\n",
    "\n",
    "# Create two constraints.\n",
    "constraints = [3*x + 4*y == 26,\n",
    "               2*x - 3*y == -11]\n",
    "\n",
    "# Form objective.\n",
    "obj = cvx.Minimize(cvx.norm(x+y))\n",
    "\n",
    "# Form and solve problem.\n",
    "prob = cvx.Problem(obj,constraints)\n",
    "prob.solve()  # Returns the optimal value\n",
    "\n",
    "# Display the solution\n",
    "\n",
    "print(\"Status:\", prob.status)\n",
    "print(\"Objective Value:\", prob.value)\n",
    "print(\"Solution:\", x.value, y.value)"
   ]
  },
  {
   "cell_type": "code",
   "execution_count": null,
   "metadata": {
    "collapsed": true
   },
   "outputs": [],
   "source": []
  }
 ],
 "metadata": {
  "kernelspec": {
   "display_name": "Python [conda root]",
   "language": "python",
   "name": "conda-root-py"
  },
  "language_info": {
   "codemirror_mode": {
    "name": "ipython",
    "version": 3
   },
   "file_extension": ".py",
   "mimetype": "text/x-python",
   "name": "python",
   "nbconvert_exporter": "python",
   "pygments_lexer": "ipython3",
   "version": "3.5.2"
  }
 },
 "nbformat": 4,
 "nbformat_minor": 0
}

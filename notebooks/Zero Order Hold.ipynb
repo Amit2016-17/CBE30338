{
 "cells": [
  {
   "cell_type": "code",
   "execution_count": 24,
   "metadata": {
    "collapsed": false
   },
   "outputs": [],
   "source": [
    "def interp0(x, xp, yp):\n",
    "    \"\"\"Zeroth order hold interpolation w/ same\n",
    "    (base)   signature  as numpy.interp.\"\"\"\n",
    "\n",
    "    def func(x0):\n",
    "        if x0 <= xp[0]:\n",
    "            return yp[0]\n",
    "        if x0 >= xp[-1]:\n",
    "            return yp[-1]\n",
    "        k = 0\n",
    "        while x0 > xp[k]:\n",
    "            k += 1\n",
    "        return yp[k-1]\n",
    "\n",
    "    return map(func, x)"
   ]
  },
  {
   "cell_type": "code",
   "execution_count": 25,
   "metadata": {
    "collapsed": false
   },
   "outputs": [
    {
     "data": {
      "text/plain": [
       "(0.0, 12.0)"
      ]
     },
     "execution_count": 25,
     "metadata": {},
     "output_type": "execute_result"
    },
    {
     "data": {
      "image/png": "[encoded data removed]",
      "text/plain": [
       "<matplotlib.figure.Figure at 0x109160210>"
      ]
     },
     "metadata": {},
     "output_type": "display_data"
    }
   ],
   "source": [
    "%matplotlib inline\n",
    "\n",
    "import matplotlib.pyplot as plt\n",
    "import numpy as np\n",
    "\n",
    "xp = np.linspace(0,10,20)\n",
    "yp = np.sin(xp)\n",
    "plt.scatter(xp,yp)\n",
    "\n",
    "x = np.linspace(0,12,300)\n",
    "plt.hold(True)\n",
    "plt.plot(x,interp0(x,xp,yp))\n",
    "plt.hold(False)\n",
    "plt.xlim([x.min(),x.max()])"
   ]
  },
  {
   "cell_type": "code",
   "execution_count": null,
   "metadata": {
    "collapsed": false
   },
   "outputs": [],
   "source": []
  }
 ],
 "metadata": {
  "kernelspec": {
   "display_name": "Python 2",
   "language": "python",
   "name": "python2"
  },
  "language_info": {
   "codemirror_mode": {
    "name": "ipython",
    "version": 2
   },
   "file_extension": ".py",
   "mimetype": "text/x-python",
   "name": "python",
   "nbconvert_exporter": "python",
   "pygments_lexer": "ipython2",
   "version": "2.7.9"
  }
 },
 "nbformat": 4,
 "nbformat_minor": 0
}

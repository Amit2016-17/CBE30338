{
 "cells": [
  {
   "cell_type": "code",
   "execution_count": 3,
   "metadata": {
    "collapsed": false
   },
   "outputs": [
    {
     "name": "stdout",
     "output_type": "stream",
     "text": [
      "[ 13.81032056]\n"
     ]
    }
   ],
   "source": [
    "# Alyson Duzanksy\n",
    "# Project 1 - Equations of State\n",
    "\n",
    "# Function that returns molar volume of pure component using SRK EOS\n",
    "# Function takes pressure and temperature and component properties\n",
    "\n",
    "from scipy.optimize import fsolve\n",
    "\n",
    "\n",
    "# Parameters needed for ethanol\n",
    "T = 500 # T = temperature (K)\n",
    "P = 3 # P = pressure (bar)\n",
    "Tc = 305.556 # Tc = critical temperature of compound (K)\n",
    "Pc = 48.299 # Pc = critical pressure of compound (bar)\n",
    "w = .1064 # w = parameter of compound\n",
    "\n",
    "def EOS(T, P, Tc, Pc, w):\n",
    "    R = 8.314*10**-2 # L*bar/mol/K\n",
    "    m = .480 + 1.574*w\n",
    "    Tr = T/Tc # K\n",
    "    \n",
    "    a = .42748*(R*Tc)**2/Pc*(1 + m*(1 - Tr**0.5))**2\n",
    "    b = .08664*R*Tc/Pc\n",
    "\n",
    "\n",
    "    def SRK(V):\n",
    "        # Define function to be solved\n",
    "        return R*T/(V - b) - a/V/(V + b) - P\n",
    "\n",
    "    # Use fsolve to get one root with intial guess of 2\n",
    "    # Use ideal gas law to get intial guess?\n",
    "    V = fsolve(SRK, 2)\n",
    "    print(V)\n",
    "\n",
    "\n",
    "EOS(500, 3, 305.556, 48.299, .1064)"
   ]
  },
  {
   "cell_type": "code",
   "execution_count": null,
   "metadata": {
    "collapsed": true
   },
   "outputs": [],
   "source": []
  }
 ],
 "metadata": {
  "anaconda-cloud": {},
  "kernelspec": {
   "display_name": "Python [conda root]",
   "language": "python",
   "name": "conda-root-py"
  },
  "language_info": {
   "codemirror_mode": {
    "name": "ipython",
    "version": 3
   },
   "file_extension": ".py",
   "mimetype": "text/x-python",
   "name": "python",
   "nbconvert_exporter": "python",
   "pygments_lexer": "ipython3",
   "version": "3.5.2"
  }
 },
 "nbformat": 4,
 "nbformat_minor": 1
}

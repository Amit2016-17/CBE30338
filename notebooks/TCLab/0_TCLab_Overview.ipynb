{
 "cells": [
  {
   "cell_type": "markdown",
   "metadata": {},
   "source": [
    "# 0 TCLab Overview\n",
    "\n",
    "The following cells in this notebook demonstrate the use of the Temperature Control Lab. Before going further, be sure to complete the steps outlined under *Hardware setup* as described in TCLab [README](https://github.com/jckantor/TCLab/blob/master/README.rst)."
   ]
  },
  {
   "cell_type": "markdown",
   "metadata": {
    "slideshow": {
     "slide_type": "slide"
    }
   },
   "source": [
    "## TCLab Architecture\n",
    "<img src='images/TCLabOverview.png' style=\"float: left;padding-right:30px;\"></img>\n",
    "**_Jupyter notebooks:_**\n",
    "Examples, lessons, and student projects.\n",
    "\n",
    "**_tclab:_**\n",
    "A package to provide high-level access to sensors, heaters, a pseudo-realtime clock. The package includes `TCLab()` providing access to the device, `clock` for synchronizing with a real time clock, `Historian` for data logging and `Plotter` for realtime plotting.\n",
    "\n",
    "**_sketch.ino:_**\n",
    "Firmware for the intrisically safe operation of the Arduino board and shield.\n",
    "\n",
    "**_Arduino:_**\n",
    "Hardware platform for the Temperature Control Laboratory. Compatiable with Arduino Uno and Arduino Leonardo."
   ]
  },
  {
   "cell_type": "markdown",
   "metadata": {
    "slideshow": {
     "slide_type": "skip"
    }
   },
   "source": [
    "## Connecting to the Temperature Control Laboratory\n",
    "\n",
    "### Importing\n",
    "\n",
    "When used for the first time, the `tclab` package is installed with the command line\n",
    "\n",
    "    pip install tclab\n",
    "    \n",
    "Once it has been installed, the package can be imported into Python and an instance created with the Python statements\n",
    "\n",
    "    from tclab import TCLab\n",
    "    a = TCLab()\n",
    "\n",
    "TCLab() attempts to find a device connected to a serial port and returns a connection. An error is generated if no device is found.  The connection should be closed when no longer in use.\n",
    "\n",
    "The following cell demonstrates this process, and uses the tclab `LED()` function to flash the LED on the Temperature Control Lab for a period of 10 seconds at a 100% brightness level. "
   ]
  },
  {
   "cell_type": "code",
   "execution_count": 1,
   "metadata": {},
   "outputs": [
    {
     "name": "stdout",
     "output_type": "stream",
     "text": [
      "Connecting to TCLab\n",
      "TCLab Firmware Version 1.2.1 connected on port /dev/cu.usbmodem1411\n",
      "TCLab disconnected successfully.\n"
     ]
    }
   ],
   "source": [
    "from tclab import TCLab\n",
    "\n",
    "a = TCLab()\n",
    "a.LED(100)\n",
    "a.close()"
   ]
  },
  {
   "cell_type": "markdown",
   "metadata": {},
   "source": [
    "### Using TCLab with Python's `with` statement\n",
    "\n",
    "The Python `with` statement provides a convenient means of setting up and closing a connection to the Temperature Control Laboratory. In particular, the with statement establishes a context where a tclab instance is created, assigned to a variable, and automatically closed upon completion."
   ]
  },
  {
   "cell_type": "code",
   "execution_count": 2,
   "metadata": {
    "slideshow": {
     "slide_type": "skip"
    }
   },
   "outputs": [
    {
     "name": "stdout",
     "output_type": "stream",
     "text": [
      "Connecting to TCLab\n",
      "TCLab Firmware Version 1.2.1 connected on port /dev/cu.usbmodem1411\n",
      "TCLab disconnected successfully.\n"
     ]
    }
   ],
   "source": [
    "from tclab import TCLab\n",
    "\n",
    "with TCLab() as a:\n",
    "    a.LED(100)"
   ]
  },
  {
   "cell_type": "markdown",
   "metadata": {},
   "source": [
    "The `with` statement is likely to be the most common way to connect the Temperature Control Laboratory for most uses."
   ]
  },
  {
   "cell_type": "markdown",
   "metadata": {},
   "source": [
    "## Reading Temperatures\n",
    "\n",
    "Once a tclab instance is created and connected to a device, the temperature sensors on the temperature control lab can be acccessed with the attributes `.T1` and `.T2`.  For example, given an instance `a`, the temperatures are accessed as\n",
    "\n",
    "    T1 = a.T1\n",
    "    T2 = a.T2\n",
    "\n",
    "Note that `a.T1` and `a.T2` are read-only properties. Any attempt to set them to a value will return a Python error."
   ]
  },
  {
   "cell_type": "code",
   "execution_count": 3,
   "metadata": {},
   "outputs": [
    {
     "name": "stdout",
     "output_type": "stream",
     "text": [
      "Connecting to TCLab\n",
      "TCLab Firmware Version 1.2.1 connected on port /dev/cu.usbmodem1411\n",
      "Temperature 1: 27.34 °C\n",
      "Temperature 2: 27.67 °C\n",
      "TCLab disconnected successfully.\n"
     ]
    }
   ],
   "source": [
    "from tclab import TCLab\n",
    "\n",
    "with TCLab() as a:\n",
    "    print(\"Temperature 1: {0:0.2f} °C\".format(a.T1))\n",
    "    print(\"Temperature 2: {0:0.2f} °C\".format(a.T2))"
   ]
  },
  {
   "cell_type": "markdown",
   "metadata": {
    "slideshow": {
     "slide_type": "skip"
    }
   },
   "source": [
    "## Setting Heaters\n",
    "\n",
    "The heaters are controlled by functions`.Q1()` and `.Q2()` of a tclab instance. For example, both heaters can be set to 100% power with the functions\n",
    "\n",
    "    a.Q1(100)\n",
    "    a.Q2(100)\n",
    "\n",
    "The device firmware limits the heaters to a range of 0 to 100%. The current value of attributes may be accessed via\n",
    "\n",
    "    Q1 = a.Q1()\n",
    "    Q2 = a.Q2()\n",
    "    \n",
    "Note that the retrieved values may be different due to the range-limiting enforced by the device firmware."
   ]
  },
  {
   "cell_type": "code",
   "execution_count": 4,
   "metadata": {
    "slideshow": {
     "slide_type": "skip"
    }
   },
   "outputs": [
    {
     "name": "stdout",
     "output_type": "stream",
     "text": [
      "Connecting to TCLab\n",
      "TCLab Firmware Version 1.2.1 connected on port /dev/cu.usbmodem1411\n",
      "\n",
      "Starting Temperature 1: 27.34 °C\n",
      "Starting Temperature 2: 27.34 °C\n",
      "\n",
      "Set Heater 1: 100.0 %\n",
      "Set Heater 2: 100.0 %\n",
      "\n",
      "Heat for 30 seconds\n",
      "\n",
      "Turn Heaters Off\n",
      "\n",
      "Set Heater 1: 0.0 %\n",
      "Set Heater 2: 0.0 %\n",
      "\n",
      "Final Temperature 1: 29.28 °C\n",
      "Final Temperature 2: 27.99 °C\n",
      "TCLab disconnected successfully.\n"
     ]
    }
   ],
   "source": [
    "from tclab import TCLab\n",
    "import time\n",
    "\n",
    "with TCLab() as a:\n",
    "    print(\"\\nStarting Temperature 1: {0:0.2f} °C\".format(a.T1),flush=True)\n",
    "    print(\"Starting Temperature 2: {0:0.2f} °C\".format(a.T2),flush=True)\n",
    "\n",
    "    a.Q1(100)\n",
    "    a.Q2(100)\n",
    "    print(\"\\nSet Heater 1:\", a.Q1(), \"%\",flush=True)\n",
    "    print(\"Set Heater 2:\", a.Q2(), \"%\",flush=True)\n",
    "    \n",
    "    t_heat = 30\n",
    "    print(\"\\nHeat for\", t_heat, \"seconds\")\n",
    "    time.sleep(t_heat)\n",
    "\n",
    "    print(\"\\nTurn Heaters Off\")\n",
    "    a.Q1(0)\n",
    "    a.Q2(0)\n",
    "    print(\"\\nSet Heater 1:\", a.Q1(), \"%\",flush=True)\n",
    "    print(\"Set Heater 2:\", a.Q2(), \"%\",flush=True)\n",
    "    \n",
    "    print(\"\\nFinal Temperature 1: {0:0.2f} °C\".format(a.T1))\n",
    "    print(\"Final Temperature 2: {0:0.2f} °C\".format(a.T2))"
   ]
  },
  {
   "cell_type": "markdown",
   "metadata": {
    "slideshow": {
     "slide_type": "skip"
    }
   },
   "source": [
    "## Synchronizing with Real Time using `clock`\n",
    "\n",
    "For convenience, the tclab module includes a function `clock` for synchronizing calculations with real time.  `clock(tperiod, tstep)` is a python iterator that generates a sequence of iterations over a period of `tperiod` seconds separated by `tstep` seconds. "
   ]
  },
  {
   "cell_type": "code",
   "execution_count": 5,
   "metadata": {},
   "outputs": [
    {
     "name": "stdout",
     "output_type": "stream",
     "text": [
      "0.0 sec.\n",
      "1.0 sec.\n",
      "2.0 sec.\n",
      "2.99 sec.\n",
      "3.99 sec.\n",
      "4.99 sec.\n"
     ]
    }
   ],
   "source": [
    "from tclab import TCLab, clock\n",
    "\n",
    "tperiod = 5\n",
    "tstep = 1\n",
    "for t in clock(tperiod,tstep):\n",
    "    print(t, \"sec.\")"
   ]
  },
  {
   "cell_type": "markdown",
   "metadata": {},
   "source": [
    "There are some considerations to keep in mind when using `clock`. Most important, by its nature Python is not a real-time environment. `clock` makes a best effort to stay in sync with the wall clock, but there can be no guarantees.\n",
    "\n",
    "The default behavior of `clock` is to try to maintain equal time steps. If an event occurs that causes the clock to get of sync with real time then the remaining times will all be delayed by that amount.  This behavior is demonstrated in the following cell."
   ]
  },
  {
   "cell_type": "code",
   "execution_count": 6,
   "metadata": {},
   "outputs": [
    {
     "name": "stdout",
     "output_type": "stream",
     "text": [
      "0.0 sec.\n",
      "2.0 sec.\n",
      "4.0 sec.\n",
      "6.2 sec.\n",
      "8.2 sec.\n",
      "10.2 sec.\n"
     ]
    }
   ],
   "source": [
    "from tclab import TCLab, clock\n",
    "\n",
    "import time\n",
    "\n",
    "tfinal = 12\n",
    "tstep = 2\n",
    "for t in clock(tfinal, tstep):\n",
    "    print(t, \"sec.\")\n",
    "    if 3 < t < 5:\n",
    "        time.sleep(2.2)"
   ]
  },
  {
   "cell_type": "markdown",
   "metadata": {},
   "source": [
    "When the optional flag `strict` is set to True, then `clock` attempts to maintain synchrony with the real time clock. An exception is raised if `clock` fails to keep up with real time which is demonstrated in the following cell where, for a certain interval, a calculation is performed that takes longer than tstep to complete."
   ]
  },
  {
   "cell_type": "code",
   "execution_count": 7,
   "metadata": {},
   "outputs": [
    {
     "name": "stdout",
     "output_type": "stream",
     "text": [
      "0.0 sec.\n",
      "2.0 sec.\n",
      "4.0 sec.\n",
      "Timing error\n"
     ]
    }
   ],
   "source": [
    "from tclab import TCLab, clock\n",
    "\n",
    "import time\n",
    "\n",
    "tfinal = 12\n",
    "tstep = 2\n",
    "try:\n",
    "    for t in clock(tfinal, tstep, strict=True):\n",
    "        print(t, \"sec.\")\n",
    "        if 3 < t < 5:\n",
    "            time.sleep(2.2)\n",
    "except:\n",
    "    print(\"Timing error\")"
   ]
  },
  {
   "cell_type": "markdown",
   "metadata": {},
   "source": [
    "This behavior can be modified using the optional parameter `tol`. Roughly speaking, `tol` is allowable deviation of `clock` from the wall clock."
   ]
  },
  {
   "cell_type": "code",
   "execution_count": 8,
   "metadata": {},
   "outputs": [
    {
     "name": "stdout",
     "output_type": "stream",
     "text": [
      "0.0 sec.\n",
      "2.0 sec.\n",
      "4.0 sec.\n",
      "6.2 sec.\n",
      "8.0 sec.\n",
      "10.0 sec.\n",
      "12.0 sec.\n"
     ]
    }
   ],
   "source": [
    "from tclab import TCLab, clock\n",
    "\n",
    "import time\n",
    "\n",
    "tfinal = 12\n",
    "tstep = 2\n",
    "for t in clock(tfinal, tstep, strict=True, tol=0.25):\n",
    "    print(t, \"sec.\")\n",
    "    if 3 < t < 5:\n",
    "        time.sleep(2.2)"
   ]
  },
  {
   "cell_type": "markdown",
   "metadata": {},
   "source": [
    "### Using `clock` with TCLab"
   ]
  },
  {
   "cell_type": "code",
   "execution_count": 9,
   "metadata": {
    "scrolled": false
   },
   "outputs": [
    {
     "name": "stdout",
     "output_type": "stream",
     "text": [
      "Connecting to TCLab\n",
      "TCLab Firmware Version 1.2.1 connected on port /dev/cu.usbmodem1411\n",
      "\n",
      "Set Heater 1 to 100.000000 %\n",
      "Set Heater 2 to 100.000000 %\n",
      "     0.0 sec:   T1 = 29.6 °C    T2 = 28.0 °C\n",
      "     2.0 sec:   T1 = 29.3 °C    T2 = 28.0 °C\n",
      "     4.0 sec:   T1 = 29.3 °C    T2 = 28.6 °C\n",
      "     6.0 sec:   T1 = 29.3 °C    T2 = 28.0 °C\n",
      "     8.0 sec:   T1 = 29.3 °C    T2 = 28.0 °C\n",
      "    10.0 sec:   T1 = 29.6 °C    T2 = 28.6 °C\n",
      "    12.0 sec:   T1 = 29.6 °C    T2 = 28.0 °C\n",
      "    14.0 sec:   T1 = 29.6 °C    T2 = 28.0 °C\n",
      "    16.0 sec:   T1 = 29.6 °C    T2 = 28.6 °C\n",
      "    18.0 sec:   T1 = 29.9 °C    T2 = 29.0 °C\n",
      "    20.0 sec:   T1 = 29.9 °C    T2 = 28.0 °C\n",
      "TCLab disconnected successfully.\n"
     ]
    }
   ],
   "source": [
    "from tclab import TCLab, clock\n",
    "\n",
    "tperiod = 20\n",
    "\n",
    "# connect to the temperature control lab\n",
    "with TCLab() as a:\n",
    "    # turn heaters on\n",
    "    a.Q1(100)\n",
    "    a.Q2(100)\n",
    "    print(\"\\nSet Heater 1 to {0:f} %\".format(a.Q1()))\n",
    "    print(\"Set Heater 2 to {0:f} %\".format(a.Q2()))\n",
    "\n",
    "    # report temperatures for the next tperiod seconds\n",
    "    sfmt = \"   {0:5.1f} sec:   T1 = {1:0.1f} °C    T2 = {2:0.1f} °C\"\n",
    "    for t in clock(tperiod, 2):\n",
    "        print(sfmt.format(t, a.T1, a.T2), flush=True)\n",
    "        "
   ]
  },
  {
   "cell_type": "markdown",
   "metadata": {},
   "source": [
    "## The TCLab `Historian`\n",
    "\n",
    "### Basic logging\n",
    "\n",
    "The `Historian` class provides data logging. Given an instance of a TCLab object, an Historian is created with the command\n",
    "\n",
    "    h = Historian(a.sources)\n",
    "    \n",
    "The historian initializes a data log. The data log is updated by issuing a command\n",
    "\n",
    "    h.update(t)\n",
    "    \n",
    "Where `t` is the current clock time. If `t` is omitted, the historian will calculate its own time."
   ]
  },
  {
   "cell_type": "code",
   "execution_count": 10,
   "metadata": {
    "scrolled": false
   },
   "outputs": [
    {
     "name": "stdout",
     "output_type": "stream",
     "text": [
      "Connecting to TCLab\n",
      "TCLab Firmware Version 1.2.1 connected on port /dev/cu.usbmodem1411\n",
      "Time: 0.0 seconds\n",
      "Time: 1.0 seconds\n",
      "Time: 2.0 seconds\n",
      "Time: 3.0 seconds\n",
      "Time: 4.0 seconds\n",
      "Time: 5.0 seconds\n",
      "Time: 6.0 seconds\n",
      "Time: 7.0 seconds\n",
      "Time: 8.0 seconds\n",
      "Time: 9.0 seconds\n",
      "Time: 10.0 seconds\n",
      "Time: 11.0 seconds\n",
      "Time: 12.0 seconds\n",
      "Time: 13.0 seconds\n",
      "Time: 14.0 seconds\n",
      "Time: 15.0 seconds\n",
      "Time: 16.0 seconds\n",
      "Time: 17.0 seconds\n",
      "Time: 18.0 seconds\n",
      "Time: 19.0 seconds\n",
      "Time: 20.0 seconds\n",
      "TCLab disconnected successfully.\n"
     ]
    }
   ],
   "source": [
    "from tclab import TCLab, clock, Historian\n",
    "\n",
    "with TCLab() as a:\n",
    "    h = Historian(a.sources)\n",
    "    for t in clock(20, strict = True):\n",
    "        a.Q1(100 if t <= 10 else 0)\n",
    "        print(\"Time:\", t, 'seconds')\n",
    "        h.update(t)        "
   ]
  },
  {
   "cell_type": "markdown",
   "metadata": {},
   "source": [
    "### Accessing the Data Log from the Historian\n",
    "\n",
    "`Historian` maintains a data log that is updated on each encounter of the `.update()` function. Individual time series are available as elements of `Historian.fields`:\n",
    "\n",
    "    t, T1, T2, Q1, Q2 = h.fields \n",
    "\n",
    "For example, here's how to plot the history of temperature T1 versus time from the example above."
   ]
  },
  {
   "cell_type": "code",
   "execution_count": 11,
   "metadata": {
    "scrolled": false
   },
   "outputs": [
    {
     "data": {
      "image/png": "[encoded data removed]",
      "text/plain": [
       "<matplotlib.figure.Figure at 0x10337a668>"
      ]
     },
     "metadata": {},
     "output_type": "display_data"
    }
   ],
   "source": [
    "%matplotlib inline\n",
    "import matplotlib.pyplot as plt\n",
    "\n",
    "t, T1, T2, Q1, Q2 = h.fields \n",
    "plt.plot(t, T1)\n",
    "plt.xlabel('Time / seconds')\n",
    "plt.ylabel('Temperature / °C')\n",
    "plt.grid()"
   ]
  },
  {
   "cell_type": "markdown",
   "metadata": {},
   "source": [
    "The entire data history is available from the historian as the attribute `.log`. Here we show the first three rows from the log:"
   ]
  },
  {
   "cell_type": "code",
   "execution_count": 12,
   "metadata": {},
   "outputs": [
    {
     "data": {
      "text/plain": [
       "[(0, 30.57, 28.31, 0.0, 0.0),\n",
       " (0.0, 30.57, 28.31, 100.0, 0.0),\n",
       " (1.0, 30.57, 28.31, 100.0, 0.0)]"
      ]
     },
     "execution_count": 12,
     "metadata": {},
     "output_type": "execute_result"
    }
   ],
   "source": [
    "h.log[:3]"
   ]
  },
  {
   "cell_type": "markdown",
   "metadata": {},
   "source": [
    "### Accessing log data via Pandas\n",
    "\n",
    "Here's an example of how the log can be converted to a Pandas dataframe."
   ]
  },
  {
   "cell_type": "code",
   "execution_count": 13,
   "metadata": {},
   "outputs": [
    {
     "data": {
      "text/html": [
       "<div>\n",
       "<style>\n",
       "    .dataframe thead tr:only-child th {\n",
       "        text-align: right;\n",
       "    }\n",
       "\n",
       "    .dataframe thead th {\n",
       "        text-align: left;\n",
       "    }\n",
       "\n",
       "    .dataframe tbody tr th {\n",
       "        vertical-align: top;\n",
       "    }\n",
       "</style>\n",
       "<table border=\"1\" class=\"dataframe\">\n",
       "  <thead>\n",
       "    <tr style=\"text-align: right;\">\n",
       "      <th></th>\n",
       "      <th>T1</th>\n",
       "      <th>T2</th>\n",
       "      <th>Q1</th>\n",
       "      <th>Q2</th>\n",
       "    </tr>\n",
       "    <tr>\n",
       "      <th>Time</th>\n",
       "      <th></th>\n",
       "      <th></th>\n",
       "      <th></th>\n",
       "      <th></th>\n",
       "    </tr>\n",
       "  </thead>\n",
       "  <tbody>\n",
       "    <tr>\n",
       "      <th>0.0</th>\n",
       "      <td>30.57</td>\n",
       "      <td>28.31</td>\n",
       "      <td>0.0</td>\n",
       "      <td>0.0</td>\n",
       "    </tr>\n",
       "    <tr>\n",
       "      <th>0.0</th>\n",
       "      <td>30.57</td>\n",
       "      <td>28.31</td>\n",
       "      <td>100.0</td>\n",
       "      <td>0.0</td>\n",
       "    </tr>\n",
       "    <tr>\n",
       "      <th>1.0</th>\n",
       "      <td>30.57</td>\n",
       "      <td>28.31</td>\n",
       "      <td>100.0</td>\n",
       "      <td>0.0</td>\n",
       "    </tr>\n",
       "    <tr>\n",
       "      <th>2.0</th>\n",
       "      <td>30.57</td>\n",
       "      <td>28.31</td>\n",
       "      <td>100.0</td>\n",
       "      <td>0.0</td>\n",
       "    </tr>\n",
       "    <tr>\n",
       "      <th>3.0</th>\n",
       "      <td>30.57</td>\n",
       "      <td>28.31</td>\n",
       "      <td>100.0</td>\n",
       "      <td>0.0</td>\n",
       "    </tr>\n",
       "  </tbody>\n",
       "</table>\n",
       "</div>"
      ],
      "text/plain": [
       "         T1     T2     Q1   Q2\n",
       "Time                          \n",
       "0.0   30.57  28.31    0.0  0.0\n",
       "0.0   30.57  28.31  100.0  0.0\n",
       "1.0   30.57  28.31  100.0  0.0\n",
       "2.0   30.57  28.31  100.0  0.0\n",
       "3.0   30.57  28.31  100.0  0.0"
      ]
     },
     "execution_count": 13,
     "metadata": {},
     "output_type": "execute_result"
    }
   ],
   "source": [
    "%matplotlib inline\n",
    "import matplotlib.pyplot as plt\n",
    "import pandas as pd\n",
    "\n",
    "df = pd.DataFrame.from_records(h.log, columns=h.columns, index='Time')\n",
    "df.head()"
   ]
  },
  {
   "cell_type": "markdown",
   "metadata": {},
   "source": [
    "The following cells provide examples of plots that can be constructed once the data log has been converted to a pandas dataframe."
   ]
  },
  {
   "cell_type": "code",
   "execution_count": 14,
   "metadata": {},
   "outputs": [
    {
     "data": {
      "text/plain": [
       "<matplotlib.axes._subplots.AxesSubplot at 0x111661908>"
      ]
     },
     "execution_count": 14,
     "metadata": {},
     "output_type": "execute_result"
    },
    {
     "data": {
      "image/png": "[encoded data removed]",
      "text/plain": [
       "<matplotlib.figure.Figure at 0x10cb8d048>"
      ]
     },
     "metadata": {},
     "output_type": "display_data"
    }
   ],
   "source": [
    "df.plot()"
   ]
  },
  {
   "cell_type": "code",
   "execution_count": 15,
   "metadata": {},
   "outputs": [
    {
     "data": {
      "text/plain": [
       "<matplotlib.axes._subplots.AxesSubplot at 0x111742e10>"
      ]
     },
     "execution_count": 15,
     "metadata": {},
     "output_type": "execute_result"
    },
    {
     "data": {
      "image/png": "[encoded data removed]",
      "text/plain": [
       "<matplotlib.figure.Figure at 0x11170eeb8>"
      ]
     },
     "metadata": {},
     "output_type": "display_data"
    }
   ],
   "source": [
    "df[['T1','T2']].plot(grid=True)"
   ]
  },
  {
   "cell_type": "markdown",
   "metadata": {},
   "source": [
    "### Real time plots with Plotter\n",
    "When operating in a Jupyter Notebook, a `Plotter` can be used together with the `Historian`.  \n",
    "\n",
    "    h = Historian(a)\n",
    "    p = Plotter(h, tfinal)\n",
    "    \n",
    "where `a` is a `TCLab` instance as before and the optional parameter `tfinal` provides an initial scaling of the time axes. Each call to `p.update()` will automatically update both the historian and the plot."
   ]
  },
  {
   "cell_type": "code",
   "execution_count": 16,
   "metadata": {
    "scrolled": false
   },
   "outputs": [
    {
     "data": {
      "image/png": "[encoded data removed]",
      "text/plain": [
       "<matplotlib.figure.Figure at 0x105abbe48>"
      ]
     },
     "metadata": {},
     "output_type": "display_data"
    },
    {
     "name": "stdout",
     "output_type": "stream",
     "text": [
      "TCLab disconnected successfully.\n"
     ]
    },
    {
     "data": {
      "image/png": "[encoded data removed]",
      "text/plain": [
       "<matplotlib.figure.Figure at 0x105abbe48>"
      ]
     },
     "metadata": {},
     "output_type": "display_data"
    }
   ],
   "source": [
    "%matplotlib inline\n",
    "from tclab import TCLab, clock, Historian, Plotter\n",
    "\n",
    "with TCLab() as a:\n",
    "    h = Historian(a.sources)\n",
    "    p = Plotter(h)\n",
    "    for t in clock(200, strict=True):\n",
    "        a.Q1(100 if t <= 100 else 0)\n",
    "        p.update(t)"
   ]
  },
  {
   "cell_type": "code",
   "execution_count": null,
   "metadata": {},
   "outputs": [],
   "source": []
  }
 ],
 "metadata": {
  "kernelspec": {
   "display_name": "Python 3",
   "language": "python",
   "name": "python3"
  },
  "language_info": {
   "codemirror_mode": {
    "name": "ipython",
    "version": 3
   },
   "file_extension": ".py",
   "mimetype": "text/x-python",
   "name": "python",
   "nbconvert_exporter": "python",
   "pygments_lexer": "ipython3",
   "version": "3.6.3"
  }
 },
 "nbformat": 4,
 "nbformat_minor": 2
}

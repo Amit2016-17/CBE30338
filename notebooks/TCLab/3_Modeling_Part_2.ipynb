{
 "cells": [
  {
   "cell_type": "markdown",
   "metadata": {},
   "source": [
    "# Modeling the Temperature Control Laboratory: Part 2"
   ]
  },
  {
   "cell_type": "markdown",
   "metadata": {},
   "source": [
    "## Interacting Heaters\n",
    "\n",
    "\\begin{align}\n",
    "C_p\\frac{dT_1}{dt} & = U_a(T_{amb} - T_1) + U_b(T_2 - T_1) + P_1u_1\\\\\n",
    "C_p\\frac{dT_2}{dt} & = U_a(T_{amb} - T_2) + U_b(T_1 - T_2) + P_2u_2\n",
    "\\end{align}"
   ]
  },
  {
   "cell_type": "markdown",
   "metadata": {},
   "source": [
    "\\begin{align}\n",
    "\\frac{dT_1}{dt} & = \\frac{U_a}{C_p}(T_{amb} - T_1) + \\frac{U_b}{C_p}(T_2 - T_1) + \\frac{P_1}{C_p}u_1\\\\\n",
    "\\frac{dT_2}{dt} & = \\frac{U_a}{C_p}(T_{amb} - T_2) + \\frac{U_b}{C_p}(T_1 - T_2) + \\frac{P_2}{C_p}u_2\n",
    "\\end{align}"
   ]
  },
  {
   "cell_type": "markdown",
   "metadata": {},
   "source": [
    "Deviation Variables\n",
    "\n",
    "\\begin{align}\n",
    "T_1' & = T_1 - T_{amb} \\\\\n",
    "T_2' & = T_2 - T_{amb}\n",
    "\\end{align}"
   ]
  },
  {
   "cell_type": "markdown",
   "metadata": {},
   "source": [
    "\\begin{align}\n",
    "\\frac{dT_1'}{dt} & = -\\frac{U_a+U_b}{C_p}T_1' + \\frac{U_b}{C_p}T_2' + \\frac{P_1}{C_p}u_1\\\\\n",
    "\\frac{dT_2'}{dt} & = -\\frac{U_a+U_b}{C_p}T_2' + \\frac{U_b}{C_p}T_1' + \\frac{P_2}{C_p}u_2\n",
    "\\end{align}"
   ]
  },
  {
   "cell_type": "markdown",
   "metadata": {},
   "source": [
    "Steady State\n",
    "\n",
    "\\begin{align}\n",
    "0 & = -(U_a+U_b)\\bar{T}_{1}' + U_b\\bar{T}_{2}' + P_1\\bar{u}_{1}\\\\\n",
    "0 & = -(U_a+U_b)\\bar{T}_{2}' + U_b\\bar{T}_{1}' + P_2\\bar{u}_{1}\n",
    "\\end{align}\n",
    "\n",
    "\n",
    "\\begin{align} \n",
    "\\left[\\begin{array}{cc}(U_a+U_b) & -U_b \\\\ -U_b & (U_a+U_b) \\end{array}\\right]\n",
    "\\left[\\begin{array}{c}\\bar{T}_1' \\\\ \\bar{T}_2'\\end{array}\\right] & = \n",
    "\\left[\\begin{array}{c} P_1u_1 \\\\ P_2u_2\\end{array}\\right]\n",
    "\\end{align}"
   ]
  },
  {
   "cell_type": "code",
   "execution_count": 1,
   "metadata": {},
   "outputs": [
    {
     "data": {
      "text/plain": [
       "{T1: -(P1*u1*(Ua + Ub) + P2*Ub*u2)/(Ub**2 - (Ua + Ub)**2),\n",
       " T2: -(P1*Ub*u1 + P2*u2*(Ua + Ub))/(Ub**2 - (Ua + Ub)**2)}"
      ]
     },
     "execution_count": 1,
     "metadata": {},
     "output_type": "execute_result"
    }
   ],
   "source": [
    "from sympy import *\n",
    "\n",
    "T1, T2 = symbols('T1 T2')\n",
    "Ua, Ub = symbols('Ua Ub')\n",
    "u1, u2 = symbols('u1 u2')\n",
    "P1, P2 = symbols('P1 P2')\n",
    "\n",
    "solns = solve([\n",
    "    Eq((Ua + Ub)*T1 - Ub*T2, P1*u1),\n",
    "    Eq(-Ub*T1 + (Ua + Ub)*T2, P2*u2)\n",
    "],['T1','T2'])\n",
    "\n",
    "solns"
   ]
  },
  {
   "cell_type": "code",
   "execution_count": 2,
   "metadata": {},
   "outputs": [
    {
     "data": {
      "text/plain": [
       "{Ua: 0.0444444444444444, Ub: 0.0177777777777778}"
      ]
     },
     "execution_count": 2,
     "metadata": {},
     "output_type": "execute_result"
    }
   ],
   "source": [
    "P1 = 4\n",
    "u1 = 0.5\n",
    "P2 = 0\n",
    "T1 = 35\n",
    "T2 = 10\n",
    "\n",
    "solns = solve([\n",
    "    Eq((Ua + Ub)*T1 - Ub*T2, P1*u1),\n",
    "    Eq(-Ub*T1 + (Ua + Ub)*T2, P2*u2)\n",
    "],['Ua','Ub'])\n",
    "\n",
    "solns"
   ]
  },
  {
   "cell_type": "markdown",
   "metadata": {},
   "source": [
    "\\begin{align}\n",
    "\\left[\\begin{array}{c}\\frac{dT_1'}{dt} \\\\ \\frac{dT_2'}{dt}\\end{array}\\right] & = \n",
    "\\left[\\begin{array}{cc}-\\frac{U_a+U_b}{C_p} & \\frac{U_b}{C_p} \\\\ \\frac{U_b}{C_p} & -\\frac{U_a+U_b}{C_p} \\end{array}\\right]\n",
    "\\left[\\begin{array}{c}T_1' \\\\ T_2'\\end{array}\\right] +\n",
    "\\left[\\begin{array}{cc}\\frac{P_1}{C_p} & 0 \\\\ 0 & \\frac{P_2}{C_p} \\end{array}\\right]\n",
    "\\left[\\begin{array}{c}u_1 \\\\ u_2\\end{array}\\right]\n",
    "\\end{align}"
   ]
  },
  {
   "cell_type": "code",
   "execution_count": 3,
   "metadata": {},
   "outputs": [
    {
     "data": {
      "image/png": "[encoded data removed]",
      "text/plain": [
       "<matplotlib.figure.Figure at 0x1083b4e10>"
      ]
     },
     "metadata": {},
     "output_type": "display_data"
    }
   ],
   "source": [
    "%matplotlib inline\n",
    "import numpy as np                  # basic package for numerical calculations\n",
    "import matplotlib.pyplot as plt     # plotting package\n",
    "from scipy.integrate import odeint\n",
    "\n",
    "# parameter values and units\n",
    "P1 = 4                 # watts\n",
    "P2 = 2                 # watts\n",
    "Ua = 0.044             # watts/deg C\n",
    "Ub = 0.018             # watts/deg C\n",
    "Cp = 6                 # joules/deg C\n",
    "u1 = 0.5               # steady state value of u1 (fraction of total power)\n",
    "u2 = 0.0               # steady state value of u2 (fraction of total power)\n",
    "T_ambient = 21         # ambient temperature of the surroundings\n",
    "\n",
    "def deriv(T,t):\n",
    "    T1, T2 = T\n",
    "    dT1 = -(Ua + Ub)*T1/Cp + Ub*T2/Cp + P1*u1/Cp\n",
    "    dT2 = Ub*T1/Cp - (Ua + Ub)*T2/Cp + P2*u2/Cp\n",
    "    return [dT1, dT2]\n",
    "\n",
    "# compute the transient solution\n",
    "t = np.linspace(0,800)\n",
    "T = odeint(deriv, [0,0], t)\n",
    "\n",
    "# plot\n",
    "plt.plot(t, T + T_ambient)\n",
    "plt.xlabel('Time / seconds')\n",
    "plt.ylabel('Temperature / °C')\n",
    "plt.grid()"
   ]
  },
  {
   "cell_type": "code",
   "execution_count": 4,
   "metadata": {},
   "outputs": [
    {
     "ename": "NameError",
     "evalue": "name 'interact' is not defined",
     "output_type": "error",
     "traceback": [
      "\u001b[0;31m---------------------------------------------------------------------------\u001b[0m",
      "\u001b[0;31mNameError\u001b[0m                                 Traceback (most recent call last)",
      "\u001b[0;32m<ipython-input-4-fea45bbf2da5>\u001b[0m in \u001b[0;36m<module>\u001b[0;34m()\u001b[0m\n\u001b[1;32m     39\u001b[0m \u001b[0mCp\u001b[0m \u001b[0;34m=\u001b[0m \u001b[0;36m7\u001b[0m                 \u001b[0;31m# joules/deg C\u001b[0m\u001b[0;34m\u001b[0m\u001b[0m\n\u001b[1;32m     40\u001b[0m \u001b[0;34m\u001b[0m\u001b[0m\n\u001b[0;32m---> 41\u001b[0;31m \u001b[0minteract\u001b[0m\u001b[0;34m(\u001b[0m\u001b[0mcompare\u001b[0m\u001b[0;34m,\u001b[0m \u001b[0mUa\u001b[0m\u001b[0;34m=\u001b[0m\u001b[0;34m(\u001b[0m\u001b[0;36m0\u001b[0m\u001b[0;34m,\u001b[0m\u001b[0;36m0.06\u001b[0m\u001b[0;34m,\u001b[0m\u001b[0;36m0.002\u001b[0m\u001b[0;34m)\u001b[0m\u001b[0;34m,\u001b[0m \u001b[0mUb\u001b[0m\u001b[0;34m=\u001b[0m\u001b[0;34m(\u001b[0m\u001b[0;36m0\u001b[0m\u001b[0;34m,\u001b[0m\u001b[0;36m0.06\u001b[0m\u001b[0;34m,\u001b[0m\u001b[0;36m0.002\u001b[0m\u001b[0;34m)\u001b[0m\u001b[0;34m,\u001b[0m \u001b[0mCp\u001b[0m\u001b[0;34m=\u001b[0m\u001b[0;34m(\u001b[0m\u001b[0;36m3\u001b[0m\u001b[0;34m,\u001b[0m\u001b[0;36m11\u001b[0m\u001b[0;34m,\u001b[0m\u001b[0;36m0.1\u001b[0m\u001b[0;34m)\u001b[0m\u001b[0;34m)\u001b[0m\u001b[0;34m\u001b[0m\u001b[0m\n\u001b[0m",
      "\u001b[0;31mNameError\u001b[0m: name 'interact' is not defined"
     ]
    }
   ],
   "source": [
    "%matplotlib inline\n",
    "import pandas as pd\n",
    "import matplotlib.pyplot as plt\n",
    "from scipy.integrate import odeint\n",
    "\n",
    "data = pd.read_csv('Step_Test_Data.csv').set_index('Time')[1:]\n",
    "t = data.index\n",
    "T1 = data['T1'].values\n",
    "T2 = data['T2'].values\n",
    "\n",
    "# known parameter values\n",
    "P1 = 4\n",
    "u1 = 0.5   # steady state value of u1 (fraction of total power)\n",
    "P2 = 2\n",
    "u2 = 0.0\n",
    "T_ambient = 21\n",
    "\n",
    "def compare(Ua, Ub, Cp):\n",
    "\n",
    "    def deriv(T,t):\n",
    "        T1, T2 = T\n",
    "        dT1 = -(Ua + Ub)*T1/Cp + Ub*T2/Cp + P1*u1/Cp\n",
    "        dT2 = Ub*T1/Cp - (Ua + Ub)*T2/Cp + P2*u2/Cp\n",
    "        return [dT1, dT2]\n",
    "\n",
    "    T = odeint(deriv, [0,0], t)\n",
    "\n",
    "    # plot\n",
    "    plt.plot(t, T + T_ambient, t, T1, t, T2)\n",
    "    plt.xlabel('Time / seconds')\n",
    "    plt.ylabel('Temperature / °C')\n",
    "    plt.grid()\n",
    "\n",
    "# parameter values and units\n",
    "P1 = 4                 # watts\n",
    "P2 = 2                 # watts\n",
    "Ua = 0.044             # watts/deg C\n",
    "Ub = 0.018             # watts/deg C\n",
    "Cp = 7                 # joules/deg C\n",
    "\n",
    "interact(compare, Ua=(0,0.06,0.002), Ub=(0,0.06,0.002), Cp=(3,11,0.1))"
   ]
  },
  {
   "cell_type": "code",
   "execution_count": null,
   "metadata": {},
   "outputs": [],
   "source": []
  }
 ],
 "metadata": {
  "kernelspec": {
   "display_name": "Python 3",
   "language": "python",
   "name": "python3"
  },
  "language_info": {
   "codemirror_mode": {
    "name": "ipython",
    "version": 3
   },
   "file_extension": ".py",
   "mimetype": "text/x-python",
   "name": "python",
   "nbconvert_exporter": "python",
   "pygments_lexer": "ipython3",
   "version": "3.6.3"
  }
 },
 "nbformat": 4,
 "nbformat_minor": 2
}

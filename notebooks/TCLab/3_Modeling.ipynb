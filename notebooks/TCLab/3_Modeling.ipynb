{
 "cells": [
  {
   "cell_type": "markdown",
   "metadata": {},
   "source": [
    "# Modeling the Temperature Control Laboratory"
   ]
  },
  {
   "cell_type": "markdown",
   "metadata": {},
   "source": [
    "### Single Heater/Sensor\n",
    "\n",
    "We'll be begin by writing a model for one of the heater/sensor pairs while, for the moment, neglect the other pair. For pair one we write\n",
    "\n",
    "\\begin{align}\n",
    "C_p\\frac{dT_1}{dt} & = U_a(T_{amb} - T_1) + P_1u_1 \\\\\n",
    "\\end{align}\n",
    "\n",
    "where $T_1$ is the combined temperature of heater/sensor one, $T_{amb}$ is the ambient temperature of the surroundings, and $u_1$ is a fraction of the maximum heater power $P_1$ that is being applied. The key parameters are the total heat capacity $C_p$ and the overall heat transfer coefficient with surroundings $U_a@."
   ]
  },
  {
   "cell_type": "markdown",
   "metadata": {},
   "source": [
    "### Steady State\n",
    "\n",
    "We'll begin our analysis by investigating the steady-state response of this system to a steady-state input $u_{1,SS}$.  At steady-state all variables are constant so $\\frac{dT_1}{dt} = 0$, which leaves \n",
    "\n",
    "\\begin{align}\n",
    "0 = U_a(T_{amb} - T_{1,SS}) + P_1u_{1,SS}\n",
    "\\end{align}\n",
    "\n",
    "Solving for $T_{1,SS}$\n",
    "\n",
    "$$T_{1,SS} = T_{amb} + \\frac{P_1}{U_a}u_{1,SS}$$\n",
    "\n",
    "**Exercise:** Examine the step response of the temperature control laboratory. Estimate the value $\\frac{P_1}{U_a}$."
   ]
  },
  {
   "cell_type": "markdown",
   "metadata": {},
   "source": [
    "### Deviation Variables\n",
    "\n",
    "In examining the response of the temperature control laboratory, we see the temperature is a deviation from ambient temperature, i.e.,\n",
    "\n",
    "\\begin{align}\n",
    "T_1' = T_1 - T_{amb}\n",
    "\\end{align}\n",
    "\n",
    "For process control purposes, we are often interested in the deviation of a process variable from a nominal value. In this case the choice of deviation variable is clearly obvious which is designated $T_1'$. From the steady state equation we see\n",
    "\n",
    "\\begin{align}\n",
    "T_{1,SS}' & = T_{1,SS} - T_{amb} \\\\\n",
    "T_{1,SS}' & = \\frac{P_1}{U_a}u_{1,SS}\n",
    "\\end{align}\n",
    "\n",
    "which is a somewhat simpler expression.\n",
    "\n",
    "Let's see what happens to the transient model. Substituting $T_1 = T_{amb} + T_1'$ into the differential equation gives\n",
    "\n",
    "\\begin{align}\n",
    "C_p\\frac{d(T_{amb}+T_1')}{dt} & = U_a(T_{amb} - (T_{amb} + T_1')) + P_1u_1\n",
    "\\end{align}\n",
    "\n",
    "Expanding these terms\n",
    "\n",
    "\\begin{align}\n",
    "C_p\\underbrace{\\frac{dT_{amb}}{dt}}_{=0} + C_p\\frac{dT_1'}{dt} & = U_a(\\underbrace{T_{amb} - T_{amb}}_{=0} - T_1') + P_1u_1\n",
    "\\end{align}\n",
    "\n",
    "we see several terms drop out. The derivative of any constant is zero, and see a cancelation on the right hand side, leaving\n",
    "\n",
    "\\begin{align}\n",
    "C_p\\frac{dT_1'}{dt} & = - U_aT_1' + P_1u_1\n",
    "\\end{align}\n",
    "\n",
    "One last manipulation will bring this model into a commonly used standard form\n",
    "\n",
    "\\begin{align}\n",
    "\\frac{dT_1'}{dt} & = - \\frac{U_a}{C_p}T_1' + \\frac{P_1}{C_p}u_1\n",
    "\\end{align}\n",
    "\n",
    "Now let's recall some facts about first order differential equations."
   ]
  },
  {
   "cell_type": "markdown",
   "metadata": {},
   "source": [
    "### First Order Linear Differential Equations\n",
    "\n",
    "A standard form for a single differential equation is\n",
    "\n",
    "\\begin{align}\n",
    "\\frac{dx}{dt} & = ax + bu\n",
    "\\end{align}\n",
    "\n",
    "where $a$ and $b$ are model constants, $x$ is the dependent variable, and $u$ is an exogeneous input.  For a constant value $u_{SS}$, the steady state response is given by\n",
    "\n",
    "\\begin{align}\n",
    "x_{ss} & = -\\frac{b}{a} u_{SS}\n",
    "\\end{align}\n",
    "\n",
    "The transient response is given by\n",
    "\n",
    "\\begin{align}\n",
    "x(t) & = x_{SS} + \\left[x(t_0) - x_{SS}\\right] e^{a(t-t_0)}\n",
    "\\end{align}\n",
    "\n",
    "We now apply this textbook solution to the model equation. Comparing equations, we make the following identifications\n",
    "\n",
    "\\begin{align}\n",
    "T_1' \\sim x \\\\\n",
    "-\\frac{U_a}{C_p} \\sim a \\\\\n",
    "\\frac{P_1}{C_p} \\sim b \\\\\n",
    "u_1 \\sim u\n",
    "\\end{align}\n",
    "\n",
    "Substituting these terms into the standard solution we confirm the steady-state solution found above, and provides a solution for the transient response of the deviation variables.\n",
    "\n",
    "\\begin{align}\n",
    "x_{ss} = -\\frac{b}{a} u_{SS} \\qquad & \\Rightarrow \\qquad T_{1,SS}' = \\frac{P_1}{U_a}u_{1,SS} \\\\\n",
    "x(t) = x_{SS} + \\left[x(t_0) - x_{SS}\\right] e^{a(t-t_0)} \\qquad & \\Rightarrow \\qquad\n",
    "T_1' = \\frac{P_1}{U_a}u_{1,SS} + \\left[T_1'(t_0) - \\frac{P_1}{U_a}u_{1,SS}\\right]e^{-\\frac{U_a}{C_p}(t-t_0)}\n",
    "\\end{align}"
   ]
  },
  {
   "cell_type": "markdown",
   "metadata": {},
   "source": [
    "### Plotting the Analytical Solution\n",
    "\n",
    "The following cell demonstrates use of these results to plot the transient response for a particular choice of model parameters."
   ]
  },
  {
   "cell_type": "code",
   "execution_count": 10,
   "metadata": {},
   "outputs": [
    {
     "data": {
      "image/png": "[encoded data removed]",
      "text/plain": [
       "<matplotlib.figure.Figure at 0x10fa41b00>"
      ]
     },
     "metadata": {},
     "output_type": "display_data"
    }
   ],
   "source": [
    "%matplotlib inline\n",
    "import numpy as np                  # basic package for numerical calculations\n",
    "import matplotlib.pyplot as plt     # plotting package\n",
    "\n",
    "# parameter values and units\n",
    "P1 = 4                 # watts\n",
    "Ua = 0.06              # watts/deg C\n",
    "Cp = 6                 # joules/deg C\n",
    "u1_steadystate = 0.5   # steady state value of u1 (fraction of total power)\n",
    "T_ambient = 21         # ambient temperature\n",
    "\n",
    "# initial conditions\n",
    "T1_deviation_initial = 0\n",
    "\n",
    "# steady state solution\n",
    "T1_deviation_steadystate = P1*u1_steadystate/Ua\n",
    "\n",
    "# compute the transient solution\n",
    "t = np.linspace(0,800)\n",
    "T1_deviation = T1_deviation_steadystate \\\n",
    "     + (T1_deviation_initial - T1_deviation_steadystate)*np.exp(-Ua*t/Cp)\n",
    "\n",
    "# plot\n",
    "plt.plot(t, T1_deviation + T_ambient)\n",
    "plt.xlabel('Time / seconds')\n",
    "plt.ylabel('Temperature / °C')\n",
    "plt.grid()"
   ]
  },
  {
   "cell_type": "markdown",
   "metadata": {},
   "source": [
    "### Does this solution make sense?\n",
    "\n",
    "The parameter values in the above plot were chosen to (at least roughly) reproduce the measured response of temperature control laboratory. The value used for the heat capacity was $C_p = 6$ watts/degC. Is this reasonable?\n",
    "\n",
    "The [specific heat capacity for solids](https://en.wikipedia.org/wiki/Heat_capacity) is typically has values in the range of 0.2 to 0.9 watts/degC/gram. Using a value of 0.9 that is typical of aluminum and plastics used for electronic products, the estimated mass of the heater/sensor pair would be\n",
    "\n",
    "$$ m \\approx \\frac{6 \\mbox{ watts/degC}}{0.9 \\mbox{ watts/degC/grams}} \\approx 7 \\mbox{ grams}$$\n",
    "\n",
    "Does that make sense?  Why or why not?"
   ]
  },
  {
   "cell_type": "markdown",
   "metadata": {},
   "source": [
    "## Multivariable Heater/Sensor\n",
    "\n",
    "\\begin{align}\n",
    "\\rho C^H_p\\frac{dT^H_1}{dt} & = U_1(T_{env} - T^H_1)  + U_4(T^H_2 - T^H_1) + \\alpha Q_1\\\\\n",
    "\\rho C^S_p\\frac{dT^S_1}{dt} & = U_2(T^H_1 - T^S_1) + U_3(T_{env} - T^S_1)\\\\\n",
    "\\rho C^H_p\\frac{dT^H_2}{dt} & = U_1(T_{env} - T^H_2) + U_4(T^H_1 - T^H_2) + \\alpha Q_2  \\\\\n",
    "\\rho C^S_p\\frac{dT^S_2}{dt} & = U_2(T^H_2 - T^S_2) + U_3(T_{env} - T^S_2)\n",
    "\\end{align}"
   ]
  },
  {
   "cell_type": "code",
   "execution_count": null,
   "metadata": {},
   "outputs": [],
   "source": []
  },
  {
   "cell_type": "code",
   "execution_count": null,
   "metadata": {},
   "outputs": [],
   "source": []
  },
  {
   "cell_type": "code",
   "execution_count": null,
   "metadata": {},
   "outputs": [],
   "source": []
  },
  {
   "cell_type": "code",
   "execution_count": null,
   "metadata": {},
   "outputs": [],
   "source": []
  }
 ],
 "metadata": {
  "kernelspec": {
   "display_name": "Python 3",
   "language": "python",
   "name": "python3"
  },
  "language_info": {
   "codemirror_mode": {
    "name": "ipython",
    "version": 3
   },
   "file_extension": ".py",
   "mimetype": "text/x-python",
   "name": "python",
   "nbconvert_exporter": "python",
   "pygments_lexer": "ipython3",
   "version": "3.6.3"
  }
 },
 "nbformat": 4,
 "nbformat_minor": 2
}

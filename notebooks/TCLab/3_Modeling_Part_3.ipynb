{
 "cells": [
  {
   "cell_type": "markdown",
   "metadata": {},
   "source": [
    "# Modeling the Temperature Control Laboratory: Part 3"
   ]
  },
  {
   "cell_type": "markdown",
   "metadata": {},
   "source": [
    "## Multivariable Heater/Sensor System\n",
    "\n",
    "\\begin{align}\n",
    "C^H_p\\frac{dT_{H,1}}{dt} & = U_a(T_{amb} - T_{H,1}) + U_c(T_{S,1} - T_{H,1}) + P_1u_1\\\\\n",
    "C^S_p\\frac{dT_{S,1}}{dt} & = U_c(T_{H,1} - T_{S,1}) \n",
    "\\end{align}"
   ]
  },
  {
   "cell_type": "markdown",
   "metadata": {},
   "source": [
    "\\begin{align}\n",
    "\\frac{dT_{H,1}'}{dt} & = -\\frac{U_a+U_c}{C^H_p}T_{H,1} + \\frac{U_c}{C^H_p}T_{S,1}' + P_1u_1\\\\\n",
    "\\frac{dT_{S,1}'}{dt} & = \\frac{U_c}{C^S_p}(T_{H,1}' - T_{S,1}) \n",
    "\\end{align}"
   ]
  },
  {
   "cell_type": "code",
   "execution_count": 109,
   "metadata": {},
   "outputs": [
    {
     "data": {
      "application/vnd.jupyter.widget-view+json": {
       "model_id": "836c12c7a71c47999aeecd31656a5e63",
       "version_major": 2,
       "version_minor": 0
      },
      "text/plain": [
       "A Jupyter Widget"
      ]
     },
     "metadata": {},
     "output_type": "display_data"
    },
    {
     "data": {
      "text/plain": [
       "<function __main__.compare>"
      ]
     },
     "execution_count": 109,
     "metadata": {},
     "output_type": "execute_result"
    }
   ],
   "source": [
    "%matplotlib inline\n",
    "import pandas as pd\n",
    "import matplotlib.pyplot as plt\n",
    "from scipy.integrate import odeint\n",
    "\n",
    "data = pd.read_csv('Step_Test_Data.csv').set_index('Time')[1:]\n",
    "t = data.index\n",
    "T1 = data['T1'].values\n",
    "T2 = data['T2'].values\n",
    "\n",
    "# known parameter values\n",
    "P1 = 4\n",
    "u1 = 0.5   # steady state value of u1 (fraction of total power)\n",
    "P2 = 2\n",
    "u2 = 0.0\n",
    "T_ambient = 21\n",
    "\n",
    "def compare(Ua, Uc, Cp_H, Cp_S):\n",
    "\n",
    "    def deriv(T,t):\n",
    "        T_H1, T_S1 = T\n",
    "        dT_H1 = -(Ua + Uc)*T_H1/Cp_H + Uc*T_S1/Cp_H + P1*u1/Cp_H\n",
    "        dT_S1 = Uc*T_H1/Cp_S - Uc*T_S1/Cp_S\n",
    "        return [dT_H1, dT_S1]\n",
    "\n",
    "    T = odeint(deriv, [0,0], t)\n",
    "\n",
    "    # plot\n",
    "    plt.plot(t, T[:,1] + T_ambient, t, T1)\n",
    "    plt.xlabel('Time / seconds')\n",
    "    plt.ylabel('Temperature / °C')\n",
    "    plt.grid()\n",
    "\n",
    "# parameter values and units\n",
    "P1 = 4                 # watts\n",
    "P2 = 2                 # watts\n",
    "Ua = 0.044             # watts/deg C\n",
    "Ub = 0.018             # watts/deg C\n",
    "Cp = 7                 # joules/deg C\n",
    "\n",
    "interact(compare, Ua=(0,0.06,0.002), Uc=(0,0.06,0.002), Cp_H=(3,11,0.1), Cp_S = (0.1,2,.01))"
   ]
  },
  {
   "cell_type": "code",
   "execution_count": null,
   "metadata": {},
   "outputs": [],
   "source": []
  }
 ],
 "metadata": {
  "kernelspec": {
   "display_name": "Python 3",
   "language": "python",
   "name": "python3"
  },
  "language_info": {
   "codemirror_mode": {
    "name": "ipython",
    "version": 3
   },
   "file_extension": ".py",
   "mimetype": "text/x-python",
   "name": "python",
   "nbconvert_exporter": "python",
   "pygments_lexer": "ipython3",
   "version": "3.6.3"
  }
 },
 "nbformat": 4,
 "nbformat_minor": 2
}

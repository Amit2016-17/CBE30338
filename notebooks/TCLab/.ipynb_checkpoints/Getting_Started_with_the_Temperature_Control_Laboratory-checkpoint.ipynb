{
 "cells": [
  {
   "cell_type": "markdown",
   "metadata": {},
   "source": [
    "# Getting Started with the Temperature Control Laboratory\n",
    "\n",
    "The following cells in this notebook demonstrate the use of the Temperature Control Lab. "
   ]
  },
  {
   "cell_type": "markdown",
   "metadata": {},
   "source": [
    "## TCLab Hardware\n",
    "\n",
    "<img src='images/arduino_lab_kit.png' style=\"float: right;padding-left:30px;\"></img>\n",
    "The Temperature Control Laboratory consists of five components:\n",
    "\n",
    "1. Arduino microcontroller board (Arduino Uno, Arduino Leonardo, or equivalents).\n",
    "\n",
    "2. The Temperature Control Laboratory plug-in board (also known as a shield).\n",
    "\n",
    "3. Five watt USB power supply.\n",
    "\n",
    "4. 5.5mm to USB power supply cable.\n",
    "\n",
    "5. USB 2.0 data cable. (w/mini-USB connector for Arduino Uno, or micro-USB cable for Arduino Leonardo.)\n",
    "\n",
    "Before going further, be sure to complete the steps outlined under *Hardware setup* as described in TCLab [README](https://github.com/jckantor/TCLab/blob/master/README.rst). Mac OS users will need to install a serial driver available [here](https://github.com/adrianmihalko/ch340g-ch34g-ch34x-mac-os-x-driver). Normally the TCLab shield will already be mounted on the Arduino board, and the firmware driver will have been loaded on to the Arduino."
   ]
  },
  {
   "cell_type": "markdown",
   "metadata": {
    "slideshow": {
     "slide_type": "slide"
    }
   },
   "source": [
    "## TCLab Software\n",
    "<img src='images/TCLabOverview.png' style=\"float: left;padding-right:30px;\"></img>\n",
    "**_Jupyter notebooks:_**\n",
    "Examples, lessons, and student projects.\n",
    "\n",
    "**_tclab:_**\n",
    "A package to provide high-level access to sensors, heaters, a pseudo-realtime clock. The package includes `TCLab()` providing access to the device, `clock` for synchronizing with a real time clock, `Historian` for data logging and `Plotter` for realtime plotting.\n",
    "\n",
    "**_sketch.ino:_**\n",
    "Firmware for the intrisically safe operation of the Arduino board and shield.\n",
    "\n",
    "**_Arduino:_**\n",
    "Hardware platform for the Temperature Control Laboratory. Compatiable with Arduino Uno and Arduino Leonardo.\n",
    "\n",
    "Before going further, be sure to install the `tclab` Python drivers. When used for the first time, the `tclab` package is installed with the command line\n",
    "\n",
    "    pip install tclab"
   ]
  },
  {
   "cell_type": "markdown",
   "metadata": {
    "slideshow": {
     "slide_type": "skip"
    }
   },
   "source": [
    "## Connecting to the Temperature Control Laboratory\n",
    "\n",
    "TCLab() attempts to find a device connected to a serial port and returns a connection. An error is generated if no device is found.  The connection should be closed when no longer in use.\n",
    "\n",
    "The following cell demonstrates this process, and uses the tclab `LED()` function to flash the LED on the Temperature Control Lab for a period of 10 seconds at a 100% brightness level. "
   ]
  },
  {
   "cell_type": "code",
   "execution_count": 1,
   "metadata": {},
   "outputs": [
    {
     "name": "stdout",
     "output_type": "stream",
     "text": [
      "Connecting to TCLab\n",
      "TCLab Firmware Version 1.2.1 connected on port /dev/cu.wchusbserial1410\n",
      "TCLab disconnected successfully.\n"
     ]
    }
   ],
   "source": [
    "from tclab import TCLab\n",
    "\n",
    "a = TCLab()\n",
    "a.LED(100)\n",
    "a.close()"
   ]
  },
  {
   "cell_type": "markdown",
   "metadata": {},
   "source": [
    "## Using TCLab with Python's `with` statement\n",
    "\n",
    "The Python `with` statement provides a convenient means of setting up and closing a connection to the Temperature Control Laboratory. In particular, the with statement establishes a context where a tclab instance is created, assigned to a variable, and automatically closed upon completion."
   ]
  },
  {
   "cell_type": "code",
   "execution_count": 2,
   "metadata": {
    "slideshow": {
     "slide_type": "skip"
    }
   },
   "outputs": [
    {
     "name": "stdout",
     "output_type": "stream",
     "text": [
      "Connecting to TCLab\n",
      "TCLab Firmware Version 1.2.1 connected on port /dev/cu.wchusbserial1410\n",
      "TCLab disconnected successfully.\n"
     ]
    }
   ],
   "source": [
    "from tclab import TCLab\n",
    "\n",
    "with TCLab() as a:\n",
    "    a.LED(100)"
   ]
  },
  {
   "cell_type": "markdown",
   "metadata": {},
   "source": [
    "The `with` statement is likely to be the most common way to connect the Temperature Control Laboratory for most uses."
   ]
  },
  {
   "cell_type": "markdown",
   "metadata": {},
   "source": [
    "## Reading Temperatures\n",
    "\n",
    "Once a tclab instance is created and connected to a device, the temperature sensors on the temperature control lab can be acccessed with the attributes `.T1` and `.T2`.  For example, given an instance `a`, the temperatures are accessed as\n",
    "\n",
    "    T1 = a.T1\n",
    "    T2 = a.T2\n",
    "\n",
    "Note that `a.T1` and `a.T2` are read-only properties. Any attempt to set them to a value will return a Python error."
   ]
  },
  {
   "cell_type": "code",
   "execution_count": 3,
   "metadata": {},
   "outputs": [
    {
     "name": "stdout",
     "output_type": "stream",
     "text": [
      "Connecting to TCLab\n",
      "TCLab Firmware Version 1.2.1 connected on port /dev/cu.wchusbserial1410\n",
      "Temperature 1: 22.51 °C\n",
      "Temperature 2: 22.51 °C\n",
      "TCLab disconnected successfully.\n"
     ]
    }
   ],
   "source": [
    "from tclab import TCLab\n",
    "\n",
    "with TCLab() as a:\n",
    "    print(\"Temperature 1: {0:0.2f} °C\".format(a.T1))\n",
    "    print(\"Temperature 2: {0:0.2f} °C\".format(a.T2))"
   ]
  },
  {
   "cell_type": "markdown",
   "metadata": {
    "slideshow": {
     "slide_type": "skip"
    }
   },
   "source": [
    "## Setting Heaters\n",
    "\n",
    "The heaters are controlled by functions`.Q1()` and `.Q2()` of a tclab instance. For example, both heaters can be set to 100% power with the functions\n",
    "\n",
    "    a.Q1(100)\n",
    "    a.Q2(100)\n",
    "\n",
    "The device firmware limits the heaters to a range of 0 to 100%. The current value of attributes may be accessed via\n",
    "\n",
    "    Q1 = a.Q1()\n",
    "    Q2 = a.Q2()\n",
    "    \n",
    "Note that the retrieved values may be different due to the range-limiting enforced by the device firmware."
   ]
  },
  {
   "cell_type": "code",
   "execution_count": 4,
   "metadata": {
    "slideshow": {
     "slide_type": "skip"
    }
   },
   "outputs": [
    {
     "name": "stdout",
     "output_type": "stream",
     "text": [
      "Connecting to TCLab\n",
      "TCLab Firmware Version 1.2.1 connected on port /dev/cu.wchusbserial1410\n",
      "\n",
      "Starting Temperature 1: 22.51 °C\n",
      "Starting Temperature 2: 22.83 °C\n",
      "\n",
      "Set Heater 1: 100.0 %\n",
      "Set Heater 2: 100.0 %\n",
      "\n",
      "Heat for 20 seconds\n",
      "\n",
      "Turn Heaters Off\n",
      "\n",
      "Set Heater 1: 0.0 %\n",
      "Set Heater 2: 0.0 %\n",
      "\n",
      "Final Temperature 1: 24.44 °C\n",
      "Final Temperature 2: 23.48 °C\n",
      "TCLab disconnected successfully.\n"
     ]
    }
   ],
   "source": [
    "from tclab import TCLab\n",
    "import time\n",
    "\n",
    "with TCLab() as a:\n",
    "    print(\"\\nStarting Temperature 1: {0:0.2f} °C\".format(a.T1),flush=True)\n",
    "    print(\"Starting Temperature 2: {0:0.2f} °C\".format(a.T2),flush=True)\n",
    "\n",
    "    a.Q1(100)\n",
    "    a.Q2(100)\n",
    "    print(\"\\nSet Heater 1:\", a.Q1(), \"%\",flush=True)\n",
    "    print(\"Set Heater 2:\", a.Q2(), \"%\",flush=True)\n",
    "    \n",
    "    t_heat = 20\n",
    "    print(\"\\nHeat for\", t_heat, \"seconds\")\n",
    "    time.sleep(t_heat)\n",
    "\n",
    "    print(\"\\nTurn Heaters Off\")\n",
    "    a.Q1(0)\n",
    "    a.Q2(0)\n",
    "    print(\"\\nSet Heater 1:\", a.Q1(), \"%\",flush=True)\n",
    "    print(\"Set Heater 2:\", a.Q2(), \"%\",flush=True)\n",
    "    \n",
    "    print(\"\\nFinal Temperature 1: {0:0.2f} °C\".format(a.T1))\n",
    "    print(\"Final Temperature 2: {0:0.2f} °C\".format(a.T2))"
   ]
  },
  {
   "cell_type": "markdown",
   "metadata": {
    "slideshow": {
     "slide_type": "skip"
    }
   },
   "source": [
    "## Synchronizing with Real Time using `clock`\n",
    "\n",
    "For convenience, the tclab module includes a function `clock` for synchronizing calculations with real time.  `clock(tperiod, tstep)` is a python iterator that generates a sequence of iterations over a period of `tperiod` seconds separated by `tstep` seconds. "
   ]
  },
  {
   "cell_type": "code",
   "execution_count": 13,
   "metadata": {},
   "outputs": [
    {
     "name": "stdout",
     "output_type": "stream",
     "text": [
      "0.0 sec.\n",
      "2.0 sec.\n",
      "4.0 sec.\n",
      "5.99 sec.\n",
      "7.99 sec.\n",
      "9.99 sec.\n"
     ]
    }
   ],
   "source": [
    "from tclab import TCLab, clock\n",
    "\n",
    "tperiod = 10\n",
    "tstep = 2\n",
    "for t in clock(tperiod,tstep):\n",
    "    print(t, \"sec.\")"
   ]
  },
  {
   "cell_type": "markdown",
   "metadata": {},
   "source": [
    "## Using `clock` with TCLab\n",
    "\n",
    "The following example shows how to integrate `clock` for use with TCLab."
   ]
  },
  {
   "cell_type": "code",
   "execution_count": 1,
   "metadata": {},
   "outputs": [
    {
     "name": "stdout",
     "output_type": "stream",
     "text": [
      "Connecting to TCLab\n",
      "TCLab Firmware Version 1.2.1 connected on port /dev/cu.wchusbserial1410\n",
      "0.0 sec.,  19.93 deg C,  20.25 deg C\n",
      "1.0 sec.,  19.93 deg C,  20.25 deg C\n",
      "2.0 sec.,  19.93 deg C,  20.25 deg C\n",
      "3.0 sec.,  19.93 deg C,  20.25 deg C\n",
      "4.0 sec.,  19.61 deg C,  20.25 deg C\n",
      "5.0 sec.,  20.25 deg C,  20.25 deg C\n",
      "6.0 sec.,  19.93 deg C,  20.58 deg C\n",
      "7.0 sec.,  19.93 deg C,  20.58 deg C\n",
      "8.0 sec.,  19.61 deg C,  20.58 deg C\n",
      "9.0 sec.,  19.93 deg C,  20.25 deg C\n",
      "10.0 sec.,  19.93 deg C,  20.58 deg C\n",
      "TCLab disconnected successfully.\n"
     ]
    }
   ],
   "source": [
    "from tclab import TCLab, clock\n",
    "\n",
    "with TCLab() as a:   \n",
    "    for t in clock(10):\n",
    "        print(t,\"sec., \", a.T1,\"deg C, \", a.T2, \"deg C\")"
   ]
  },
  {
   "cell_type": "markdown",
   "metadata": {},
   "source": [
    "## Writing and Reading TCLab Data to a File\n",
    "\n",
    "Storing experimental data within a Jupyter notebook can be risky. Imagine ... you work, debug your experiment and code to finally get the perfect run. Later, you come back to work on your data, rerun the cell and all of the precious data is overwritten!  This can be frustrating.\n",
    "\n",
    "A way to handle this situation is to write experimental data to a file, and read it back later for subsequent analysis."
   ]
  },
  {
   "cell_type": "code",
   "execution_count": 7,
   "metadata": {},
   "outputs": [
    {
     "name": "stdout",
     "output_type": "stream",
     "text": [
      "Connecting to TCLab\n",
      "TCLab Firmware Version 1.2.1 connected on port /dev/cu.wchusbserial1410\n",
      "0.0 sec.,  22.19 deg C,  22.51 deg C\n",
      "1.0 sec.,  22.19 deg C,  22.51 deg C\n",
      "2.0 sec.,  22.19 deg C,  22.51 deg C\n",
      "3.0 sec.,  22.19 deg C,  22.19 deg C\n",
      "4.0 sec.,  22.19 deg C,  22.51 deg C\n",
      "5.0 sec.,  22.19 deg C,  22.83 deg C\n",
      "6.0 sec.,  22.19 deg C,  22.51 deg C\n",
      "7.0 sec.,  22.19 deg C,  22.51 deg C\n",
      "8.0 sec.,  22.19 deg C,  22.51 deg C\n",
      "9.0 sec.,  22.19 deg C,  22.83 deg C\n",
      "10.0 sec.,  22.19 deg C,  22.51 deg C\n",
      "TCLab disconnected successfully.\n"
     ]
    },
    {
     "data": {
      "text/plain": [
       "[<matplotlib.lines.Line2D at 0x119f6c550>]"
      ]
     },
     "execution_count": 7,
     "metadata": {},
     "output_type": "execute_result"
    },
    {
     "data": {
      "image/png": "[encoded data removed]",
      "text/plain": [
       "<matplotlib.figure.Figure at 0x1149db278>"
      ]
     },
     "metadata": {},
     "output_type": "display_data"
    }
   ],
   "source": [
    "from tclab import TCLab, clock\n",
    "\n",
    "tdata = []\n",
    "T1data = []\n",
    "T2data = []\n",
    "\n",
    "with TCLab() as a:  \n",
    "    for t in clock(10):\n",
    "        print(t,\"sec., \", a.T1,\"deg C, \", a.T2, \"deg C\")\n",
    "        tdata.append(t)\n",
    "        T1data.append(a.T1)\n",
    "        T2data.append(a.T2)\n",
    "        \n",
    "%matplotlib inline\n",
    "import matplotlib.pyplot as plt\n",
    "plt.plot(tdata,T1data)"
   ]
  },
  {
   "cell_type": "markdown",
   "metadata": {},
   "source": [
    "## A Simple Thermostat\n",
    "\n",
    "Let's build our first control system. This is a simple on/off thermostat intended to maintain temperature `T1` near a desired setpoint.\n",
    "\n",
    "This cell has been written to print the data within the notebook and to a text data file on your harddrive.  The file is written only if `TCLab()` is successful on opening, which protects you from overwriting previous data if `TCLab()` happends to be unconnected."
   ]
  },
  {
   "cell_type": "code",
   "execution_count": 32,
   "metadata": {
    "scrolled": false
   },
   "outputs": [
    {
     "ename": "IndentationError",
     "evalue": "unindent does not match any outer indentation level (<tokenize>, line 23)",
     "output_type": "error",
     "traceback": [
      "\u001b[0;36m  File \u001b[0;32m\"<tokenize>\"\u001b[0;36m, line \u001b[0;32m23\u001b[0m\n\u001b[0;31m    f.write(t,a.T1)\u001b[0m\n\u001b[0m    ^\u001b[0m\n\u001b[0;31mIndentationError\u001b[0m\u001b[0;31m:\u001b[0m unindent does not match any outer indentation level\n"
     ]
    }
   ],
   "source": [
    "from tclab import TCLab, clock\n",
    "\n",
    "SP = 37     # Setpoint\n",
    "\n",
    "with TCLab() as a:\n",
    "    with open('datafile.txt', 'w') as f:\n",
    "        for t in clock(150, strict=True):\n",
    "            # Measure temperature\n",
    "            T1 = a.T1\n",
    "        \n",
    "            # Compute desired heater power\n",
    "            if T1 < SP:\n",
    "                Q1 = 100\n",
    "            elif T1 >= SP:\n",
    "                Q1 = 0\n",
    "        \n",
    "            # Set heater power\n",
    "            a.Q1(Q1)\n",
    "        \n",
    "            # Record current state\n",
    "            f.write(str(t) + ', ' + str(Q1) + ', ' + str(T1) + '\\n')\n",
    "            print(t, \"sec.\", \"Q1 = \", Q1, \"%\", \"T1 = \", T1, \"deg C\")"
   ]
  },
  {
   "cell_type": "markdown",
   "metadata": {},
   "source": [
    "## Exercises\n",
    "\n",
    "The following cells comprise the first homework submission for the course. Do your work directly inside of this notebook. Please respond to each prompt. Submit your results by uploading this notebook and the datafile created for part 4 to Vocareum. The homework is due at 5pm on Wednesday, January 24th."
   ]
  },
  {
   "cell_type": "markdown",
   "metadata": {},
   "source": [
    "#### 1. Identify your Computer\n",
    "\n",
    "The following cell returns the identity of your computer on the campus network. We use to help validate your response to the exercises. Simply execute this cell so the results appear in your homework submission."
   ]
  },
  {
   "cell_type": "code",
   "execution_count": 19,
   "metadata": {},
   "outputs": [
    {
     "name": "stdout",
     "output_type": "stream",
     "text": [
      "jeffreys-mbp.dhcp.nd.edu\n"
     ]
    }
   ],
   "source": [
    "import platform\n",
    "print(platform.node())"
   ]
  },
  {
   "cell_type": "markdown",
   "metadata": {},
   "source": [
    "#### 2. Temperature Control Lab\n",
    "\n",
    "In the first lecture and in the first chapter of the textbook the terms Controlled Variables (CV), Manipulated Variables (MV), and Setpoints (SP) were defined. For the Temperature Control Lab, what are:\n",
    "\n",
    "* Controlled Variables (CV)?\n",
    "* Measured Variables?\n",
    "* Manipulated Variables (MV)?\n",
    "\n",
    "List at least two disturbance variables to which this device may be susceptable.\n",
    "\n",
    "Your Answers:"
   ]
  },
  {
   "cell_type": "markdown",
   "metadata": {},
   "source": [
    "#### 3. Python Coding\n",
    "\n",
    "For process control, it is common practice to write the control algorithm as a separate function that can be tested and verified. For the case of the thermostat, write a simple python function named `thermostat(Tsp,Tmeas)` that takes a setpoint argument and a current temperature measurement and returns the heater input.\n",
    "\n",
    "If it's working properly, then \n",
    "\n",
    "    thermostat(37,25) \n",
    "    \n",
    "should return a value of 100, and \n",
    "\n",
    "    thermostat(40,43)\n",
    "    \n",
    "should return a value of 0.  The function definition should appear in the following cell."
   ]
  },
  {
   "cell_type": "code",
   "execution_count": null,
   "metadata": {},
   "outputs": [],
   "source": []
  },
  {
   "cell_type": "markdown",
   "metadata": {},
   "source": [
    "#### 4. Thermostat Control for Temperature $T_2$\n",
    "\n",
    "Repeat the thermostat control experiment, but using temperature $T_2$ and heater $Q_2$. Use the thermostat function you wrote for part 3. How do the results compare? What would explain the difference that you see?\n",
    "\n",
    "Hint:  Write your script in the cell below, and execute. "
   ]
  },
  {
   "cell_type": "code",
   "execution_count": null,
   "metadata": {},
   "outputs": [],
   "source": []
  }
 ],
 "metadata": {
  "kernelspec": {
   "display_name": "Python 3",
   "language": "python",
   "name": "python3"
  },
  "language_info": {
   "codemirror_mode": {
    "name": "ipython",
    "version": 3
   },
   "file_extension": ".py",
   "mimetype": "text/x-python",
   "name": "python",
   "nbconvert_exporter": "python",
   "pygments_lexer": "ipython3",
   "version": "3.6.3"
  }
 },
 "nbformat": 4,
 "nbformat_minor": 2
}

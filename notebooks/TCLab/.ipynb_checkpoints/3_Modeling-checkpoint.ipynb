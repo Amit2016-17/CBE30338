{
 "cells": [
  {
   "cell_type": "markdown",
   "metadata": {},
   "source": [
    "## Single Heater/Sensor\n",
    "\n",
    "A single-input, single-output model for the first heater/sensor pair can be written as\n",
    "\n",
    "\\begin{align}\n",
    "C^H_p\\frac{dT^H_1}{dt} & = U_H(T_{env} - T^H_1) + Q_1  \\\\\n",
    "C^S_p\\frac{dT^S_1}{dt} & = K(T^H_1 - T^S_1) + U_S(T_{env} - T^S_1)\n",
    "\\end{align}\n",
    "\n",
    "where superscripts $H$ and $S$ refer to the heater and sensor, respectively. A model for the second heater/sensor pair has the same form with a corresponding change in subscripts. $C^H_p$ and $C^S_p$ are the gross heat capacities of the heater and sensor, respectively, $U_H$ and $U_S$ are the gross heat transfer coefficients of the heater and sensor for ente\n",
    "\n",
    "Standard Linear Form\n",
    "\n",
    "\\begin{align}\n",
    "\\frac{dT^H_1}{dt} & = \\frac{U_1}{\\rho C^H_p}(T_{env} - T^H_1) + \\frac{\\alpha}{\\rho C^H_p} Q_1  \\\\\n",
    "\\frac{dT^S_1}{dt} & = \\frac{U_2}{\\rho C^S_p}(T^H_1 - T^S_1) + \\frac{U_3}{\\rho C^S_p}(T_{env} - T^S_1)\n",
    "\\end{align}\n",
    "\n",
    "State-Space \n",
    "\n",
    "\\begin{align}\n",
    "\\frac{d}{dt}\\left[\\begin{array}{c}T^H_1 \\\\ T^S_1\\end{array}\\right] & = \\left[\\begin{array}{cc} -\\frac{U_1}{\\rho C^H_p} & 0 \\\\ \\frac{U_2}{\\rho C^S_p} & -\\left(\\frac{U_2}{\\rho C^S_p} + \\frac{U_3}{\\rho C^S_p}\\right) \\end{array}\\right]\\left[\\begin{array}{c}T^H_1 \\\\ T^S_1\\end{array}\\right] + \\left[\\begin{array}{cc}\\frac{\\alpha}{\\rho C^H_p} \\\\ 0\\end{array}\\right] Q_1 + \\left[\\begin{array}{cc}\\frac{U_1}{\\rho C^S_p} \\\\ \\frac{U_3}{\\rho C^S_p}\\end{array}\\right] T_{env}\n",
    "\\end{align} \n",
    "\n",
    "\n",
    "The model is somewhat less cumbersome to write if we use the environmental temperature as the reference for the temperatures of the heater and sensor\n",
    "\n",
    "\\begin{align}\n",
    "\\tilde{T}^H_1 & = T^H_1 - T_{env} \\\\\n",
    "\\tilde{T}^S_1 & = T^S_1 - T_{env}\n",
    "\\end{align}\n",
    "\n",
    "which leaves\n",
    "\n",
    "\\begin{align}\n",
    "\\frac{d\\tilde{T}^H_1}{dt} & = -\\frac{U_1}{\\rho C^H_p}\\tilde{T}^H_1 + \\frac{\\alpha}{\\rho C^H_p} Q_1  \\\\\n",
    "\\frac{d\\tilde{T}^S_1}{dt} & = \\frac{U_2}{\\rho C^S_p}(\\tilde{T}^H_1 - \\tilde{T}^S_1) - \\frac{U_3}{\\rho C^S_p}\\tilde{T}^S_1\n",
    "\\end{align}\n",
    "\n",
    "or in state space form,\n",
    "\n",
    "\\begin{align}\n",
    "\\frac{d}{dt}\\left[\\begin{array}{c}\\tilde{T}^H_1 \\\\ \\tilde{T}^S_1\\end{array}\\right] & = \\left[\\begin{array}{cc} -\\frac{U_1}{\\rho C^H_p} & 0 \\\\ \\frac{U_2}{\\rho C^S_p} & -\\left(\\frac{U_2}{\\rho C^S_p} + \\frac{U_3}{\\rho C^S_p}\\right) \\end{array}\\right]\n",
    "\\left[\\begin{array}{c}\\tilde{T}^H_1 \\\\ \\tilde{T}^S_1\\end{array}\\right]\n",
    "+ \\left[\\begin{array}{cc}\\frac{\\alpha}{\\rho C^H_p} \\\\ 0\\end{array}\\right] Q_1\n",
    "\\end{align} \n",
    "\n",
    "The heater temperature $\\tilde{T}^H_1$ is unmeasured. For the purpose of constructing a single-input single-output model, the state space model with measurement $\\tilde{T}^S_1$ is given by \n",
    "\n",
    "\\begin{align}\n",
    "\\frac{d}{dt}\\left[\\begin{array}{c}\\tilde{T}^H_1 \\\\ \\tilde{T}^S_1\\end{array}\\right] & = \\left[\\begin{array}{cc} -\\frac{U_1}{\\rho C^H_p} & 0 \\\\ \\frac{U_2}{\\rho C^S_p} & -\\left(\\frac{U_2}{\\rho C^S_p} + \\frac{U_3}{\\rho C^S_p}\\right) \\end{array}\\right]\n",
    "\\left[\\begin{array}{c}\\tilde{T}^H_1 \\\\ \\tilde{T}^S_1\\end{array}\\right]\n",
    "+ \\left[\\begin{array}{cc}\\frac{\\alpha}{\\rho C^H_p} \\\\ 0\\end{array}\\right] Q_1 \\\\\n",
    "\\left[\\begin{array}{c}\\tilde{T}^S_1\\end{array}\\right] & = \\left[\\begin{array}{cc} 0 & 1 \\end{array}\\right]\n",
    "\\left[\\begin{array}{c}\\tilde{T}^H_1 \\\\ \\tilde{T}^S_1\\end{array}\\right]\n",
    "+ \\left[\\begin{array}{cc} 0\\end{array}\\right] Q_1\n",
    "\\end{align} \n",
    "\n",
    "A linear state-space model in standard form is given\n",
    "\n",
    "\\begin{align}\n",
    "\\frac{dx}{dt} & = Ax + Bu \\\\\n",
    "y & = Cx + Du\n",
    "\\end{align} \n",
    "\n",
    "\\begin{align}\n",
    "A & = \\left[\\begin{array}{cc} -\\frac{U_1}{\\rho C^H_p} & 0 \\\\ \\frac{U_2}{\\rho C^S_p} & -\\left(\\frac{U_2}{\\rho C^S_p} + \\frac{U_3}{\\rho C^S_p}\\right) \\end{array}\\right] \\\\\n",
    "B & = \\left[\\begin{array}{cc}\\frac{\\alpha}{\\rho C^H_p} \\\\ 0\\end{array}\\right] \\\\\n",
    "C & = \\left[\\begin{array}{cc} 0 & 1 \\end{array}\\right] \\\\\n",
    "D & = \\left[\\begin{array}{cc} 0\\end{array}\\right]\n",
    "\\end{align} \n",
    "\n"
   ]
  },
  {
   "cell_type": "markdown",
   "metadata": {},
   "source": [
    "## Multivariable Heater/Sensor\n",
    "\n",
    "\\begin{align}\n",
    "\\rho C^H_p\\frac{dT^H_1}{dt} & = U_1(T_{env} - T^H_1)  + U_4(T^H_2 - T^H_1) + \\alpha Q_1\\\\\n",
    "\\rho C^S_p\\frac{dT^S_1}{dt} & = U_2(T^H_1 - T^S_1) + U_3(T_{env} - T^S_1)\\\\\n",
    "\\rho C^H_p\\frac{dT^H_2}{dt} & = U_1(T_{env} - T^H_2) + U_4(T^H_1 - T^H_2) + \\alpha Q_2  \\\\\n",
    "\\rho C^S_p\\frac{dT^S_2}{dt} & = U_2(T^H_2 - T^S_2) + U_3(T_{env} - T^S_2)\n",
    "\\end{align}"
   ]
  },
  {
   "cell_type": "code",
   "execution_count": null,
   "metadata": {
    "collapsed": true
   },
   "outputs": [],
   "source": []
  }
 ],
 "metadata": {
  "kernelspec": {
   "display_name": "Python 3",
   "language": "python",
   "name": "python3"
  },
  "language_info": {
   "codemirror_mode": {
    "name": "ipython",
    "version": 3
   },
   "file_extension": ".py",
   "mimetype": "text/x-python",
   "name": "python",
   "nbconvert_exporter": "python",
   "pygments_lexer": "ipython3",
   "version": "3.6.3"
  }
 },
 "nbformat": 4,
 "nbformat_minor": 2
}

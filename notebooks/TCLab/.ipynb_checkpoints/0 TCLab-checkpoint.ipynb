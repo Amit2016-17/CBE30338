{
 "cells": [
  {
   "cell_type": "markdown",
   "metadata": {},
   "source": [
    "# TCLab\n",
    "\n",
    "\n",
    "### Experiments\n",
    "\n",
    " 1. Getting Started with the Temperature Control Laboratory\n",
    " 1. Relay Control\n",
    " 1. Fitting a Model to Step Test Data\n",
    " 1. Single Variable PID Control\n",
    " 1. Closed-Loop Stability\n",
    " 1. Cascade Control\n",
    " 1. Multivariable Control\n",
    " 1. State Estimation\n",
    " 1. Optimal Control\n",
    " 1. Model Predictive Control\n",
    " 1. Nonlinear Control\n",
    " 1. Economic Optimization"
   ]
  },
  {
   "cell_type": "code",
   "execution_count": null,
   "metadata": {},
   "outputs": [],
   "source": []
  }
 ],
 "metadata": {
  "kernelspec": {
   "display_name": "Python 3",
   "language": "python",
   "name": "python3"
  },
  "language_info": {
   "codemirror_mode": {
    "name": "ipython",
    "version": 3
   },
   "file_extension": ".py",
   "mimetype": "text/x-python",
   "name": "python",
   "nbconvert_exporter": "python",
   "pygments_lexer": "ipython3",
   "version": "3.6.3"
  }
 },
 "nbformat": 4,
 "nbformat_minor": 2
}

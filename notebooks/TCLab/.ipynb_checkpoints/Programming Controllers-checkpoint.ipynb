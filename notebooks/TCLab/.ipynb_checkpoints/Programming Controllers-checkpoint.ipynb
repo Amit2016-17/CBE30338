{
 "cells": [
  {
   "cell_type": "markdown",
   "metadata": {},
   "source": [
    "# Programming Controllers\n",
    "\n",
    "Controllers are a unique bit of software. Like a typical function used in scientific/engineering programming, a control algorithm processes data to produce a numerical result. But unlike typical scientific programming, a controller:\n",
    "\n",
    "* will generally require memory of past calculations,\n",
    "* create many instances of itself with different parameter values for large-scale applications,\n",
    "* may operate asynchronously.\n",
    "\n",
    "Fortunately, modern programming languages provide features well suited to these requirements. In Python, for example, we might consider implementing controllers\n",
    "\n",
    "* as classes\n",
    "* as generators\n",
    "* as asynchronous coroutines\n",
    "* as threads"
   ]
  },
  {
   "cell_type": "code",
   "execution_count": null,
   "metadata": {},
   "outputs": [],
   "source": []
  }
 ],
 "metadata": {
  "kernelspec": {
   "display_name": "Python 3",
   "language": "python",
   "name": "python3"
  },
  "language_info": {
   "codemirror_mode": {
    "name": "ipython",
    "version": 3
   },
   "file_extension": ".py",
   "mimetype": "text/x-python",
   "name": "python",
   "nbconvert_exporter": "python",
   "pygments_lexer": "ipython3",
   "version": "3.6.3"
  }
 },
 "nbformat": 4,
 "nbformat_minor": 2
}

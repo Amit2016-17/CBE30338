{
 "cells": [
  {
   "cell_type": "code",
   "execution_count": 1,
   "metadata": {
    "scrolled": false
   },
   "outputs": [
    {
     "name": "stdout",
     "output_type": "stream",
     "text": [
      "Looking for Arduino on  ...\n",
      "Arduino Leonardo found on port /dev/cu.usbmodemWUAR1\n",
      "\n",
      "Testing TCLab object in debug mode\n",
      "----------------------------------\n",
      "TCLab version 0.4.5dev\n",
      "Sent: \"Q1 0\"\n",
      "Return: \"0\"\n",
      "Sent: \"VER\"\n",
      "Return: \"TCLab Firmware 1.3.0 Arduino Leonardo/Micro\"\n",
      "Arduino Leonardo connected on port /dev/cu.usbmodemWUAR1 at 115200 baud.\n",
      "TCLab Firmware 1.3.0 Arduino Leonardo/Micro.\n",
      "Sent: \"Q2 0\"\n",
      "Return: \"0\"\n",
      "Reading temperature\n",
      "Sent: \"T1\"\n",
      "Return: \"26.71\"\n",
      "26.71\n",
      "Sent: \"Q1 0\"\n",
      "Return: \"0\"\n",
      "Sent: \"Q2 0\"\n",
      "Return: \"0\"\n",
      "Sent: \"X\"\n",
      "Return: \"X\"\n",
      "TCLab disconnected successfully.\n",
      "\n",
      "Testing TCLab functions\n",
      "-----------------------\n",
      "TCLab version 0.4.5dev\n",
      "Arduino Leonardo connected on port /dev/cu.usbmodemWUAR1 at 115200 baud.\n",
      "TCLab Firmware 1.3.0 Arduino Leonardo/Micro.\n",
      "Testing LED. Should turn on for 10 seconds.\n",
      "Countdown: 0  \n",
      "\n",
      "Reading temperatures\n",
      "T1 = 26.71 °C, T2 = 25.1 °C\n",
      "\n",
      "We will now turn on the heaters, wait 30 seconds and see if the temperatures have gone up. \n",
      "Countdown: 0   \n",
      "\n",
      "T1 started a 26.71 °C and went to 31.22 °C\n",
      "T2 started a 25.1 °C and went to 28.32 °C\n",
      "\n",
      "TCLab disconnected successfully.\n",
      "\n",
      "Diagnostics complete\n"
     ]
    }
   ],
   "source": [
    "import tclab\n",
    "\n",
    "tclab.diagnose('/dev/')"
   ]
  },
  {
   "cell_type": "code",
   "execution_count": null,
   "metadata": {},
   "outputs": [],
   "source": []
  }
 ],
 "metadata": {
  "kernelspec": {
   "display_name": "Python 3",
   "language": "python",
   "name": "python3"
  },
  "language_info": {
   "codemirror_mode": {
    "name": "ipython",
    "version": 3
   },
   "file_extension": ".py",
   "mimetype": "text/x-python",
   "name": "python",
   "nbconvert_exporter": "python",
   "pygments_lexer": "ipython3",
   "version": "3.6.4"
  }
 },
 "nbformat": 4,
 "nbformat_minor": 2
}
